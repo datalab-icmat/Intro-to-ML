{
  "nbformat": 4,
  "nbformat_minor": 0,
  "metadata": {
    "colab": {
      "provenance": []
    },
    "kernelspec": {
      "name": "ir",
      "display_name": "R"
    },
    "language_info": {
      "name": "R"
    },
    "accelerator": "GPU"
  },
  "cells": [
    {
      "cell_type": "markdown",
      "metadata": {
        "id": "yMl0nwgHvHHi"
      },
      "source": [
        "# CONECTAR DRIVE CON GOOGLE COLAB\n",
        "\n",
        "\n",
        "\n",
        "\n",
        "En este cuaderno se muestra como es posible conectar Google Colab con kernel de R con Google Drive. Esta funcionalidad es muy útil para utilizar con rápidez grandes archivos de datos. Para conectar drive con google colab, utilizaremos el la librería *googledrive* de R."
      ]
    },
    {
      "cell_type": "code",
      "metadata": {
        "colab": {
          "base_uri": "https://localhost:8080/"
        },
        "id": "Ufggqyb-BlNx",
        "outputId": "f044f0cc-7195-4f8c-eb82-e15f6567c0f0"
      },
      "source": [
        "install.packages(\"googledrive\")\n",
        "library(\"googledrive\")\n",
        "library(\"googlesheets4\")"
      ],
      "execution_count": null,
      "outputs": [
        {
          "output_type": "stream",
          "text": [
            "Installing package into ‘/usr/local/lib/R/site-library’\n",
            "(as ‘lib’ is unspecified)\n",
            "\n",
            "\n",
            "Attaching package: ‘googlesheets4’\n",
            "\n",
            "\n",
            "The following objects are masked from ‘package:googledrive’:\n",
            "\n",
            "    request_generate, request_make\n",
            "\n",
            "\n"
          ],
          "name": "stderr"
        }
      ]
    },
    {
      "cell_type": "markdown",
      "metadata": {
        "id": "BoQnQFKuyROM"
      },
      "source": [
        "Para documentación sobre la libreria 'googledrive', utilizar la siguiente línea de código."
      ]
    },
    {
      "cell_type": "code",
      "metadata": {
        "id": "fbMY_xAXxho7"
      },
      "source": [
        "help(googledrive)"
      ],
      "execution_count": null,
      "outputs": []
    },
    {
      "cell_type": "markdown",
      "metadata": {
        "id": "OQES8C-fwXOS"
      },
      "source": [
        "Instalamos las librerias necesarias y configuramos el cuaderno para el correcto funcionamiento de la librería 'googledrive'."
      ]
    },
    {
      "cell_type": "code",
      "metadata": {
        "colab": {
          "base_uri": "https://localhost:8080/"
        },
        "id": "B6WIOJ-XB6qj",
        "outputId": "a74ea573-0399-4e3a-e065-6c467827bf05"
      },
      "source": [
        "install.packages(\"R.utils\")\n",
        "library(\"R.utils\")\n",
        "library(\"httr\")\n",
        "my_check <- function() {return(TRUE)}\n",
        "reassignInPackage(\"is_interactive\", pkgName = \"httr\", my_check) \n",
        "options(rlang_interactive=TRUE)"
      ],
      "execution_count": null,
      "outputs": [
        {
          "output_type": "stream",
          "text": [
            "Installing package into ‘/usr/local/lib/R/site-library’\n",
            "(as ‘lib’ is unspecified)\n",
            "\n",
            "also installing the dependencies ‘R.oo’, ‘R.methodsS3’\n",
            "\n",
            "\n",
            "Loading required package: R.oo\n",
            "\n",
            "Loading required package: R.methodsS3\n",
            "\n",
            "R.methodsS3 v1.8.1 (2020-08-26 16:20:06 UTC) successfully loaded. See ?R.methodsS3 for help.\n",
            "\n",
            "R.oo v1.24.0 (2020-08-26 16:11:58 UTC) successfully loaded. See ?R.oo for help.\n",
            "\n",
            "\n",
            "Attaching package: ‘R.oo’\n",
            "\n",
            "\n",
            "The following object is masked from ‘package:R.methodsS3’:\n",
            "\n",
            "    throw\n",
            "\n",
            "\n",
            "The following objects are masked from ‘package:methods’:\n",
            "\n",
            "    getClasses, getMethods\n",
            "\n",
            "\n",
            "The following objects are masked from ‘package:base’:\n",
            "\n",
            "    attach, detach, load, save\n",
            "\n",
            "\n",
            "R.utils v2.10.1 (2020-08-26 22:50:31 UTC) successfully loaded. See ?R.utils for help.\n",
            "\n",
            "\n",
            "Attaching package: ‘R.utils’\n",
            "\n",
            "\n",
            "The following object is masked from ‘package:utils’:\n",
            "\n",
            "    timestamp\n",
            "\n",
            "\n",
            "The following objects are masked from ‘package:base’:\n",
            "\n",
            "    cat, commandArgs, getOption, inherits, isOpen, nullfile, parse,\n",
            "    warnings\n",
            "\n",
            "\n"
          ],
          "name": "stderr"
        }
      ]
    },
    {
      "cell_type": "markdown",
      "metadata": {
        "id": "vXe0JO8rws0G"
      },
      "source": [
        "A continuación, verificamos las credenciales de nuestra cuenta de Drive."
      ]
    },
    {
      "cell_type": "code",
      "metadata": {
        "colab": {
          "base_uri": "https://localhost:8080/"
        },
        "id": "UPP8Y0ByCG0c",
        "outputId": "4d1794f4-4f7a-4649-9a16-402938ba997a"
      },
      "source": [
        "drive_auth(use_oob = TRUE, cache = TRUE)"
      ],
      "execution_count": null,
      "outputs": [
        {
          "output_type": "stream",
          "text": [
            "Please point your browser to the following url: \n",
            "\n",
            "https://accounts.google.com/o/oauth2/auth?client_id=603366585132-dpeg5tt0et3go5of2374d83ifevk5086.apps.googleusercontent.com&scope=https%3A%2F%2Fwww.googleapis.com%2Fauth%2Fdrive%20https%3A%2F%2Fwww.googleapis.com%2Fauth%2Fuserinfo.email&redirect_uri=urn%3Aietf%3Awg%3Aoauth%3A2.0%3Aoob&response_type=code\n",
            "\n"
          ],
          "name": "stderr"
        },
        {
          "output_type": "stream",
          "text": [
            "Enter authorization code: 4/1AY0e-g5-0I67tjbNi5fWozuzil-eO7DZXyzNvWbeAAQRHhyi2qoIvJLfgQ4\n"
          ],
          "name": "stdout"
        }
      ]
    },
    {
      "cell_type": "markdown",
      "metadata": {
        "id": "UMUq0H1UxSgF"
      },
      "source": [
        "Una vez que estamos conectados a nuestro drive, es posible ver los archivos usando la función *drive_ls*. "
      ]
    },
    {
      "cell_type": "code",
      "metadata": {
        "id": "WLbdPI63yChN"
      },
      "source": [
        "drive_ls()"
      ],
      "execution_count": null,
      "outputs": []
    },
    {
      "cell_type": "markdown",
      "metadata": {
        "id": "ZsfyaSpkyDLA"
      },
      "source": [
        "Esta función permite ver los archivos dentro de cualquier directorio. Solo es necesario inserir el nombre del directorio que se quiere inspeccionar."
      ]
    },
    {
      "cell_type": "code",
      "metadata": {
        "id": "6CWvW-LpKNOw",
        "colab": {
          "base_uri": "https://localhost:8080/",
          "height": 698
        },
        "outputId": "33671aa7-d694-4d25-d334-efc9427483ae"
      },
      "source": [
        "drive_ls('fraud_data')"
      ],
      "execution_count": null,
      "outputs": [
        {
          "output_type": "display_data",
          "data": {
            "text/plain": [
              "  name            id                               \n",
              "1 test_fraud.csv  1KTj3Kv5Puxk180IAb_zR7PTeCwkjKmVy\n",
              "2 train_fraud.csv 15FWswumis8A22CbxS-UG6nOrhwDUKmRv\n",
              "  drive_resource                                                                                                                                                                                                                                                                                                                                                                                                                                                                                                                                                                                                                                                                                                                                                                                                                                                                                                                                                                                                                                                                                                                                                                                                                                                                                                                                                                                                                                                                                                                                                                                                                                                                                                                                                                                                                                                                                                                                                                                                                                                                                                                                                                                                                                                                                                                                                                                                                                                                                                                                                                                                                                                                                                                                                                                                                                                                                                                                                                                                                                                                                                                                                                                                                                                                                                                                                                                                                                                                                                                                                                                                                                                                                                                                                                                                                                                                                                                                                                                                                                                                                                                                                                                                                                                                                                                                                                                                                                                                                                                                                                                                                                                                                                                                                                                                                                                                                                                                                                                                                                                                                                                                                                                                                                                                                                                                                                                                                                                                                                                                                                                                                                                                                                                                                                                                                                                                                                                                                                                                                                                                                                                                                                                                                                                                                                                                                                                                                                                                                                                                                                                                                                                                                                                                                                                                                                                                                                                                                                                                                                                                                                                                                                                                  \n",
              "1 drive#file                                                                              , 1KTj3Kv5Puxk180IAb_zR7PTeCwkjKmVy                                                       , test_fraud.csv                                                                          , text/csv                                                                                , FALSE                                                                                   , FALSE                                                                                   , FALSE                                                                                   , 1bdEv7228WWQY5tvYqsyuWucXp4-Xmq-_                                                       , drive                                                                                   , 4                                                                                       , https://drive.google.com/uc?id=1KTj3Kv5Puxk180IAb_zR7PTeCwkjKmVy&export=download        , https://drive.google.com/file/d/1KTj3Kv5Puxk180IAb_zR7PTeCwkjKmVy/view?usp=drivesdk     , https://drive-thirdparty.googleusercontent.com/16/type/text/csv                         , FALSE                                                                                   , 0                                                                                       , TRUE                                                                                    , 2021-04-22T11:22:33.920Z                                                                , 2021-04-21T22:14:49.084Z                                                                , 2019-04-20T11:54:16.000Z                                                                , 2019-04-20T11:54:16.000Z                                                                , TRUE                                                                                    , drive#user                                                                              , José Manuel Camacho Rodríguez                                                           , https://lh3.googleusercontent.com/a-/AOh14GifJfcFc0UtZGBVPfcOS0kLkC22boQ1Vk6f4WItKgg=s64, TRUE                                                                                    , 09731181624600799963                                                                    , josemanuelcamachorodriguez@gmail.com                                                    , drive#user                                                                              , José Manuel Camacho Rodríguez                                                           , https://lh3.googleusercontent.com/a-/AOh14GifJfcFc0UtZGBVPfcOS0kLkC22boQ1Vk6f4WItKgg=s64, TRUE                                                                                    , 09731181624600799963                                                                    , josemanuelcamachorodriguez@gmail.com                                                    , FALSE                                                                                   , TRUE                                                                                    , FALSE                                                                                   , FALSE                                                                                   , TRUE                                                                                    , TRUE                                                                                    , TRUE                                                                                    , TRUE                                                                                    , TRUE                                                                                    , TRUE                                                                                    , TRUE                                                                                    , FALSE                                                                                   , TRUE                                                                                    , FALSE                                                                                   , TRUE                                                                                    , TRUE                                                                                    , TRUE                                                                                    , TRUE                                                                                    , FALSE                                                                                   , TRUE                                                                                    , TRUE                                                                                    , TRUE                                                                                    , TRUE                                                                                    , TRUE                                                                                    , TRUE                                                                                    , FALSE                                                                                   , TRUE                                                                                    , drive#permission                                                                        , 09731181624600799963                                                                    , user                                                                                    , josemanuelcamachorodriguez@gmail.com                                                    , owner                                                                                   , José Manuel Camacho Rodríguez                                                           , https://lh3.googleusercontent.com/a-/AOh14GifJfcFc0UtZGBVPfcOS0kLkC22boQ1Vk6f4WItKgg=s64, FALSE                                                                                   , 09731181624600799963                                                                    , test_fraud.csv                                                                          , csv                                                                                     , csv                                                                                     , 7a2ca28ebfc2ca04d3d1f41ffd43ae48                                                        , 55025367                                                                                , 55025367                                                                                , 0B7-3jA-6IhdsK28rVXcrSGhMazRFTmJTb1NtRW50aGIzWHJVPQ                                     , FALSE                                                                                   \n",
              "2 drive#file                                                                              , 15FWswumis8A22CbxS-UG6nOrhwDUKmRv                                                       , train_fraud.csv                                                                         , text/csv                                                                                , FALSE                                                                                   , FALSE                                                                                   , FALSE                                                                                   , 1bdEv7228WWQY5tvYqsyuWucXp4-Xmq-_                                                       , drive                                                                                   , 1                                                                                       , https://drive.google.com/uc?id=15FWswumis8A22CbxS-UG6nOrhwDUKmRv&export=download        , https://drive.google.com/file/d/15FWswumis8A22CbxS-UG6nOrhwDUKmRv/view?usp=drivesdk     , https://drive-thirdparty.googleusercontent.com/16/type/text/csv                         , FALSE                                                                                   , 0                                                                                       , TRUE                                                                                    , 2021-04-21T22:14:59.609Z                                                                , 2021-04-21T22:14:59.609Z                                                                , 2019-04-20T11:54:31.000Z                                                                , 2019-04-20T11:54:31.000Z                                                                , TRUE                                                                                    , drive#user                                                                              , José Manuel Camacho Rodríguez                                                           , https://lh3.googleusercontent.com/a-/AOh14GifJfcFc0UtZGBVPfcOS0kLkC22boQ1Vk6f4WItKgg=s64, TRUE                                                                                    , 09731181624600799963                                                                    , josemanuelcamachorodriguez@gmail.com                                                    , drive#user                                                                              , José Manuel Camacho Rodríguez                                                           , https://lh3.googleusercontent.com/a-/AOh14GifJfcFc0UtZGBVPfcOS0kLkC22boQ1Vk6f4WItKgg=s64, TRUE                                                                                    , 09731181624600799963                                                                    , josemanuelcamachorodriguez@gmail.com                                                    , FALSE                                                                                   , TRUE                                                                                    , FALSE                                                                                   , FALSE                                                                                   , TRUE                                                                                    , TRUE                                                                                    , TRUE                                                                                    , TRUE                                                                                    , TRUE                                                                                    , TRUE                                                                                    , TRUE                                                                                    , FALSE                                                                                   , TRUE                                                                                    , FALSE                                                                                   , TRUE                                                                                    , TRUE                                                                                    , TRUE                                                                                    , TRUE                                                                                    , FALSE                                                                                   , TRUE                                                                                    , TRUE                                                                                    , TRUE                                                                                    , TRUE                                                                                    , TRUE                                                                                    , TRUE                                                                                    , FALSE                                                                                   , TRUE                                                                                    , drive#permission                                                                        , 09731181624600799963                                                                    , user                                                                                    , josemanuelcamachorodriguez@gmail.com                                                    , owner                                                                                   , José Manuel Camacho Rodríguez                                                           , https://lh3.googleusercontent.com/a-/AOh14GifJfcFc0UtZGBVPfcOS0kLkC22boQ1Vk6f4WItKgg=s64, FALSE                                                                                   , 09731181624600799963                                                                    , train_fraud.csv                                                                         , csv                                                                                     , csv                                                                                     , f475028587f1631e83bdba6a75487452                                                        , 55069415                                                                                , 55069415                                                                                , 0B7-3jA-6IhdsdXUyZC9uVldpUEoraXliWmZ3bVZKamNINDBzPQ                                     , FALSE                                                                                   "
            ],
            "text/latex": "A dribble: 2 × 3\n\\begin{tabular}{r|lll}\n  & name & id & drive\\_resource\\\\\n  & <chr> & <chr> & <list>\\\\\n\\hline\n\t1 & test\\_fraud.csv  & 1KTj3Kv5Puxk180IAb\\_zR7PTeCwkjKmVy & drive\\#file                                                                              , 1KTj3Kv5Puxk180IAb\\_zR7PTeCwkjKmVy                                                       , test\\_fraud.csv                                                                          , text/csv                                                                                , FALSE                                                                                   , FALSE                                                                                   , FALSE                                                                                   , 1bdEv7228WWQY5tvYqsyuWucXp4-Xmq-\\_                                                       , drive                                                                                   , 4                                                                                       , https://drive.google.com/uc?id=1KTj3Kv5Puxk180IAb\\_zR7PTeCwkjKmVy\\&export=download        , https://drive.google.com/file/d/1KTj3Kv5Puxk180IAb\\_zR7PTeCwkjKmVy/view?usp=drivesdk     , https://drive-thirdparty.googleusercontent.com/16/type/text/csv                         , FALSE                                                                                   , 0                                                                                       , TRUE                                                                                    , 2021-04-22T11:22:33.920Z                                                                , 2021-04-21T22:14:49.084Z                                                                , 2019-04-20T11:54:16.000Z                                                                , 2019-04-20T11:54:16.000Z                                                                , TRUE                                                                                    , drive\\#user                                                                              , José Manuel Camacho Rodríguez                                                           , https://lh3.googleusercontent.com/a-/AOh14GifJfcFc0UtZGBVPfcOS0kLkC22boQ1Vk6f4WItKgg=s64, TRUE                                                                                    , 09731181624600799963                                                                    , josemanuelcamachorodriguez@gmail.com                                                    , drive\\#user                                                                              , José Manuel Camacho Rodríguez                                                           , https://lh3.googleusercontent.com/a-/AOh14GifJfcFc0UtZGBVPfcOS0kLkC22boQ1Vk6f4WItKgg=s64, TRUE                                                                                    , 09731181624600799963                                                                    , josemanuelcamachorodriguez@gmail.com                                                    , FALSE                                                                                   , TRUE                                                                                    , FALSE                                                                                   , FALSE                                                                                   , TRUE                                                                                    , TRUE                                                                                    , TRUE                                                                                    , TRUE                                                                                    , TRUE                                                                                    , TRUE                                                                                    , TRUE                                                                                    , FALSE                                                                                   , TRUE                                                                                    , FALSE                                                                                   , TRUE                                                                                    , TRUE                                                                                    , TRUE                                                                                    , TRUE                                                                                    , FALSE                                                                                   , TRUE                                                                                    , TRUE                                                                                    , TRUE                                                                                    , TRUE                                                                                    , TRUE                                                                                    , TRUE                                                                                    , FALSE                                                                                   , TRUE                                                                                    , drive\\#permission                                                                        , 09731181624600799963                                                                    , user                                                                                    , josemanuelcamachorodriguez@gmail.com                                                    , owner                                                                                   , José Manuel Camacho Rodríguez                                                           , https://lh3.googleusercontent.com/a-/AOh14GifJfcFc0UtZGBVPfcOS0kLkC22boQ1Vk6f4WItKgg=s64, FALSE                                                                                   , 09731181624600799963                                                                    , test\\_fraud.csv                                                                          , csv                                                                                     , csv                                                                                     , 7a2ca28ebfc2ca04d3d1f41ffd43ae48                                                        , 55025367                                                                                , 55025367                                                                                , 0B7-3jA-6IhdsK28rVXcrSGhMazRFTmJTb1NtRW50aGIzWHJVPQ                                     , FALSE                                                                                   \\\\\n\t2 & train\\_fraud.csv & 15FWswumis8A22CbxS-UG6nOrhwDUKmRv & drive\\#file                                                                              , 15FWswumis8A22CbxS-UG6nOrhwDUKmRv                                                       , train\\_fraud.csv                                                                         , text/csv                                                                                , FALSE                                                                                   , FALSE                                                                                   , FALSE                                                                                   , 1bdEv7228WWQY5tvYqsyuWucXp4-Xmq-\\_                                                       , drive                                                                                   , 1                                                                                       , https://drive.google.com/uc?id=15FWswumis8A22CbxS-UG6nOrhwDUKmRv\\&export=download        , https://drive.google.com/file/d/15FWswumis8A22CbxS-UG6nOrhwDUKmRv/view?usp=drivesdk     , https://drive-thirdparty.googleusercontent.com/16/type/text/csv                         , FALSE                                                                                   , 0                                                                                       , TRUE                                                                                    , 2021-04-21T22:14:59.609Z                                                                , 2021-04-21T22:14:59.609Z                                                                , 2019-04-20T11:54:31.000Z                                                                , 2019-04-20T11:54:31.000Z                                                                , TRUE                                                                                    , drive\\#user                                                                              , José Manuel Camacho Rodríguez                                                           , https://lh3.googleusercontent.com/a-/AOh14GifJfcFc0UtZGBVPfcOS0kLkC22boQ1Vk6f4WItKgg=s64, TRUE                                                                                    , 09731181624600799963                                                                    , josemanuelcamachorodriguez@gmail.com                                                    , drive\\#user                                                                              , José Manuel Camacho Rodríguez                                                           , https://lh3.googleusercontent.com/a-/AOh14GifJfcFc0UtZGBVPfcOS0kLkC22boQ1Vk6f4WItKgg=s64, TRUE                                                                                    , 09731181624600799963                                                                    , josemanuelcamachorodriguez@gmail.com                                                    , FALSE                                                                                   , TRUE                                                                                    , FALSE                                                                                   , FALSE                                                                                   , TRUE                                                                                    , TRUE                                                                                    , TRUE                                                                                    , TRUE                                                                                    , TRUE                                                                                    , TRUE                                                                                    , TRUE                                                                                    , FALSE                                                                                   , TRUE                                                                                    , FALSE                                                                                   , TRUE                                                                                    , TRUE                                                                                    , TRUE                                                                                    , TRUE                                                                                    , FALSE                                                                                   , TRUE                                                                                    , TRUE                                                                                    , TRUE                                                                                    , TRUE                                                                                    , TRUE                                                                                    , TRUE                                                                                    , FALSE                                                                                   , TRUE                                                                                    , drive\\#permission                                                                        , 09731181624600799963                                                                    , user                                                                                    , josemanuelcamachorodriguez@gmail.com                                                    , owner                                                                                   , José Manuel Camacho Rodríguez                                                           , https://lh3.googleusercontent.com/a-/AOh14GifJfcFc0UtZGBVPfcOS0kLkC22boQ1Vk6f4WItKgg=s64, FALSE                                                                                   , 09731181624600799963                                                                    , train\\_fraud.csv                                                                         , csv                                                                                     , csv                                                                                     , f475028587f1631e83bdba6a75487452                                                        , 55069415                                                                                , 55069415                                                                                , 0B7-3jA-6IhdsdXUyZC9uVldpUEoraXliWmZ3bVZKamNINDBzPQ                                     , FALSE                                                                                   \\\\\n\\end{tabular}\n",
            "text/markdown": "\nA dribble: 2 × 3\n\n| <!--/--> | name &lt;chr&gt; | id &lt;chr&gt; | drive_resource &lt;list&gt; |\n|---|---|---|---|\n| 1 | test_fraud.csv  | 1KTj3Kv5Puxk180IAb_zR7PTeCwkjKmVy | drive#file                                                                              , 1KTj3Kv5Puxk180IAb_zR7PTeCwkjKmVy                                                       , test_fraud.csv                                                                          , text/csv                                                                                , FALSE                                                                                   , FALSE                                                                                   , FALSE                                                                                   , 1bdEv7228WWQY5tvYqsyuWucXp4-Xmq-_                                                       , drive                                                                                   , 4                                                                                       , https://drive.google.com/uc?id=1KTj3Kv5Puxk180IAb_zR7PTeCwkjKmVy&amp;export=download        , https://drive.google.com/file/d/1KTj3Kv5Puxk180IAb_zR7PTeCwkjKmVy/view?usp=drivesdk     , https://drive-thirdparty.googleusercontent.com/16/type/text/csv                         , FALSE                                                                                   , 0                                                                                       , TRUE                                                                                    , 2021-04-22T11:22:33.920Z                                                                , 2021-04-21T22:14:49.084Z                                                                , 2019-04-20T11:54:16.000Z                                                                , 2019-04-20T11:54:16.000Z                                                                , TRUE                                                                                    , drive#user                                                                              , José Manuel Camacho Rodríguez                                                           , https://lh3.googleusercontent.com/a-/AOh14GifJfcFc0UtZGBVPfcOS0kLkC22boQ1Vk6f4WItKgg=s64, TRUE                                                                                    , 09731181624600799963                                                                    , josemanuelcamachorodriguez@gmail.com                                                    , drive#user                                                                              , José Manuel Camacho Rodríguez                                                           , https://lh3.googleusercontent.com/a-/AOh14GifJfcFc0UtZGBVPfcOS0kLkC22boQ1Vk6f4WItKgg=s64, TRUE                                                                                    , 09731181624600799963                                                                    , josemanuelcamachorodriguez@gmail.com                                                    , FALSE                                                                                   , TRUE                                                                                    , FALSE                                                                                   , FALSE                                                                                   , TRUE                                                                                    , TRUE                                                                                    , TRUE                                                                                    , TRUE                                                                                    , TRUE                                                                                    , TRUE                                                                                    , TRUE                                                                                    , FALSE                                                                                   , TRUE                                                                                    , FALSE                                                                                   , TRUE                                                                                    , TRUE                                                                                    , TRUE                                                                                    , TRUE                                                                                    , FALSE                                                                                   , TRUE                                                                                    , TRUE                                                                                    , TRUE                                                                                    , TRUE                                                                                    , TRUE                                                                                    , TRUE                                                                                    , FALSE                                                                                   , TRUE                                                                                    , drive#permission                                                                        , 09731181624600799963                                                                    , user                                                                                    , josemanuelcamachorodriguez@gmail.com                                                    , owner                                                                                   , José Manuel Camacho Rodríguez                                                           , https://lh3.googleusercontent.com/a-/AOh14GifJfcFc0UtZGBVPfcOS0kLkC22boQ1Vk6f4WItKgg=s64, FALSE                                                                                   , 09731181624600799963                                                                    , test_fraud.csv                                                                          , csv                                                                                     , csv                                                                                     , 7a2ca28ebfc2ca04d3d1f41ffd43ae48                                                        , 55025367                                                                                , 55025367                                                                                , 0B7-3jA-6IhdsK28rVXcrSGhMazRFTmJTb1NtRW50aGIzWHJVPQ                                     , FALSE                                                                                    |\n| 2 | train_fraud.csv | 15FWswumis8A22CbxS-UG6nOrhwDUKmRv | drive#file                                                                              , 15FWswumis8A22CbxS-UG6nOrhwDUKmRv                                                       , train_fraud.csv                                                                         , text/csv                                                                                , FALSE                                                                                   , FALSE                                                                                   , FALSE                                                                                   , 1bdEv7228WWQY5tvYqsyuWucXp4-Xmq-_                                                       , drive                                                                                   , 1                                                                                       , https://drive.google.com/uc?id=15FWswumis8A22CbxS-UG6nOrhwDUKmRv&amp;export=download        , https://drive.google.com/file/d/15FWswumis8A22CbxS-UG6nOrhwDUKmRv/view?usp=drivesdk     , https://drive-thirdparty.googleusercontent.com/16/type/text/csv                         , FALSE                                                                                   , 0                                                                                       , TRUE                                                                                    , 2021-04-21T22:14:59.609Z                                                                , 2021-04-21T22:14:59.609Z                                                                , 2019-04-20T11:54:31.000Z                                                                , 2019-04-20T11:54:31.000Z                                                                , TRUE                                                                                    , drive#user                                                                              , José Manuel Camacho Rodríguez                                                           , https://lh3.googleusercontent.com/a-/AOh14GifJfcFc0UtZGBVPfcOS0kLkC22boQ1Vk6f4WItKgg=s64, TRUE                                                                                    , 09731181624600799963                                                                    , josemanuelcamachorodriguez@gmail.com                                                    , drive#user                                                                              , José Manuel Camacho Rodríguez                                                           , https://lh3.googleusercontent.com/a-/AOh14GifJfcFc0UtZGBVPfcOS0kLkC22boQ1Vk6f4WItKgg=s64, TRUE                                                                                    , 09731181624600799963                                                                    , josemanuelcamachorodriguez@gmail.com                                                    , FALSE                                                                                   , TRUE                                                                                    , FALSE                                                                                   , FALSE                                                                                   , TRUE                                                                                    , TRUE                                                                                    , TRUE                                                                                    , TRUE                                                                                    , TRUE                                                                                    , TRUE                                                                                    , TRUE                                                                                    , FALSE                                                                                   , TRUE                                                                                    , FALSE                                                                                   , TRUE                                                                                    , TRUE                                                                                    , TRUE                                                                                    , TRUE                                                                                    , FALSE                                                                                   , TRUE                                                                                    , TRUE                                                                                    , TRUE                                                                                    , TRUE                                                                                    , TRUE                                                                                    , TRUE                                                                                    , FALSE                                                                                   , TRUE                                                                                    , drive#permission                                                                        , 09731181624600799963                                                                    , user                                                                                    , josemanuelcamachorodriguez@gmail.com                                                    , owner                                                                                   , José Manuel Camacho Rodríguez                                                           , https://lh3.googleusercontent.com/a-/AOh14GifJfcFc0UtZGBVPfcOS0kLkC22boQ1Vk6f4WItKgg=s64, FALSE                                                                                   , 09731181624600799963                                                                    , train_fraud.csv                                                                         , csv                                                                                     , csv                                                                                     , f475028587f1631e83bdba6a75487452                                                        , 55069415                                                                                , 55069415                                                                                , 0B7-3jA-6IhdsdXUyZC9uVldpUEoraXliWmZ3bVZKamNINDBzPQ                                     , FALSE                                                                                    |\n\n",
            "text/html": [
              "<table class=\"dataframe\">\n",
              "<caption>A dribble: 2 × 3</caption>\n",
              "<thead>\n",
              "\t<tr><th></th><th scope=col>name</th><th scope=col>id</th><th scope=col>drive_resource</th></tr>\n",
              "\t<tr><th></th><th scope=col>&lt;chr&gt;</th><th scope=col>&lt;chr&gt;</th><th scope=col>&lt;list&gt;</th></tr>\n",
              "</thead>\n",
              "<tbody>\n",
              "\t<tr><th scope=row>1</th><td>test_fraud.csv </td><td>1KTj3Kv5Puxk180IAb_zR7PTeCwkjKmVy</td><td><span style=white-space:pre-wrap>drive#file                                                                              , 1KTj3Kv5Puxk180IAb_zR7PTeCwkjKmVy                                                       , test_fraud.csv                                                                          , text/csv                                                                                , FALSE                                                                                   , FALSE                                                                                   , FALSE                                                                                   , 1bdEv7228WWQY5tvYqsyuWucXp4-Xmq-_                                                       , drive                                                                                   , 4                                                                                       , https://drive.google.com/uc?id=1KTj3Kv5Puxk180IAb_zR7PTeCwkjKmVy&amp;export=download        , https://drive.google.com/file/d/1KTj3Kv5Puxk180IAb_zR7PTeCwkjKmVy/view?usp=drivesdk     , https://drive-thirdparty.googleusercontent.com/16/type/text/csv                         , FALSE                                                                                   , 0                                                                                       , TRUE                                                                                    , 2021-04-22T11:22:33.920Z                                                                , 2021-04-21T22:14:49.084Z                                                                , 2019-04-20T11:54:16.000Z                                                                , 2019-04-20T11:54:16.000Z                                                                , TRUE                                                                                    , drive#user                                                                              , José Manuel Camacho Rodríguez                                                           , https://lh3.googleusercontent.com/a-/AOh14GifJfcFc0UtZGBVPfcOS0kLkC22boQ1Vk6f4WItKgg=s64, TRUE                                                                                    , 09731181624600799963                                                                    , josemanuelcamachorodriguez@gmail.com                                                    , drive#user                                                                              , José Manuel Camacho Rodríguez                                                           , https://lh3.googleusercontent.com/a-/AOh14GifJfcFc0UtZGBVPfcOS0kLkC22boQ1Vk6f4WItKgg=s64, TRUE                                                                                    , 09731181624600799963                                                                    , josemanuelcamachorodriguez@gmail.com                                                    , FALSE                                                                                   , TRUE                                                                                    , FALSE                                                                                   , FALSE                                                                                   , TRUE                                                                                    , TRUE                                                                                    , TRUE                                                                                    , TRUE                                                                                    , TRUE                                                                                    , TRUE                                                                                    , TRUE                                                                                    , FALSE                                                                                   , TRUE                                                                                    , FALSE                                                                                   , TRUE                                                                                    , TRUE                                                                                    , TRUE                                                                                    , TRUE                                                                                    , FALSE                                                                                   , TRUE                                                                                    , TRUE                                                                                    , TRUE                                                                                    , TRUE                                                                                    , TRUE                                                                                    , TRUE                                                                                    , FALSE                                                                                   , TRUE                                                                                    , drive#permission                                                                        , 09731181624600799963                                                                    , user                                                                                    , josemanuelcamachorodriguez@gmail.com                                                    , owner                                                                                   , José Manuel Camacho Rodríguez                                                           , https://lh3.googleusercontent.com/a-/AOh14GifJfcFc0UtZGBVPfcOS0kLkC22boQ1Vk6f4WItKgg=s64, FALSE                                                                                   , 09731181624600799963                                                                    , test_fraud.csv                                                                          , csv                                                                                     , csv                                                                                     , 7a2ca28ebfc2ca04d3d1f41ffd43ae48                                                        , 55025367                                                                                , 55025367                                                                                , 0B7-3jA-6IhdsK28rVXcrSGhMazRFTmJTb1NtRW50aGIzWHJVPQ                                     , FALSE                                                                                   </span></td></tr>\n",
              "\t<tr><th scope=row>2</th><td>train_fraud.csv</td><td>15FWswumis8A22CbxS-UG6nOrhwDUKmRv</td><td><span style=white-space:pre-wrap>drive#file                                                                              , 15FWswumis8A22CbxS-UG6nOrhwDUKmRv                                                       , train_fraud.csv                                                                         , text/csv                                                                                , FALSE                                                                                   , FALSE                                                                                   , FALSE                                                                                   , 1bdEv7228WWQY5tvYqsyuWucXp4-Xmq-_                                                       , drive                                                                                   , 1                                                                                       , https://drive.google.com/uc?id=15FWswumis8A22CbxS-UG6nOrhwDUKmRv&amp;export=download        , https://drive.google.com/file/d/15FWswumis8A22CbxS-UG6nOrhwDUKmRv/view?usp=drivesdk     , https://drive-thirdparty.googleusercontent.com/16/type/text/csv                         , FALSE                                                                                   , 0                                                                                       , TRUE                                                                                    , 2021-04-21T22:14:59.609Z                                                                , 2021-04-21T22:14:59.609Z                                                                , 2019-04-20T11:54:31.000Z                                                                , 2019-04-20T11:54:31.000Z                                                                , TRUE                                                                                    , drive#user                                                                              , José Manuel Camacho Rodríguez                                                           , https://lh3.googleusercontent.com/a-/AOh14GifJfcFc0UtZGBVPfcOS0kLkC22boQ1Vk6f4WItKgg=s64, TRUE                                                                                    , 09731181624600799963                                                                    , josemanuelcamachorodriguez@gmail.com                                                    , drive#user                                                                              , José Manuel Camacho Rodríguez                                                           , https://lh3.googleusercontent.com/a-/AOh14GifJfcFc0UtZGBVPfcOS0kLkC22boQ1Vk6f4WItKgg=s64, TRUE                                                                                    , 09731181624600799963                                                                    , josemanuelcamachorodriguez@gmail.com                                                    , FALSE                                                                                   , TRUE                                                                                    , FALSE                                                                                   , FALSE                                                                                   , TRUE                                                                                    , TRUE                                                                                    , TRUE                                                                                    , TRUE                                                                                    , TRUE                                                                                    , TRUE                                                                                    , TRUE                                                                                    , FALSE                                                                                   , TRUE                                                                                    , FALSE                                                                                   , TRUE                                                                                    , TRUE                                                                                    , TRUE                                                                                    , TRUE                                                                                    , FALSE                                                                                   , TRUE                                                                                    , TRUE                                                                                    , TRUE                                                                                    , TRUE                                                                                    , TRUE                                                                                    , TRUE                                                                                    , FALSE                                                                                   , TRUE                                                                                    , drive#permission                                                                        , 09731181624600799963                                                                    , user                                                                                    , josemanuelcamachorodriguez@gmail.com                                                    , owner                                                                                   , José Manuel Camacho Rodríguez                                                           , https://lh3.googleusercontent.com/a-/AOh14GifJfcFc0UtZGBVPfcOS0kLkC22boQ1Vk6f4WItKgg=s64, FALSE                                                                                   , 09731181624600799963                                                                    , train_fraud.csv                                                                         , csv                                                                                     , csv                                                                                     , f475028587f1631e83bdba6a75487452                                                        , 55069415                                                                                , 55069415                                                                                , 0B7-3jA-6IhdsdXUyZC9uVldpUEoraXliWmZ3bVZKamNINDBzPQ                                     , FALSE                                                                                   </span></td></tr>\n",
              "</tbody>\n",
              "</table>\n"
            ]
          },
          "metadata": {
            "tags": []
          }
        }
      ]
    },
    {
      "cell_type": "markdown",
      "metadata": {
        "id": "Z66uS89hyldr"
      },
      "source": [
        "Para utilizar un archivo de nuestro drive, primero lo descargamos como se muestra a continuación. Para ello debemos indicar la ubicación exacta del archivo que queremos usar."
      ]
    },
    {
      "cell_type": "code",
      "metadata": {
        "colab": {
          "base_uri": "https://localhost:8080/"
        },
        "id": "LpFPbAh9J-g1",
        "outputId": "22a03021-6c31-49a4-eea9-cccfcade5c14"
      },
      "source": [
        "drive_download(\"fraud_data/train_fraud.csv\",overwrite = TRUE)"
      ],
      "execution_count": null,
      "outputs": [
        {
          "output_type": "stream",
          "text": [
            "File downloaded:\n",
            "  * train_fraud.csv\n",
            "Saved locally as:\n",
            "  * train_fraud.csv\n",
            "\n"
          ],
          "name": "stderr"
        }
      ]
    },
    {
      "cell_type": "markdown",
      "metadata": {
        "id": "oCsmn40dzIUV"
      },
      "source": [
        "Una vez descargado, ya lo podemos usar normalmente."
      ]
    },
    {
      "cell_type": "code",
      "metadata": {
        "colab": {
          "base_uri": "https://localhost:8080/",
          "height": 1000
        },
        "id": "VIVzQi3qKY5n",
        "outputId": "3bfa754b-0376-4848-dc50-4d7e345df4c6"
      },
      "source": [
        "read.csv(\"train_fraud.csv\")"
      ],
      "execution_count": null,
      "outputs": [
        {
          "output_type": "display_data",
          "data": {
            "text/plain": [
              "       X      ID_TARJETA       VL_AUTORIZACION FC_AUTORIZACION     BIN      \n",
              "1       1     491511XXXXXX8475   17000         2010-11-23 17:29:55 -8.541363\n",
              "2       2     426288XXXXXX0019   32000         2010-11-26 11:51:29 -5.171858\n",
              "3       3     454600XXXXXX4004   30000         2010-10-08 20:44:30 -2.262847\n",
              "4       4     491268XXXXXX0696  400000         2010-12-16 07:43:23 -9.370757\n",
              "5       5     498862XXXXXX1091   89430         2011-01-08 12:22:56 -2.905438\n",
              "6       6     491511XXXXXX1319 2546000         2010-11-22 16:28:44 -8.541363\n",
              "7       7     459918XXXXXX0972  137500         2010-12-07 13:38:06 -2.279267\n",
              "8       8     454616XXXXXX2127   38900         2010-12-15 08:15:44 -4.787511\n",
              "9       9     456815XXXXXX9590  175400         2010-11-22 11:37:51 -2.268066\n",
              "10     10     450942XXXXXX3261   59900         2011-01-22 12:24:54 -2.716318\n",
              "11     11     459918XXXXXX5047  625059         2010-12-03 19:44:33 -2.279267\n",
              "12     12     498867XXXXXX0034  250700         2010-10-26 09:36:57 -2.109566\n",
              "13     13     409744XXXXXX1029  149000         2010-11-28 16:05:22 -3.211582\n",
              "14     14     491511XXXXXX6772    8700         2010-11-19 18:25:37 -8.541363\n",
              "15     15     491362XXXXXX5666 1772517         2010-12-29 06:04:45 -1.941071\n",
              "16     16     491268XXXXXX4073   31787         2010-10-17 17:53:54 -9.370757\n",
              "17     17     465770XXXXXX4412  191900         2010-11-05 11:11:37 -3.235304\n",
              "18     18     491511XXXXXX5756   69850         2010-10-24 16:30:35 -8.541363\n",
              "19     19     489911XXXXXX5734    8900         2010-11-18 12:39:57 -1.534380\n",
              "20     20     450942XXXXXX6170   75000         2010-12-03 19:01:47 -2.716318\n",
              "21     21     451309XXXXXX0021  226991         2011-01-18 11:00:02 -2.014059\n",
              "22     22     491511XXXXXX8066    7000         2011-01-06 11:08:23 -8.541363\n",
              "23     23     450942XXXXXX4305  100000         2010-10-23 09:59:10 -2.716318\n",
              "24     24     456815XXXXXX7924   78000         2010-11-03 10:44:23 -2.268066\n",
              "25     25     498862XXXXXX1036  175506         2010-11-21 11:30:00 -2.905438\n",
              "26     26     491268XXXXXX6284   60000         2010-10-04 18:38:03 -9.370757\n",
              "27     27     459918XXXXXX8880  399761         2010-11-20 00:32:17 -2.279267\n",
              "28     28     409744XXXXXX5336   98000         2010-11-29 16:34:24 -3.211582\n",
              "29     29     451308XXXXXX8068   38900         2011-01-31 12:01:36 -1.964933\n",
              "30     30     455983XXXXXX5666   40500         2010-10-04 14:09:08 -2.221419\n",
              "⋮      ⋮      ⋮                ⋮               ⋮                   ⋮        \n",
              "99971   99971 411759XXXXXX8490   32060         2010-12-02 04:27:12 -2.537173\n",
              "99972   99972 491511XXXXXX7475  105818         2011-01-11 20:02:22 -8.541363\n",
              "99973   99973 491268XXXXXX7068   86710         2011-01-28 18:13:41 -9.370757\n",
              "99974   99974 430274XXXXXX1280   90032         2010-11-19 17:36:17 -5.330172\n",
              "99975   99975 425950XXXXXX4675   52309         2010-10-30 16:58:29 -2.635724\n",
              "99976   99976 451308XXXXXX0546  251200         2010-10-30 18:12:05 -1.964933\n",
              "99977   99977 491511XXXXXX7421   43000         2010-12-19 19:58:48 -8.541363\n",
              "99978   99978 451307XXXXXX3340   82023         2011-01-18 17:25:38 -2.566954\n",
              "99979   99979 451307XXXXXX8142   78740         2010-11-04 11:41:53 -2.566954\n",
              "99980   99980 498862XXXXXX1049   99609         2011-01-19 19:29:41 -2.905438\n",
              "99981   99981 491511XXXXXX7297   18950         2010-12-16 18:23:52 -8.541363\n",
              "99982   99982 491511XXXXXX0215  189960         2011-01-28 18:53:59 -8.541363\n",
              "99983   99983 451307XXXXXX2415  157000         2011-01-18 12:41:03 -2.566954\n",
              "99984   99984 411759XXXXXX6479   49251         2011-01-21 11:45:57 -2.537173\n",
              "99985   99985 450942XXXXXX9538   41083         2010-12-24 12:29:13 -2.716318\n",
              "99986   99986 491511XXXXXX3361   22000         2011-01-01 17:48:32 -8.541363\n",
              "99987   99987 454600XXXXXX5305  414890         2010-10-05 14:56:12 -2.262847\n",
              "99988   99988 454600XXXXXX0980   52000         2011-01-28 09:41:47 -2.262847\n",
              "99989   99989 491511XXXXXX6543  236422         2010-10-06 18:05:09 -8.541363\n",
              "99990   99990 491511XXXXXX9748  185767         2010-11-06 18:41:22 -8.541363\n",
              "99991   99991 491268XXXXXX0249   60000         2011-01-15 19:52:09 -9.370757\n",
              "99992   99992 449188XXXXXX7294   53830         2010-10-29 06:29:57 -1.647936\n",
              "99993   99993 455983XXXXXX1070  102039         2010-11-26 15:15:49 -2.221419\n",
              "99994   99994 454600XXXXXX8587  300000         2010-12-13 14:57:11 -2.262847\n",
              "99995   99995 491511XXXXXX9525   49750         2010-11-25 19:53:38 -8.541363\n",
              "99996   99996 450942XXXXXX2506   75000         2010-10-26 08:02:25 -2.716318\n",
              "99997   99997 457021XXXXXX0467 1500000         2010-11-29 18:32:46 -3.190541\n",
              "99998   99998 491268XXXXXX4880  111000         2010-12-27 08:35:53 -9.370757\n",
              "99999   99999 400608XXXXXX6393   50000         2010-12-15 19:22:30 -2.287586\n",
              "100000 100000 451308XXXXXX7345   99601         2010-10-29 14:19:36 -1.964933\n",
              "       DW_TIPO_OPERACION RED_ADQUIRENTE EMISOR    RESPUESTA AUTORIZADOR ⋯\n",
              "1      -3.692157         -3.873381      -4.015410 -3.721696 -4.051667   ⋯\n",
              "2      -3.692157         -4.169345      -4.167374 -3.721696 -4.182465   ⋯\n",
              "3      -3.692157         -3.873381      -2.605739 -3.721696 -2.582147   ⋯\n",
              "4      -3.864807         -3.771418      -4.490753 -3.700459 -4.538651   ⋯\n",
              "5      -3.692157         -3.873381      -4.167374 -3.721696 -4.182465   ⋯\n",
              "6      -3.692157         -3.873381      -4.015410 -3.721696 -4.051667   ⋯\n",
              "7      -3.692157         -4.169345      -4.015410 -3.721696 -4.051667   ⋯\n",
              "8      -3.692157         -4.169345      -3.996104 -3.721696 -5.016259   ⋯\n",
              "9      -3.692157         -4.169345      -3.105834 -3.721696 -3.129162   ⋯\n",
              "10     -3.692157         -4.169345      -4.015410 -3.721696 -4.051667   ⋯\n",
              "11     -3.692157         -1.254165      -4.015410 -3.721696 -4.051667   ⋯\n",
              "12     -3.692157         -4.169345      -3.048707 -3.721696 -3.236562   ⋯\n",
              "13     -3.692157         -4.169345      -2.605739 -3.721696 -2.582147   ⋯\n",
              "14     -3.692157         -3.873381      -4.015410 -3.721696 -4.051667   ⋯\n",
              "15     -3.692157         -1.254165      -3.105834 -3.721696 -3.129162   ⋯\n",
              "16     -3.692157         -4.169345      -4.490753 -3.721696 -4.538651   ⋯\n",
              "17     -3.692157         -4.169345      -4.015410 -3.721696 -4.051667   ⋯\n",
              "18     -3.692157         -3.873381      -4.015410 -3.721696 -4.051667   ⋯\n",
              "19     -3.692157         -3.873381      -2.593422 -3.721696 -2.316760   ⋯\n",
              "20     -3.692157         -4.169345      -4.015410 -3.721696 -4.051667   ⋯\n",
              "21     -3.692157         -1.254165      -3.747475 -3.721696 -3.801809   ⋯\n",
              "22     -3.692157         -3.873381      -4.015410 -3.721696 -4.051667   ⋯\n",
              "23     -3.692157         -3.873381      -4.015410 -3.721696 -4.051667   ⋯\n",
              "24     -3.692157         -4.169345      -3.105834 -3.721696 -3.129162   ⋯\n",
              "25     -3.692157         -4.169345      -4.167374 -3.721696 -4.182465   ⋯\n",
              "26     -3.692157         -4.169345      -4.490753 -3.721696 -4.538651   ⋯\n",
              "27     -3.692157         -1.254165      -4.015410 -3.721696 -4.051667   ⋯\n",
              "28     -3.692157         -3.873381      -2.605739 -3.721696 -2.582147   ⋯\n",
              "29     -3.692157         -3.873381      -3.747475 -3.721696 -3.801809   ⋯\n",
              "30     -3.692157         -4.169345      -3.817636 -3.721696 -3.898146   ⋯\n",
              "⋮      ⋮                 ⋮              ⋮         ⋮         ⋮           ⋱\n",
              "99971  -3.692157         -1.254165      -2.605739 -3.721696 -2.582147   ⋯\n",
              "99972  -3.692157         -4.169345      -4.015410 -3.721696 -4.051667   ⋯\n",
              "99973  -3.692157         -4.169345      -4.490753 -3.721696 -4.538651   ⋯\n",
              "99974  -3.692157         -4.169345      -4.015410 -3.721696 -2.316760   ⋯\n",
              "99975  -3.692157         -3.873381      -3.817636 -3.721696 -3.898146   ⋯\n",
              "99976  -3.692157         -4.169345      -3.747475 -3.721696 -3.801809   ⋯\n",
              "99977  -3.692157         -4.169345      -4.015410 -3.721696 -4.051667   ⋯\n",
              "99978  -3.692157         -1.254165      -3.747475 -3.721696 -3.801809   ⋯\n",
              "99979  -3.692157         -4.169345      -3.747475 -3.721696 -3.801809   ⋯\n",
              "99980  -3.692157         -3.873381      -4.167374 -3.721696 -4.182465   ⋯\n",
              "99981  -3.692157         -3.873381      -4.015410 -3.721696 -4.051667   ⋯\n",
              "99982  -3.692157         -3.873381      -4.015410 -3.721696 -4.051667   ⋯\n",
              "99983  -3.692157         -3.873381      -3.747475 -3.721696 -3.801809   ⋯\n",
              "99984  -3.692157         -3.873381      -2.605739 -3.721696 -2.582147   ⋯\n",
              "99985  -3.692157         -4.169345      -4.015410 -3.721696 -4.051667   ⋯\n",
              "99986  -3.692157         -3.873381      -4.015410 -3.721696 -4.051667   ⋯\n",
              "99987  -3.692157         -4.169345      -2.605739 -3.721696 -2.582147   ⋯\n",
              "99988  -3.692157         -4.169345      -2.605739 -3.721696 -2.582147   ⋯\n",
              "99989  -3.692157         -4.169345      -4.015410 -3.721696 -4.051667   ⋯\n",
              "99990  -3.692157         -4.169345      -4.015410 -3.721696 -4.051667   ⋯\n",
              "99991  -3.864807         -3.771418      -4.490753 -3.700459 -4.538651   ⋯\n",
              "99992  -3.692157         -3.873381      -3.747475 -3.721696 -3.801809   ⋯\n",
              "99993  -3.692157         -1.254165      -3.817636 -3.721696 -3.898146   ⋯\n",
              "99994  -3.692157         -4.169345      -2.605739 -3.721696 -2.582147   ⋯\n",
              "99995  -3.692157         -4.169345      -4.015410 -3.721696 -4.051667   ⋯\n",
              "99996  -3.692157         -4.169345      -4.015410 -3.721696 -4.051667   ⋯\n",
              "99997  -3.692157         -4.169345      -4.188494 -3.721696 -2.316760   ⋯\n",
              "99998  -3.692157         -4.169345      -4.490753 -3.721696 -4.538651   ⋯\n",
              "99999  -3.692157         -3.873381      -2.593422 -3.721696 -2.316760   ⋯\n",
              "100000 -3.692157         -3.873381      -3.747475 -3.721696 -3.801809   ⋯\n",
              "       NO_TXN_SAME_PAIS_1D AVG_AMOUNT_SAME_PAIS_1D NO_TXN_SAME_MCC_1D\n",
              "1       3                   22666.67               1                 \n",
              "2      15                   91496.47               3                 \n",
              "3       1                   20000.00               1                 \n",
              "4       1                   37000.00               0                 \n",
              "5       2                  243083.50               1                 \n",
              "6       2                   62116.00               0                 \n",
              "7       0                       0.00               0                 \n",
              "8       1                  142840.00               0                 \n",
              "9       1                  180800.00               0                 \n",
              "10      2                  776806.50               0                 \n",
              "11      0                       0.00               0                 \n",
              "12      0                       0.00               0                 \n",
              "13      3                  140433.33               2                 \n",
              "14      5                   40650.40               0                 \n",
              "15      2                  102125.00               1                 \n",
              "16      3                  100946.67               1                 \n",
              "17      2                  210375.00               2                 \n",
              "18      1                   62000.00               0                 \n",
              "19      1                   21690.00               0                 \n",
              "20      0                       0.00               0                 \n",
              "21      0                       0.00               0                 \n",
              "22      5                   22564.40               0                 \n",
              "23      0                       0.00               0                 \n",
              "24      0                       0.00               0                 \n",
              "25      9                   55548.89               6                 \n",
              "26      1                  155590.00               0                 \n",
              "27      0                       0.00               0                 \n",
              "28      0                       0.00               0                 \n",
              "29      2                  160857.00               0                 \n",
              "30      1                  113000.00               1                 \n",
              "⋮      ⋮                   ⋮                       ⋮                 \n",
              "99971  1                        1.00               1                 \n",
              "99972  5                    29694.00               3                 \n",
              "99973  4                    75987.50               0                 \n",
              "99974  5                   372756.80               2                 \n",
              "99975  2                   139450.00               0                 \n",
              "99976  1                   515831.00               1                 \n",
              "99977  4                    74240.00               0                 \n",
              "99978  0                        0.00               0                 \n",
              "99979  0                        0.00               0                 \n",
              "99980  6                    98480.00               1                 \n",
              "99981  4                    43287.50               2                 \n",
              "99982  4                   103025.25               1                 \n",
              "99983  2                   115075.00               0                 \n",
              "99984  1                    75021.00               0                 \n",
              "99985  4                   338113.75               1                 \n",
              "99986  4                    81583.25               0                 \n",
              "99987  0                        0.00               0                 \n",
              "99988  0                        0.00               0                 \n",
              "99989  6                    41363.17               0                 \n",
              "99990  2                   286189.50               1                 \n",
              "99991  5                   118979.20               2                 \n",
              "99992  0                        0.00               0                 \n",
              "99993  3                   381996.67               0                 \n",
              "99994  0                        0.00               0                 \n",
              "99995  4                   117598.50               2                 \n",
              "99996  0                        0.00               0                 \n",
              "99997  0                        0.00               0                 \n",
              "99998  0                        0.00               0                 \n",
              "99999  0                        0.00               0                 \n",
              "100000 1                   134700.00               0                 \n",
              "       AVG_AMOUNT_SAME_MCC_1D NO_TXN_1H NO_TXN_SAME_PAIS_1H\n",
              "1       30000.00              0         0                  \n",
              "2       83366.67              2         2                  \n",
              "3       20000.00              1         1                  \n",
              "4           0.00              0         0                  \n",
              "5      359167.00              0         0                  \n",
              "6           0.00              1         1                  \n",
              "7           0.00              0         0                  \n",
              "8           0.00              0         0                  \n",
              "9           0.00              0         0                  \n",
              "10          0.00              0         0                  \n",
              "11          0.00              0         0                  \n",
              "12          0.00              0         0                  \n",
              "13     140700.00              1         1                  \n",
              "14          0.00              1         1                  \n",
              "15     175640.00              0         0                  \n",
              "16      35400.00              0         0                  \n",
              "17     210375.00              2         2                  \n",
              "18          0.00              0         0                  \n",
              "19          0.00              0         0                  \n",
              "20          0.00              0         0                  \n",
              "21          0.00              0         0                  \n",
              "22          0.00              0         0                  \n",
              "23          0.00              0         0                  \n",
              "24          0.00              0         0                  \n",
              "25      48053.00              1         1                  \n",
              "26          0.00              0         0                  \n",
              "27          0.00              0         0                  \n",
              "28          0.00              0         0                  \n",
              "29          0.00              0         0                  \n",
              "30     113000.00              0         0                  \n",
              "⋮      ⋮                      ⋮         ⋮                  \n",
              "99971       1.00              1         1                  \n",
              "99972   10186.67              0         0                  \n",
              "99973       0.00              0         0                  \n",
              "99974   90032.00              5         5                  \n",
              "99975       0.00              0         0                  \n",
              "99976  515831.00              0         0                  \n",
              "99977       0.00              1         1                  \n",
              "99978       0.00              0         0                  \n",
              "99979       0.00              0         0                  \n",
              "99980  160820.00              1         1                  \n",
              "99981   82500.00              0         0                  \n",
              "99982  147600.00              1         1                  \n",
              "99983       0.00              1         1                  \n",
              "99984       0.00              1         1                  \n",
              "99985  329555.00              0         0                  \n",
              "99986       0.00              1         1                  \n",
              "99987       0.00              0         0                  \n",
              "99988       0.00              0         0                  \n",
              "99989       0.00              0         0                  \n",
              "99990  137154.00              0         0                  \n",
              "99991  250000.00              0         0                  \n",
              "99992       0.00              0         0                  \n",
              "99993       0.00              1         1                  \n",
              "99994       0.00              0         0                  \n",
              "99995   49647.00              1         1                  \n",
              "99996       0.00              0         0                  \n",
              "99997       0.00              0         0                  \n",
              "99998       0.00              0         0                  \n",
              "99999       0.00              0         0                  \n",
              "100000      0.00              1         1                  \n",
              "       AVG_AMOUNT_SAME_PAIS_1H NO_TXN_SAME_MCC_1H AVG_AMOUNT_SAME_MCC_1H FRAUDE\n",
              "1           0                  0                       0                 0     \n",
              "2       56861                  1                   89000                 0     \n",
              "3       20000                  1                   20000                 0     \n",
              "4           0                  0                       0                 0     \n",
              "5           0                  0                       0                 0     \n",
              "6       84232                  0                       0                 0     \n",
              "7           0                  0                       0                 0     \n",
              "8           0                  0                       0                 0     \n",
              "9           0                  0                       0                 0     \n",
              "10          0                  0                       0                 0     \n",
              "11          0                  0                       0                 0     \n",
              "12          0                  0                       0                 0     \n",
              "13     139900                  0                       0                 0     \n",
              "14      20000                  0                       0                 0     \n",
              "15          0                  0                       0                 0     \n",
              "16          0                  0                       0                 0     \n",
              "17     210375                  2                  210375                 0     \n",
              "18          0                  0                       0                 0     \n",
              "19          0                  0                       0                 0     \n",
              "20          0                  0                       0                 0     \n",
              "21          0                  0                       0                 0     \n",
              "22          0                  0                       0                 0     \n",
              "23          0                  0                       0                 0     \n",
              "24          0                  0                       0                 0     \n",
              "25     110022                  0                       0                 0     \n",
              "26          0                  0                       0                 0     \n",
              "27          0                  0                       0                 0     \n",
              "28          0                  0                       0                 0     \n",
              "29          0                  0                       0                 0     \n",
              "30          0                  0                       0                 0     \n",
              "⋮      ⋮                       ⋮                  ⋮                      ⋮     \n",
              "99971       1.0                1                       1                 0     \n",
              "99972       0.0                0                       0                 0     \n",
              "99973       0.0                0                       0                 0     \n",
              "99974  372756.8                2                   90032                 0     \n",
              "99975       0.0                0                       0                 0     \n",
              "99976       0.0                0                       0                 0     \n",
              "99977  159250.0                0                       0                 0     \n",
              "99978       0.0                0                       0                 0     \n",
              "99979       0.0                0                       0                 0     \n",
              "99980   24860.0                0                       0                 0     \n",
              "99981       0.0                0                       0                 0     \n",
              "99982  147600.0                1                  147600                 0     \n",
              "99983  140000.0                0                       0                 0     \n",
              "99984   75021.0                0                       0                 0     \n",
              "99985       0.0                0                       0                 0     \n",
              "99986   39400.0                0                       0                 0     \n",
              "99987       0.0                0                       0                 0     \n",
              "99988       0.0                0                       0                 0     \n",
              "99989       0.0                0                       0                 0     \n",
              "99990       0.0                0                       0                 0     \n",
              "99991       0.0                0                       0                 0     \n",
              "99992       0.0                0                       0                 0     \n",
              "99993  617645.0                0                       0                 0     \n",
              "99994       0.0                0                       0                 0     \n",
              "99995   71020.0                1                   71020                 0     \n",
              "99996       0.0                0                       0                 0     \n",
              "99997       0.0                0                       0                 0     \n",
              "99998       0.0                0                       0                 0     \n",
              "99999       0.0                0                       0                 0     \n",
              "100000 134700.0                0                       0                 0     "
            ],
            "text/latex": "A data.frame: 100000 × 50\n\\begin{tabular}{lllllllllllllllllllll}\n X & ID\\_TARJETA & VL\\_AUTORIZACION & FC\\_AUTORIZACION & BIN & DW\\_TIPO\\_OPERACION & RED\\_ADQUIRENTE & EMISOR & RESPUESTA & AUTORIZADOR & ⋯ & NO\\_TXN\\_SAME\\_PAIS\\_1D & AVG\\_AMOUNT\\_SAME\\_PAIS\\_1D & NO\\_TXN\\_SAME\\_MCC\\_1D & AVG\\_AMOUNT\\_SAME\\_MCC\\_1D & NO\\_TXN\\_1H & NO\\_TXN\\_SAME\\_PAIS\\_1H & AVG\\_AMOUNT\\_SAME\\_PAIS\\_1H & NO\\_TXN\\_SAME\\_MCC\\_1H & AVG\\_AMOUNT\\_SAME\\_MCC\\_1H & FRAUDE\\\\\n <int> & <chr> & <int> & <chr> & <dbl> & <dbl> & <dbl> & <dbl> & <dbl> & <dbl> & ⋯ & <int> & <dbl> & <int> & <dbl> & <int> & <int> & <dbl> & <int> & <dbl> & <int>\\\\\n\\hline\n\t  1 & 491511XXXXXX8475 &   17000 & 2010-11-23 17:29:55 & -8.541363 & -3.692157 & -3.873381 & -4.015410 & -3.721696 & -4.051667 & ⋯ &  3 &  22666.67 & 1 &  30000.00 & 0 & 0 &      0 & 0 &      0 & 0\\\\\n\t  2 & 426288XXXXXX0019 &   32000 & 2010-11-26 11:51:29 & -5.171858 & -3.692157 & -4.169345 & -4.167374 & -3.721696 & -4.182465 & ⋯ & 15 &  91496.47 & 3 &  83366.67 & 2 & 2 &  56861 & 1 &  89000 & 0\\\\\n\t  3 & 454600XXXXXX4004 &   30000 & 2010-10-08 20:44:30 & -2.262847 & -3.692157 & -3.873381 & -2.605739 & -3.721696 & -2.582147 & ⋯ &  1 &  20000.00 & 1 &  20000.00 & 1 & 1 &  20000 & 1 &  20000 & 0\\\\\n\t  4 & 491268XXXXXX0696 &  400000 & 2010-12-16 07:43:23 & -9.370757 & -3.864807 & -3.771418 & -4.490753 & -3.700459 & -4.538651 & ⋯ &  1 &  37000.00 & 0 &      0.00 & 0 & 0 &      0 & 0 &      0 & 0\\\\\n\t  5 & 498862XXXXXX1091 &   89430 & 2011-01-08 12:22:56 & -2.905438 & -3.692157 & -3.873381 & -4.167374 & -3.721696 & -4.182465 & ⋯ &  2 & 243083.50 & 1 & 359167.00 & 0 & 0 &      0 & 0 &      0 & 0\\\\\n\t  6 & 491511XXXXXX1319 & 2546000 & 2010-11-22 16:28:44 & -8.541363 & -3.692157 & -3.873381 & -4.015410 & -3.721696 & -4.051667 & ⋯ &  2 &  62116.00 & 0 &      0.00 & 1 & 1 &  84232 & 0 &      0 & 0\\\\\n\t  7 & 459918XXXXXX0972 &  137500 & 2010-12-07 13:38:06 & -2.279267 & -3.692157 & -4.169345 & -4.015410 & -3.721696 & -4.051667 & ⋯ &  0 &      0.00 & 0 &      0.00 & 0 & 0 &      0 & 0 &      0 & 0\\\\\n\t  8 & 454616XXXXXX2127 &   38900 & 2010-12-15 08:15:44 & -4.787511 & -3.692157 & -4.169345 & -3.996104 & -3.721696 & -5.016259 & ⋯ &  1 & 142840.00 & 0 &      0.00 & 0 & 0 &      0 & 0 &      0 & 0\\\\\n\t  9 & 456815XXXXXX9590 &  175400 & 2010-11-22 11:37:51 & -2.268066 & -3.692157 & -4.169345 & -3.105834 & -3.721696 & -3.129162 & ⋯ &  1 & 180800.00 & 0 &      0.00 & 0 & 0 &      0 & 0 &      0 & 0\\\\\n\t 10 & 450942XXXXXX3261 &   59900 & 2011-01-22 12:24:54 & -2.716318 & -3.692157 & -4.169345 & -4.015410 & -3.721696 & -4.051667 & ⋯ &  2 & 776806.50 & 0 &      0.00 & 0 & 0 &      0 & 0 &      0 & 0\\\\\n\t 11 & 459918XXXXXX5047 &  625059 & 2010-12-03 19:44:33 & -2.279267 & -3.692157 & -1.254165 & -4.015410 & -3.721696 & -4.051667 & ⋯ &  0 &      0.00 & 0 &      0.00 & 0 & 0 &      0 & 0 &      0 & 0\\\\\n\t 12 & 498867XXXXXX0034 &  250700 & 2010-10-26 09:36:57 & -2.109566 & -3.692157 & -4.169345 & -3.048707 & -3.721696 & -3.236562 & ⋯ &  0 &      0.00 & 0 &      0.00 & 0 & 0 &      0 & 0 &      0 & 0\\\\\n\t 13 & 409744XXXXXX1029 &  149000 & 2010-11-28 16:05:22 & -3.211582 & -3.692157 & -4.169345 & -2.605739 & -3.721696 & -2.582147 & ⋯ &  3 & 140433.33 & 2 & 140700.00 & 1 & 1 & 139900 & 0 &      0 & 0\\\\\n\t 14 & 491511XXXXXX6772 &    8700 & 2010-11-19 18:25:37 & -8.541363 & -3.692157 & -3.873381 & -4.015410 & -3.721696 & -4.051667 & ⋯ &  5 &  40650.40 & 0 &      0.00 & 1 & 1 &  20000 & 0 &      0 & 0\\\\\n\t 15 & 491362XXXXXX5666 & 1772517 & 2010-12-29 06:04:45 & -1.941071 & -3.692157 & -1.254165 & -3.105834 & -3.721696 & -3.129162 & ⋯ &  2 & 102125.00 & 1 & 175640.00 & 0 & 0 &      0 & 0 &      0 & 0\\\\\n\t 16 & 491268XXXXXX4073 &   31787 & 2010-10-17 17:53:54 & -9.370757 & -3.692157 & -4.169345 & -4.490753 & -3.721696 & -4.538651 & ⋯ &  3 & 100946.67 & 1 &  35400.00 & 0 & 0 &      0 & 0 &      0 & 0\\\\\n\t 17 & 465770XXXXXX4412 &  191900 & 2010-11-05 11:11:37 & -3.235304 & -3.692157 & -4.169345 & -4.015410 & -3.721696 & -4.051667 & ⋯ &  2 & 210375.00 & 2 & 210375.00 & 2 & 2 & 210375 & 2 & 210375 & 0\\\\\n\t 18 & 491511XXXXXX5756 &   69850 & 2010-10-24 16:30:35 & -8.541363 & -3.692157 & -3.873381 & -4.015410 & -3.721696 & -4.051667 & ⋯ &  1 &  62000.00 & 0 &      0.00 & 0 & 0 &      0 & 0 &      0 & 0\\\\\n\t 19 & 489911XXXXXX5734 &    8900 & 2010-11-18 12:39:57 & -1.534380 & -3.692157 & -3.873381 & -2.593422 & -3.721696 & -2.316760 & ⋯ &  1 &  21690.00 & 0 &      0.00 & 0 & 0 &      0 & 0 &      0 & 0\\\\\n\t 20 & 450942XXXXXX6170 &   75000 & 2010-12-03 19:01:47 & -2.716318 & -3.692157 & -4.169345 & -4.015410 & -3.721696 & -4.051667 & ⋯ &  0 &      0.00 & 0 &      0.00 & 0 & 0 &      0 & 0 &      0 & 0\\\\\n\t 21 & 451309XXXXXX0021 &  226991 & 2011-01-18 11:00:02 & -2.014059 & -3.692157 & -1.254165 & -3.747475 & -3.721696 & -3.801809 & ⋯ &  0 &      0.00 & 0 &      0.00 & 0 & 0 &      0 & 0 &      0 & 0\\\\\n\t 22 & 491511XXXXXX8066 &    7000 & 2011-01-06 11:08:23 & -8.541363 & -3.692157 & -3.873381 & -4.015410 & -3.721696 & -4.051667 & ⋯ &  5 &  22564.40 & 0 &      0.00 & 0 & 0 &      0 & 0 &      0 & 0\\\\\n\t 23 & 450942XXXXXX4305 &  100000 & 2010-10-23 09:59:10 & -2.716318 & -3.692157 & -3.873381 & -4.015410 & -3.721696 & -4.051667 & ⋯ &  0 &      0.00 & 0 &      0.00 & 0 & 0 &      0 & 0 &      0 & 0\\\\\n\t 24 & 456815XXXXXX7924 &   78000 & 2010-11-03 10:44:23 & -2.268066 & -3.692157 & -4.169345 & -3.105834 & -3.721696 & -3.129162 & ⋯ &  0 &      0.00 & 0 &      0.00 & 0 & 0 &      0 & 0 &      0 & 0\\\\\n\t 25 & 498862XXXXXX1036 &  175506 & 2010-11-21 11:30:00 & -2.905438 & -3.692157 & -4.169345 & -4.167374 & -3.721696 & -4.182465 & ⋯ &  9 &  55548.89 & 6 &  48053.00 & 1 & 1 & 110022 & 0 &      0 & 0\\\\\n\t 26 & 491268XXXXXX6284 &   60000 & 2010-10-04 18:38:03 & -9.370757 & -3.692157 & -4.169345 & -4.490753 & -3.721696 & -4.538651 & ⋯ &  1 & 155590.00 & 0 &      0.00 & 0 & 0 &      0 & 0 &      0 & 0\\\\\n\t 27 & 459918XXXXXX8880 &  399761 & 2010-11-20 00:32:17 & -2.279267 & -3.692157 & -1.254165 & -4.015410 & -3.721696 & -4.051667 & ⋯ &  0 &      0.00 & 0 &      0.00 & 0 & 0 &      0 & 0 &      0 & 0\\\\\n\t 28 & 409744XXXXXX5336 &   98000 & 2010-11-29 16:34:24 & -3.211582 & -3.692157 & -3.873381 & -2.605739 & -3.721696 & -2.582147 & ⋯ &  0 &      0.00 & 0 &      0.00 & 0 & 0 &      0 & 0 &      0 & 0\\\\\n\t 29 & 451308XXXXXX8068 &   38900 & 2011-01-31 12:01:36 & -1.964933 & -3.692157 & -3.873381 & -3.747475 & -3.721696 & -3.801809 & ⋯ &  2 & 160857.00 & 0 &      0.00 & 0 & 0 &      0 & 0 &      0 & 0\\\\\n\t 30 & 455983XXXXXX5666 &   40500 & 2010-10-04 14:09:08 & -2.221419 & -3.692157 & -4.169345 & -3.817636 & -3.721696 & -3.898146 & ⋯ &  1 & 113000.00 & 1 & 113000.00 & 0 & 0 &      0 & 0 &      0 & 0\\\\\n\t ⋮ & ⋮ & ⋮ & ⋮ & ⋮ & ⋮ & ⋮ & ⋮ & ⋮ & ⋮ & ⋱ & ⋮ & ⋮ & ⋮ & ⋮ & ⋮ & ⋮ & ⋮ & ⋮ & ⋮ & ⋮\\\\\n\t  99971 & 411759XXXXXX8490 &   32060 & 2010-12-02 04:27:12 & -2.537173 & -3.692157 & -1.254165 & -2.605739 & -3.721696 & -2.582147 & ⋯ & 1 &      1.00 & 1 &      1.00 & 1 & 1 &      1.0 & 1 &      1 & 0\\\\\n\t  99972 & 491511XXXXXX7475 &  105818 & 2011-01-11 20:02:22 & -8.541363 & -3.692157 & -4.169345 & -4.015410 & -3.721696 & -4.051667 & ⋯ & 5 &  29694.00 & 3 &  10186.67 & 0 & 0 &      0.0 & 0 &      0 & 0\\\\\n\t  99973 & 491268XXXXXX7068 &   86710 & 2011-01-28 18:13:41 & -9.370757 & -3.692157 & -4.169345 & -4.490753 & -3.721696 & -4.538651 & ⋯ & 4 &  75987.50 & 0 &      0.00 & 0 & 0 &      0.0 & 0 &      0 & 0\\\\\n\t  99974 & 430274XXXXXX1280 &   90032 & 2010-11-19 17:36:17 & -5.330172 & -3.692157 & -4.169345 & -4.015410 & -3.721696 & -2.316760 & ⋯ & 5 & 372756.80 & 2 &  90032.00 & 5 & 5 & 372756.8 & 2 &  90032 & 0\\\\\n\t  99975 & 425950XXXXXX4675 &   52309 & 2010-10-30 16:58:29 & -2.635724 & -3.692157 & -3.873381 & -3.817636 & -3.721696 & -3.898146 & ⋯ & 2 & 139450.00 & 0 &      0.00 & 0 & 0 &      0.0 & 0 &      0 & 0\\\\\n\t  99976 & 451308XXXXXX0546 &  251200 & 2010-10-30 18:12:05 & -1.964933 & -3.692157 & -4.169345 & -3.747475 & -3.721696 & -3.801809 & ⋯ & 1 & 515831.00 & 1 & 515831.00 & 0 & 0 &      0.0 & 0 &      0 & 0\\\\\n\t  99977 & 491511XXXXXX7421 &   43000 & 2010-12-19 19:58:48 & -8.541363 & -3.692157 & -4.169345 & -4.015410 & -3.721696 & -4.051667 & ⋯ & 4 &  74240.00 & 0 &      0.00 & 1 & 1 & 159250.0 & 0 &      0 & 0\\\\\n\t  99978 & 451307XXXXXX3340 &   82023 & 2011-01-18 17:25:38 & -2.566954 & -3.692157 & -1.254165 & -3.747475 & -3.721696 & -3.801809 & ⋯ & 0 &      0.00 & 0 &      0.00 & 0 & 0 &      0.0 & 0 &      0 & 0\\\\\n\t  99979 & 451307XXXXXX8142 &   78740 & 2010-11-04 11:41:53 & -2.566954 & -3.692157 & -4.169345 & -3.747475 & -3.721696 & -3.801809 & ⋯ & 0 &      0.00 & 0 &      0.00 & 0 & 0 &      0.0 & 0 &      0 & 0\\\\\n\t  99980 & 498862XXXXXX1049 &   99609 & 2011-01-19 19:29:41 & -2.905438 & -3.692157 & -3.873381 & -4.167374 & -3.721696 & -4.182465 & ⋯ & 6 &  98480.00 & 1 & 160820.00 & 1 & 1 &  24860.0 & 0 &      0 & 0\\\\\n\t  99981 & 491511XXXXXX7297 &   18950 & 2010-12-16 18:23:52 & -8.541363 & -3.692157 & -3.873381 & -4.015410 & -3.721696 & -4.051667 & ⋯ & 4 &  43287.50 & 2 &  82500.00 & 0 & 0 &      0.0 & 0 &      0 & 0\\\\\n\t  99982 & 491511XXXXXX0215 &  189960 & 2011-01-28 18:53:59 & -8.541363 & -3.692157 & -3.873381 & -4.015410 & -3.721696 & -4.051667 & ⋯ & 4 & 103025.25 & 1 & 147600.00 & 1 & 1 & 147600.0 & 1 & 147600 & 0\\\\\n\t  99983 & 451307XXXXXX2415 &  157000 & 2011-01-18 12:41:03 & -2.566954 & -3.692157 & -3.873381 & -3.747475 & -3.721696 & -3.801809 & ⋯ & 2 & 115075.00 & 0 &      0.00 & 1 & 1 & 140000.0 & 0 &      0 & 0\\\\\n\t  99984 & 411759XXXXXX6479 &   49251 & 2011-01-21 11:45:57 & -2.537173 & -3.692157 & -3.873381 & -2.605739 & -3.721696 & -2.582147 & ⋯ & 1 &  75021.00 & 0 &      0.00 & 1 & 1 &  75021.0 & 0 &      0 & 0\\\\\n\t  99985 & 450942XXXXXX9538 &   41083 & 2010-12-24 12:29:13 & -2.716318 & -3.692157 & -4.169345 & -4.015410 & -3.721696 & -4.051667 & ⋯ & 4 & 338113.75 & 1 & 329555.00 & 0 & 0 &      0.0 & 0 &      0 & 0\\\\\n\t  99986 & 491511XXXXXX3361 &   22000 & 2011-01-01 17:48:32 & -8.541363 & -3.692157 & -3.873381 & -4.015410 & -3.721696 & -4.051667 & ⋯ & 4 &  81583.25 & 0 &      0.00 & 1 & 1 &  39400.0 & 0 &      0 & 0\\\\\n\t  99987 & 454600XXXXXX5305 &  414890 & 2010-10-05 14:56:12 & -2.262847 & -3.692157 & -4.169345 & -2.605739 & -3.721696 & -2.582147 & ⋯ & 0 &      0.00 & 0 &      0.00 & 0 & 0 &      0.0 & 0 &      0 & 0\\\\\n\t  99988 & 454600XXXXXX0980 &   52000 & 2011-01-28 09:41:47 & -2.262847 & -3.692157 & -4.169345 & -2.605739 & -3.721696 & -2.582147 & ⋯ & 0 &      0.00 & 0 &      0.00 & 0 & 0 &      0.0 & 0 &      0 & 0\\\\\n\t  99989 & 491511XXXXXX6543 &  236422 & 2010-10-06 18:05:09 & -8.541363 & -3.692157 & -4.169345 & -4.015410 & -3.721696 & -4.051667 & ⋯ & 6 &  41363.17 & 0 &      0.00 & 0 & 0 &      0.0 & 0 &      0 & 0\\\\\n\t  99990 & 491511XXXXXX9748 &  185767 & 2010-11-06 18:41:22 & -8.541363 & -3.692157 & -4.169345 & -4.015410 & -3.721696 & -4.051667 & ⋯ & 2 & 286189.50 & 1 & 137154.00 & 0 & 0 &      0.0 & 0 &      0 & 0\\\\\n\t  99991 & 491268XXXXXX0249 &   60000 & 2011-01-15 19:52:09 & -9.370757 & -3.864807 & -3.771418 & -4.490753 & -3.700459 & -4.538651 & ⋯ & 5 & 118979.20 & 2 & 250000.00 & 0 & 0 &      0.0 & 0 &      0 & 0\\\\\n\t  99992 & 449188XXXXXX7294 &   53830 & 2010-10-29 06:29:57 & -1.647936 & -3.692157 & -3.873381 & -3.747475 & -3.721696 & -3.801809 & ⋯ & 0 &      0.00 & 0 &      0.00 & 0 & 0 &      0.0 & 0 &      0 & 0\\\\\n\t  99993 & 455983XXXXXX1070 &  102039 & 2010-11-26 15:15:49 & -2.221419 & -3.692157 & -1.254165 & -3.817636 & -3.721696 & -3.898146 & ⋯ & 3 & 381996.67 & 0 &      0.00 & 1 & 1 & 617645.0 & 0 &      0 & 0\\\\\n\t  99994 & 454600XXXXXX8587 &  300000 & 2010-12-13 14:57:11 & -2.262847 & -3.692157 & -4.169345 & -2.605739 & -3.721696 & -2.582147 & ⋯ & 0 &      0.00 & 0 &      0.00 & 0 & 0 &      0.0 & 0 &      0 & 0\\\\\n\t  99995 & 491511XXXXXX9525 &   49750 & 2010-11-25 19:53:38 & -8.541363 & -3.692157 & -4.169345 & -4.015410 & -3.721696 & -4.051667 & ⋯ & 4 & 117598.50 & 2 &  49647.00 & 1 & 1 &  71020.0 & 1 &  71020 & 0\\\\\n\t  99996 & 450942XXXXXX2506 &   75000 & 2010-10-26 08:02:25 & -2.716318 & -3.692157 & -4.169345 & -4.015410 & -3.721696 & -4.051667 & ⋯ & 0 &      0.00 & 0 &      0.00 & 0 & 0 &      0.0 & 0 &      0 & 0\\\\\n\t  99997 & 457021XXXXXX0467 & 1500000 & 2010-11-29 18:32:46 & -3.190541 & -3.692157 & -4.169345 & -4.188494 & -3.721696 & -2.316760 & ⋯ & 0 &      0.00 & 0 &      0.00 & 0 & 0 &      0.0 & 0 &      0 & 0\\\\\n\t  99998 & 491268XXXXXX4880 &  111000 & 2010-12-27 08:35:53 & -9.370757 & -3.692157 & -4.169345 & -4.490753 & -3.721696 & -4.538651 & ⋯ & 0 &      0.00 & 0 &      0.00 & 0 & 0 &      0.0 & 0 &      0 & 0\\\\\n\t  99999 & 400608XXXXXX6393 &   50000 & 2010-12-15 19:22:30 & -2.287586 & -3.692157 & -3.873381 & -2.593422 & -3.721696 & -2.316760 & ⋯ & 0 &      0.00 & 0 &      0.00 & 0 & 0 &      0.0 & 0 &      0 & 0\\\\\n\t 100000 & 451308XXXXXX7345 &   99601 & 2010-10-29 14:19:36 & -1.964933 & -3.692157 & -3.873381 & -3.747475 & -3.721696 & -3.801809 & ⋯ & 1 & 134700.00 & 0 &      0.00 & 1 & 1 & 134700.0 & 0 &      0 & 0\\\\\n\\end{tabular}\n",
            "text/markdown": "\nA data.frame: 100000 × 50\n\n| X &lt;int&gt; | ID_TARJETA &lt;chr&gt; | VL_AUTORIZACION &lt;int&gt; | FC_AUTORIZACION &lt;chr&gt; | BIN &lt;dbl&gt; | DW_TIPO_OPERACION &lt;dbl&gt; | RED_ADQUIRENTE &lt;dbl&gt; | EMISOR &lt;dbl&gt; | RESPUESTA &lt;dbl&gt; | AUTORIZADOR &lt;dbl&gt; | ⋯ ⋯ | NO_TXN_SAME_PAIS_1D &lt;int&gt; | AVG_AMOUNT_SAME_PAIS_1D &lt;dbl&gt; | NO_TXN_SAME_MCC_1D &lt;int&gt; | AVG_AMOUNT_SAME_MCC_1D &lt;dbl&gt; | NO_TXN_1H &lt;int&gt; | NO_TXN_SAME_PAIS_1H &lt;int&gt; | AVG_AMOUNT_SAME_PAIS_1H &lt;dbl&gt; | NO_TXN_SAME_MCC_1H &lt;int&gt; | AVG_AMOUNT_SAME_MCC_1H &lt;dbl&gt; | FRAUDE &lt;int&gt; |\n|---|---|---|---|---|---|---|---|---|---|---|---|---|---|---|---|---|---|---|---|---|\n|  1 | 491511XXXXXX8475 |   17000 | 2010-11-23 17:29:55 | -8.541363 | -3.692157 | -3.873381 | -4.015410 | -3.721696 | -4.051667 | ⋯ |  3 |  22666.67 | 1 |  30000.00 | 0 | 0 |      0 | 0 |      0 | 0 |\n|  2 | 426288XXXXXX0019 |   32000 | 2010-11-26 11:51:29 | -5.171858 | -3.692157 | -4.169345 | -4.167374 | -3.721696 | -4.182465 | ⋯ | 15 |  91496.47 | 3 |  83366.67 | 2 | 2 |  56861 | 1 |  89000 | 0 |\n|  3 | 454600XXXXXX4004 |   30000 | 2010-10-08 20:44:30 | -2.262847 | -3.692157 | -3.873381 | -2.605739 | -3.721696 | -2.582147 | ⋯ |  1 |  20000.00 | 1 |  20000.00 | 1 | 1 |  20000 | 1 |  20000 | 0 |\n|  4 | 491268XXXXXX0696 |  400000 | 2010-12-16 07:43:23 | -9.370757 | -3.864807 | -3.771418 | -4.490753 | -3.700459 | -4.538651 | ⋯ |  1 |  37000.00 | 0 |      0.00 | 0 | 0 |      0 | 0 |      0 | 0 |\n|  5 | 498862XXXXXX1091 |   89430 | 2011-01-08 12:22:56 | -2.905438 | -3.692157 | -3.873381 | -4.167374 | -3.721696 | -4.182465 | ⋯ |  2 | 243083.50 | 1 | 359167.00 | 0 | 0 |      0 | 0 |      0 | 0 |\n|  6 | 491511XXXXXX1319 | 2546000 | 2010-11-22 16:28:44 | -8.541363 | -3.692157 | -3.873381 | -4.015410 | -3.721696 | -4.051667 | ⋯ |  2 |  62116.00 | 0 |      0.00 | 1 | 1 |  84232 | 0 |      0 | 0 |\n|  7 | 459918XXXXXX0972 |  137500 | 2010-12-07 13:38:06 | -2.279267 | -3.692157 | -4.169345 | -4.015410 | -3.721696 | -4.051667 | ⋯ |  0 |      0.00 | 0 |      0.00 | 0 | 0 |      0 | 0 |      0 | 0 |\n|  8 | 454616XXXXXX2127 |   38900 | 2010-12-15 08:15:44 | -4.787511 | -3.692157 | -4.169345 | -3.996104 | -3.721696 | -5.016259 | ⋯ |  1 | 142840.00 | 0 |      0.00 | 0 | 0 |      0 | 0 |      0 | 0 |\n|  9 | 456815XXXXXX9590 |  175400 | 2010-11-22 11:37:51 | -2.268066 | -3.692157 | -4.169345 | -3.105834 | -3.721696 | -3.129162 | ⋯ |  1 | 180800.00 | 0 |      0.00 | 0 | 0 |      0 | 0 |      0 | 0 |\n| 10 | 450942XXXXXX3261 |   59900 | 2011-01-22 12:24:54 | -2.716318 | -3.692157 | -4.169345 | -4.015410 | -3.721696 | -4.051667 | ⋯ |  2 | 776806.50 | 0 |      0.00 | 0 | 0 |      0 | 0 |      0 | 0 |\n| 11 | 459918XXXXXX5047 |  625059 | 2010-12-03 19:44:33 | -2.279267 | -3.692157 | -1.254165 | -4.015410 | -3.721696 | -4.051667 | ⋯ |  0 |      0.00 | 0 |      0.00 | 0 | 0 |      0 | 0 |      0 | 0 |\n| 12 | 498867XXXXXX0034 |  250700 | 2010-10-26 09:36:57 | -2.109566 | -3.692157 | -4.169345 | -3.048707 | -3.721696 | -3.236562 | ⋯ |  0 |      0.00 | 0 |      0.00 | 0 | 0 |      0 | 0 |      0 | 0 |\n| 13 | 409744XXXXXX1029 |  149000 | 2010-11-28 16:05:22 | -3.211582 | -3.692157 | -4.169345 | -2.605739 | -3.721696 | -2.582147 | ⋯ |  3 | 140433.33 | 2 | 140700.00 | 1 | 1 | 139900 | 0 |      0 | 0 |\n| 14 | 491511XXXXXX6772 |    8700 | 2010-11-19 18:25:37 | -8.541363 | -3.692157 | -3.873381 | -4.015410 | -3.721696 | -4.051667 | ⋯ |  5 |  40650.40 | 0 |      0.00 | 1 | 1 |  20000 | 0 |      0 | 0 |\n| 15 | 491362XXXXXX5666 | 1772517 | 2010-12-29 06:04:45 | -1.941071 | -3.692157 | -1.254165 | -3.105834 | -3.721696 | -3.129162 | ⋯ |  2 | 102125.00 | 1 | 175640.00 | 0 | 0 |      0 | 0 |      0 | 0 |\n| 16 | 491268XXXXXX4073 |   31787 | 2010-10-17 17:53:54 | -9.370757 | -3.692157 | -4.169345 | -4.490753 | -3.721696 | -4.538651 | ⋯ |  3 | 100946.67 | 1 |  35400.00 | 0 | 0 |      0 | 0 |      0 | 0 |\n| 17 | 465770XXXXXX4412 |  191900 | 2010-11-05 11:11:37 | -3.235304 | -3.692157 | -4.169345 | -4.015410 | -3.721696 | -4.051667 | ⋯ |  2 | 210375.00 | 2 | 210375.00 | 2 | 2 | 210375 | 2 | 210375 | 0 |\n| 18 | 491511XXXXXX5756 |   69850 | 2010-10-24 16:30:35 | -8.541363 | -3.692157 | -3.873381 | -4.015410 | -3.721696 | -4.051667 | ⋯ |  1 |  62000.00 | 0 |      0.00 | 0 | 0 |      0 | 0 |      0 | 0 |\n| 19 | 489911XXXXXX5734 |    8900 | 2010-11-18 12:39:57 | -1.534380 | -3.692157 | -3.873381 | -2.593422 | -3.721696 | -2.316760 | ⋯ |  1 |  21690.00 | 0 |      0.00 | 0 | 0 |      0 | 0 |      0 | 0 |\n| 20 | 450942XXXXXX6170 |   75000 | 2010-12-03 19:01:47 | -2.716318 | -3.692157 | -4.169345 | -4.015410 | -3.721696 | -4.051667 | ⋯ |  0 |      0.00 | 0 |      0.00 | 0 | 0 |      0 | 0 |      0 | 0 |\n| 21 | 451309XXXXXX0021 |  226991 | 2011-01-18 11:00:02 | -2.014059 | -3.692157 | -1.254165 | -3.747475 | -3.721696 | -3.801809 | ⋯ |  0 |      0.00 | 0 |      0.00 | 0 | 0 |      0 | 0 |      0 | 0 |\n| 22 | 491511XXXXXX8066 |    7000 | 2011-01-06 11:08:23 | -8.541363 | -3.692157 | -3.873381 | -4.015410 | -3.721696 | -4.051667 | ⋯ |  5 |  22564.40 | 0 |      0.00 | 0 | 0 |      0 | 0 |      0 | 0 |\n| 23 | 450942XXXXXX4305 |  100000 | 2010-10-23 09:59:10 | -2.716318 | -3.692157 | -3.873381 | -4.015410 | -3.721696 | -4.051667 | ⋯ |  0 |      0.00 | 0 |      0.00 | 0 | 0 |      0 | 0 |      0 | 0 |\n| 24 | 456815XXXXXX7924 |   78000 | 2010-11-03 10:44:23 | -2.268066 | -3.692157 | -4.169345 | -3.105834 | -3.721696 | -3.129162 | ⋯ |  0 |      0.00 | 0 |      0.00 | 0 | 0 |      0 | 0 |      0 | 0 |\n| 25 | 498862XXXXXX1036 |  175506 | 2010-11-21 11:30:00 | -2.905438 | -3.692157 | -4.169345 | -4.167374 | -3.721696 | -4.182465 | ⋯ |  9 |  55548.89 | 6 |  48053.00 | 1 | 1 | 110022 | 0 |      0 | 0 |\n| 26 | 491268XXXXXX6284 |   60000 | 2010-10-04 18:38:03 | -9.370757 | -3.692157 | -4.169345 | -4.490753 | -3.721696 | -4.538651 | ⋯ |  1 | 155590.00 | 0 |      0.00 | 0 | 0 |      0 | 0 |      0 | 0 |\n| 27 | 459918XXXXXX8880 |  399761 | 2010-11-20 00:32:17 | -2.279267 | -3.692157 | -1.254165 | -4.015410 | -3.721696 | -4.051667 | ⋯ |  0 |      0.00 | 0 |      0.00 | 0 | 0 |      0 | 0 |      0 | 0 |\n| 28 | 409744XXXXXX5336 |   98000 | 2010-11-29 16:34:24 | -3.211582 | -3.692157 | -3.873381 | -2.605739 | -3.721696 | -2.582147 | ⋯ |  0 |      0.00 | 0 |      0.00 | 0 | 0 |      0 | 0 |      0 | 0 |\n| 29 | 451308XXXXXX8068 |   38900 | 2011-01-31 12:01:36 | -1.964933 | -3.692157 | -3.873381 | -3.747475 | -3.721696 | -3.801809 | ⋯ |  2 | 160857.00 | 0 |      0.00 | 0 | 0 |      0 | 0 |      0 | 0 |\n| 30 | 455983XXXXXX5666 |   40500 | 2010-10-04 14:09:08 | -2.221419 | -3.692157 | -4.169345 | -3.817636 | -3.721696 | -3.898146 | ⋯ |  1 | 113000.00 | 1 | 113000.00 | 0 | 0 |      0 | 0 |      0 | 0 |\n| ⋮ | ⋮ | ⋮ | ⋮ | ⋮ | ⋮ | ⋮ | ⋮ | ⋮ | ⋮ | ⋱ | ⋮ | ⋮ | ⋮ | ⋮ | ⋮ | ⋮ | ⋮ | ⋮ | ⋮ | ⋮ |\n|  99971 | 411759XXXXXX8490 |   32060 | 2010-12-02 04:27:12 | -2.537173 | -3.692157 | -1.254165 | -2.605739 | -3.721696 | -2.582147 | ⋯ | 1 |      1.00 | 1 |      1.00 | 1 | 1 |      1.0 | 1 |      1 | 0 |\n|  99972 | 491511XXXXXX7475 |  105818 | 2011-01-11 20:02:22 | -8.541363 | -3.692157 | -4.169345 | -4.015410 | -3.721696 | -4.051667 | ⋯ | 5 |  29694.00 | 3 |  10186.67 | 0 | 0 |      0.0 | 0 |      0 | 0 |\n|  99973 | 491268XXXXXX7068 |   86710 | 2011-01-28 18:13:41 | -9.370757 | -3.692157 | -4.169345 | -4.490753 | -3.721696 | -4.538651 | ⋯ | 4 |  75987.50 | 0 |      0.00 | 0 | 0 |      0.0 | 0 |      0 | 0 |\n|  99974 | 430274XXXXXX1280 |   90032 | 2010-11-19 17:36:17 | -5.330172 | -3.692157 | -4.169345 | -4.015410 | -3.721696 | -2.316760 | ⋯ | 5 | 372756.80 | 2 |  90032.00 | 5 | 5 | 372756.8 | 2 |  90032 | 0 |\n|  99975 | 425950XXXXXX4675 |   52309 | 2010-10-30 16:58:29 | -2.635724 | -3.692157 | -3.873381 | -3.817636 | -3.721696 | -3.898146 | ⋯ | 2 | 139450.00 | 0 |      0.00 | 0 | 0 |      0.0 | 0 |      0 | 0 |\n|  99976 | 451308XXXXXX0546 |  251200 | 2010-10-30 18:12:05 | -1.964933 | -3.692157 | -4.169345 | -3.747475 | -3.721696 | -3.801809 | ⋯ | 1 | 515831.00 | 1 | 515831.00 | 0 | 0 |      0.0 | 0 |      0 | 0 |\n|  99977 | 491511XXXXXX7421 |   43000 | 2010-12-19 19:58:48 | -8.541363 | -3.692157 | -4.169345 | -4.015410 | -3.721696 | -4.051667 | ⋯ | 4 |  74240.00 | 0 |      0.00 | 1 | 1 | 159250.0 | 0 |      0 | 0 |\n|  99978 | 451307XXXXXX3340 |   82023 | 2011-01-18 17:25:38 | -2.566954 | -3.692157 | -1.254165 | -3.747475 | -3.721696 | -3.801809 | ⋯ | 0 |      0.00 | 0 |      0.00 | 0 | 0 |      0.0 | 0 |      0 | 0 |\n|  99979 | 451307XXXXXX8142 |   78740 | 2010-11-04 11:41:53 | -2.566954 | -3.692157 | -4.169345 | -3.747475 | -3.721696 | -3.801809 | ⋯ | 0 |      0.00 | 0 |      0.00 | 0 | 0 |      0.0 | 0 |      0 | 0 |\n|  99980 | 498862XXXXXX1049 |   99609 | 2011-01-19 19:29:41 | -2.905438 | -3.692157 | -3.873381 | -4.167374 | -3.721696 | -4.182465 | ⋯ | 6 |  98480.00 | 1 | 160820.00 | 1 | 1 |  24860.0 | 0 |      0 | 0 |\n|  99981 | 491511XXXXXX7297 |   18950 | 2010-12-16 18:23:52 | -8.541363 | -3.692157 | -3.873381 | -4.015410 | -3.721696 | -4.051667 | ⋯ | 4 |  43287.50 | 2 |  82500.00 | 0 | 0 |      0.0 | 0 |      0 | 0 |\n|  99982 | 491511XXXXXX0215 |  189960 | 2011-01-28 18:53:59 | -8.541363 | -3.692157 | -3.873381 | -4.015410 | -3.721696 | -4.051667 | ⋯ | 4 | 103025.25 | 1 | 147600.00 | 1 | 1 | 147600.0 | 1 | 147600 | 0 |\n|  99983 | 451307XXXXXX2415 |  157000 | 2011-01-18 12:41:03 | -2.566954 | -3.692157 | -3.873381 | -3.747475 | -3.721696 | -3.801809 | ⋯ | 2 | 115075.00 | 0 |      0.00 | 1 | 1 | 140000.0 | 0 |      0 | 0 |\n|  99984 | 411759XXXXXX6479 |   49251 | 2011-01-21 11:45:57 | -2.537173 | -3.692157 | -3.873381 | -2.605739 | -3.721696 | -2.582147 | ⋯ | 1 |  75021.00 | 0 |      0.00 | 1 | 1 |  75021.0 | 0 |      0 | 0 |\n|  99985 | 450942XXXXXX9538 |   41083 | 2010-12-24 12:29:13 | -2.716318 | -3.692157 | -4.169345 | -4.015410 | -3.721696 | -4.051667 | ⋯ | 4 | 338113.75 | 1 | 329555.00 | 0 | 0 |      0.0 | 0 |      0 | 0 |\n|  99986 | 491511XXXXXX3361 |   22000 | 2011-01-01 17:48:32 | -8.541363 | -3.692157 | -3.873381 | -4.015410 | -3.721696 | -4.051667 | ⋯ | 4 |  81583.25 | 0 |      0.00 | 1 | 1 |  39400.0 | 0 |      0 | 0 |\n|  99987 | 454600XXXXXX5305 |  414890 | 2010-10-05 14:56:12 | -2.262847 | -3.692157 | -4.169345 | -2.605739 | -3.721696 | -2.582147 | ⋯ | 0 |      0.00 | 0 |      0.00 | 0 | 0 |      0.0 | 0 |      0 | 0 |\n|  99988 | 454600XXXXXX0980 |   52000 | 2011-01-28 09:41:47 | -2.262847 | -3.692157 | -4.169345 | -2.605739 | -3.721696 | -2.582147 | ⋯ | 0 |      0.00 | 0 |      0.00 | 0 | 0 |      0.0 | 0 |      0 | 0 |\n|  99989 | 491511XXXXXX6543 |  236422 | 2010-10-06 18:05:09 | -8.541363 | -3.692157 | -4.169345 | -4.015410 | -3.721696 | -4.051667 | ⋯ | 6 |  41363.17 | 0 |      0.00 | 0 | 0 |      0.0 | 0 |      0 | 0 |\n|  99990 | 491511XXXXXX9748 |  185767 | 2010-11-06 18:41:22 | -8.541363 | -3.692157 | -4.169345 | -4.015410 | -3.721696 | -4.051667 | ⋯ | 2 | 286189.50 | 1 | 137154.00 | 0 | 0 |      0.0 | 0 |      0 | 0 |\n|  99991 | 491268XXXXXX0249 |   60000 | 2011-01-15 19:52:09 | -9.370757 | -3.864807 | -3.771418 | -4.490753 | -3.700459 | -4.538651 | ⋯ | 5 | 118979.20 | 2 | 250000.00 | 0 | 0 |      0.0 | 0 |      0 | 0 |\n|  99992 | 449188XXXXXX7294 |   53830 | 2010-10-29 06:29:57 | -1.647936 | -3.692157 | -3.873381 | -3.747475 | -3.721696 | -3.801809 | ⋯ | 0 |      0.00 | 0 |      0.00 | 0 | 0 |      0.0 | 0 |      0 | 0 |\n|  99993 | 455983XXXXXX1070 |  102039 | 2010-11-26 15:15:49 | -2.221419 | -3.692157 | -1.254165 | -3.817636 | -3.721696 | -3.898146 | ⋯ | 3 | 381996.67 | 0 |      0.00 | 1 | 1 | 617645.0 | 0 |      0 | 0 |\n|  99994 | 454600XXXXXX8587 |  300000 | 2010-12-13 14:57:11 | -2.262847 | -3.692157 | -4.169345 | -2.605739 | -3.721696 | -2.582147 | ⋯ | 0 |      0.00 | 0 |      0.00 | 0 | 0 |      0.0 | 0 |      0 | 0 |\n|  99995 | 491511XXXXXX9525 |   49750 | 2010-11-25 19:53:38 | -8.541363 | -3.692157 | -4.169345 | -4.015410 | -3.721696 | -4.051667 | ⋯ | 4 | 117598.50 | 2 |  49647.00 | 1 | 1 |  71020.0 | 1 |  71020 | 0 |\n|  99996 | 450942XXXXXX2506 |   75000 | 2010-10-26 08:02:25 | -2.716318 | -3.692157 | -4.169345 | -4.015410 | -3.721696 | -4.051667 | ⋯ | 0 |      0.00 | 0 |      0.00 | 0 | 0 |      0.0 | 0 |      0 | 0 |\n|  99997 | 457021XXXXXX0467 | 1500000 | 2010-11-29 18:32:46 | -3.190541 | -3.692157 | -4.169345 | -4.188494 | -3.721696 | -2.316760 | ⋯ | 0 |      0.00 | 0 |      0.00 | 0 | 0 |      0.0 | 0 |      0 | 0 |\n|  99998 | 491268XXXXXX4880 |  111000 | 2010-12-27 08:35:53 | -9.370757 | -3.692157 | -4.169345 | -4.490753 | -3.721696 | -4.538651 | ⋯ | 0 |      0.00 | 0 |      0.00 | 0 | 0 |      0.0 | 0 |      0 | 0 |\n|  99999 | 400608XXXXXX6393 |   50000 | 2010-12-15 19:22:30 | -2.287586 | -3.692157 | -3.873381 | -2.593422 | -3.721696 | -2.316760 | ⋯ | 0 |      0.00 | 0 |      0.00 | 0 | 0 |      0.0 | 0 |      0 | 0 |\n| 100000 | 451308XXXXXX7345 |   99601 | 2010-10-29 14:19:36 | -1.964933 | -3.692157 | -3.873381 | -3.747475 | -3.721696 | -3.801809 | ⋯ | 1 | 134700.00 | 0 |      0.00 | 1 | 1 | 134700.0 | 0 |      0 | 0 |\n\n",
            "text/html": [
              "<table class=\"dataframe\">\n",
              "<caption>A data.frame: 100000 × 50</caption>\n",
              "<thead>\n",
              "\t<tr><th scope=col>X</th><th scope=col>ID_TARJETA</th><th scope=col>VL_AUTORIZACION</th><th scope=col>FC_AUTORIZACION</th><th scope=col>BIN</th><th scope=col>DW_TIPO_OPERACION</th><th scope=col>RED_ADQUIRENTE</th><th scope=col>EMISOR</th><th scope=col>RESPUESTA</th><th scope=col>AUTORIZADOR</th><th scope=col>⋯</th><th scope=col>NO_TXN_SAME_PAIS_1D</th><th scope=col>AVG_AMOUNT_SAME_PAIS_1D</th><th scope=col>NO_TXN_SAME_MCC_1D</th><th scope=col>AVG_AMOUNT_SAME_MCC_1D</th><th scope=col>NO_TXN_1H</th><th scope=col>NO_TXN_SAME_PAIS_1H</th><th scope=col>AVG_AMOUNT_SAME_PAIS_1H</th><th scope=col>NO_TXN_SAME_MCC_1H</th><th scope=col>AVG_AMOUNT_SAME_MCC_1H</th><th scope=col>FRAUDE</th></tr>\n",
              "\t<tr><th scope=col>&lt;int&gt;</th><th scope=col>&lt;chr&gt;</th><th scope=col>&lt;int&gt;</th><th scope=col>&lt;chr&gt;</th><th scope=col>&lt;dbl&gt;</th><th scope=col>&lt;dbl&gt;</th><th scope=col>&lt;dbl&gt;</th><th scope=col>&lt;dbl&gt;</th><th scope=col>&lt;dbl&gt;</th><th scope=col>&lt;dbl&gt;</th><th scope=col>⋯</th><th scope=col>&lt;int&gt;</th><th scope=col>&lt;dbl&gt;</th><th scope=col>&lt;int&gt;</th><th scope=col>&lt;dbl&gt;</th><th scope=col>&lt;int&gt;</th><th scope=col>&lt;int&gt;</th><th scope=col>&lt;dbl&gt;</th><th scope=col>&lt;int&gt;</th><th scope=col>&lt;dbl&gt;</th><th scope=col>&lt;int&gt;</th></tr>\n",
              "</thead>\n",
              "<tbody>\n",
              "\t<tr><td> 1</td><td>491511XXXXXX8475</td><td>  17000</td><td>2010-11-23 17:29:55</td><td>-8.541363</td><td>-3.692157</td><td>-3.873381</td><td>-4.015410</td><td>-3.721696</td><td>-4.051667</td><td>⋯</td><td> 3</td><td> 22666.67</td><td>1</td><td> 30000.00</td><td>0</td><td>0</td><td>     0</td><td>0</td><td>     0</td><td>0</td></tr>\n",
              "\t<tr><td> 2</td><td>426288XXXXXX0019</td><td>  32000</td><td>2010-11-26 11:51:29</td><td>-5.171858</td><td>-3.692157</td><td>-4.169345</td><td>-4.167374</td><td>-3.721696</td><td>-4.182465</td><td>⋯</td><td>15</td><td> 91496.47</td><td>3</td><td> 83366.67</td><td>2</td><td>2</td><td> 56861</td><td>1</td><td> 89000</td><td>0</td></tr>\n",
              "\t<tr><td> 3</td><td>454600XXXXXX4004</td><td>  30000</td><td>2010-10-08 20:44:30</td><td>-2.262847</td><td>-3.692157</td><td>-3.873381</td><td>-2.605739</td><td>-3.721696</td><td>-2.582147</td><td>⋯</td><td> 1</td><td> 20000.00</td><td>1</td><td> 20000.00</td><td>1</td><td>1</td><td> 20000</td><td>1</td><td> 20000</td><td>0</td></tr>\n",
              "\t<tr><td> 4</td><td>491268XXXXXX0696</td><td> 400000</td><td>2010-12-16 07:43:23</td><td>-9.370757</td><td>-3.864807</td><td>-3.771418</td><td>-4.490753</td><td>-3.700459</td><td>-4.538651</td><td>⋯</td><td> 1</td><td> 37000.00</td><td>0</td><td>     0.00</td><td>0</td><td>0</td><td>     0</td><td>0</td><td>     0</td><td>0</td></tr>\n",
              "\t<tr><td> 5</td><td>498862XXXXXX1091</td><td>  89430</td><td>2011-01-08 12:22:56</td><td>-2.905438</td><td>-3.692157</td><td>-3.873381</td><td>-4.167374</td><td>-3.721696</td><td>-4.182465</td><td>⋯</td><td> 2</td><td>243083.50</td><td>1</td><td>359167.00</td><td>0</td><td>0</td><td>     0</td><td>0</td><td>     0</td><td>0</td></tr>\n",
              "\t<tr><td> 6</td><td>491511XXXXXX1319</td><td>2546000</td><td>2010-11-22 16:28:44</td><td>-8.541363</td><td>-3.692157</td><td>-3.873381</td><td>-4.015410</td><td>-3.721696</td><td>-4.051667</td><td>⋯</td><td> 2</td><td> 62116.00</td><td>0</td><td>     0.00</td><td>1</td><td>1</td><td> 84232</td><td>0</td><td>     0</td><td>0</td></tr>\n",
              "\t<tr><td> 7</td><td>459918XXXXXX0972</td><td> 137500</td><td>2010-12-07 13:38:06</td><td>-2.279267</td><td>-3.692157</td><td>-4.169345</td><td>-4.015410</td><td>-3.721696</td><td>-4.051667</td><td>⋯</td><td> 0</td><td>     0.00</td><td>0</td><td>     0.00</td><td>0</td><td>0</td><td>     0</td><td>0</td><td>     0</td><td>0</td></tr>\n",
              "\t<tr><td> 8</td><td>454616XXXXXX2127</td><td>  38900</td><td>2010-12-15 08:15:44</td><td>-4.787511</td><td>-3.692157</td><td>-4.169345</td><td>-3.996104</td><td>-3.721696</td><td>-5.016259</td><td>⋯</td><td> 1</td><td>142840.00</td><td>0</td><td>     0.00</td><td>0</td><td>0</td><td>     0</td><td>0</td><td>     0</td><td>0</td></tr>\n",
              "\t<tr><td> 9</td><td>456815XXXXXX9590</td><td> 175400</td><td>2010-11-22 11:37:51</td><td>-2.268066</td><td>-3.692157</td><td>-4.169345</td><td>-3.105834</td><td>-3.721696</td><td>-3.129162</td><td>⋯</td><td> 1</td><td>180800.00</td><td>0</td><td>     0.00</td><td>0</td><td>0</td><td>     0</td><td>0</td><td>     0</td><td>0</td></tr>\n",
              "\t<tr><td>10</td><td>450942XXXXXX3261</td><td>  59900</td><td>2011-01-22 12:24:54</td><td>-2.716318</td><td>-3.692157</td><td>-4.169345</td><td>-4.015410</td><td>-3.721696</td><td>-4.051667</td><td>⋯</td><td> 2</td><td>776806.50</td><td>0</td><td>     0.00</td><td>0</td><td>0</td><td>     0</td><td>0</td><td>     0</td><td>0</td></tr>\n",
              "\t<tr><td>11</td><td>459918XXXXXX5047</td><td> 625059</td><td>2010-12-03 19:44:33</td><td>-2.279267</td><td>-3.692157</td><td>-1.254165</td><td>-4.015410</td><td>-3.721696</td><td>-4.051667</td><td>⋯</td><td> 0</td><td>     0.00</td><td>0</td><td>     0.00</td><td>0</td><td>0</td><td>     0</td><td>0</td><td>     0</td><td>0</td></tr>\n",
              "\t<tr><td>12</td><td>498867XXXXXX0034</td><td> 250700</td><td>2010-10-26 09:36:57</td><td>-2.109566</td><td>-3.692157</td><td>-4.169345</td><td>-3.048707</td><td>-3.721696</td><td>-3.236562</td><td>⋯</td><td> 0</td><td>     0.00</td><td>0</td><td>     0.00</td><td>0</td><td>0</td><td>     0</td><td>0</td><td>     0</td><td>0</td></tr>\n",
              "\t<tr><td>13</td><td>409744XXXXXX1029</td><td> 149000</td><td>2010-11-28 16:05:22</td><td>-3.211582</td><td>-3.692157</td><td>-4.169345</td><td>-2.605739</td><td>-3.721696</td><td>-2.582147</td><td>⋯</td><td> 3</td><td>140433.33</td><td>2</td><td>140700.00</td><td>1</td><td>1</td><td>139900</td><td>0</td><td>     0</td><td>0</td></tr>\n",
              "\t<tr><td>14</td><td>491511XXXXXX6772</td><td>   8700</td><td>2010-11-19 18:25:37</td><td>-8.541363</td><td>-3.692157</td><td>-3.873381</td><td>-4.015410</td><td>-3.721696</td><td>-4.051667</td><td>⋯</td><td> 5</td><td> 40650.40</td><td>0</td><td>     0.00</td><td>1</td><td>1</td><td> 20000</td><td>0</td><td>     0</td><td>0</td></tr>\n",
              "\t<tr><td>15</td><td>491362XXXXXX5666</td><td>1772517</td><td>2010-12-29 06:04:45</td><td>-1.941071</td><td>-3.692157</td><td>-1.254165</td><td>-3.105834</td><td>-3.721696</td><td>-3.129162</td><td>⋯</td><td> 2</td><td>102125.00</td><td>1</td><td>175640.00</td><td>0</td><td>0</td><td>     0</td><td>0</td><td>     0</td><td>0</td></tr>\n",
              "\t<tr><td>16</td><td>491268XXXXXX4073</td><td>  31787</td><td>2010-10-17 17:53:54</td><td>-9.370757</td><td>-3.692157</td><td>-4.169345</td><td>-4.490753</td><td>-3.721696</td><td>-4.538651</td><td>⋯</td><td> 3</td><td>100946.67</td><td>1</td><td> 35400.00</td><td>0</td><td>0</td><td>     0</td><td>0</td><td>     0</td><td>0</td></tr>\n",
              "\t<tr><td>17</td><td>465770XXXXXX4412</td><td> 191900</td><td>2010-11-05 11:11:37</td><td>-3.235304</td><td>-3.692157</td><td>-4.169345</td><td>-4.015410</td><td>-3.721696</td><td>-4.051667</td><td>⋯</td><td> 2</td><td>210375.00</td><td>2</td><td>210375.00</td><td>2</td><td>2</td><td>210375</td><td>2</td><td>210375</td><td>0</td></tr>\n",
              "\t<tr><td>18</td><td>491511XXXXXX5756</td><td>  69850</td><td>2010-10-24 16:30:35</td><td>-8.541363</td><td>-3.692157</td><td>-3.873381</td><td>-4.015410</td><td>-3.721696</td><td>-4.051667</td><td>⋯</td><td> 1</td><td> 62000.00</td><td>0</td><td>     0.00</td><td>0</td><td>0</td><td>     0</td><td>0</td><td>     0</td><td>0</td></tr>\n",
              "\t<tr><td>19</td><td>489911XXXXXX5734</td><td>   8900</td><td>2010-11-18 12:39:57</td><td>-1.534380</td><td>-3.692157</td><td>-3.873381</td><td>-2.593422</td><td>-3.721696</td><td>-2.316760</td><td>⋯</td><td> 1</td><td> 21690.00</td><td>0</td><td>     0.00</td><td>0</td><td>0</td><td>     0</td><td>0</td><td>     0</td><td>0</td></tr>\n",
              "\t<tr><td>20</td><td>450942XXXXXX6170</td><td>  75000</td><td>2010-12-03 19:01:47</td><td>-2.716318</td><td>-3.692157</td><td>-4.169345</td><td>-4.015410</td><td>-3.721696</td><td>-4.051667</td><td>⋯</td><td> 0</td><td>     0.00</td><td>0</td><td>     0.00</td><td>0</td><td>0</td><td>     0</td><td>0</td><td>     0</td><td>0</td></tr>\n",
              "\t<tr><td>21</td><td>451309XXXXXX0021</td><td> 226991</td><td>2011-01-18 11:00:02</td><td>-2.014059</td><td>-3.692157</td><td>-1.254165</td><td>-3.747475</td><td>-3.721696</td><td>-3.801809</td><td>⋯</td><td> 0</td><td>     0.00</td><td>0</td><td>     0.00</td><td>0</td><td>0</td><td>     0</td><td>0</td><td>     0</td><td>0</td></tr>\n",
              "\t<tr><td>22</td><td>491511XXXXXX8066</td><td>   7000</td><td>2011-01-06 11:08:23</td><td>-8.541363</td><td>-3.692157</td><td>-3.873381</td><td>-4.015410</td><td>-3.721696</td><td>-4.051667</td><td>⋯</td><td> 5</td><td> 22564.40</td><td>0</td><td>     0.00</td><td>0</td><td>0</td><td>     0</td><td>0</td><td>     0</td><td>0</td></tr>\n",
              "\t<tr><td>23</td><td>450942XXXXXX4305</td><td> 100000</td><td>2010-10-23 09:59:10</td><td>-2.716318</td><td>-3.692157</td><td>-3.873381</td><td>-4.015410</td><td>-3.721696</td><td>-4.051667</td><td>⋯</td><td> 0</td><td>     0.00</td><td>0</td><td>     0.00</td><td>0</td><td>0</td><td>     0</td><td>0</td><td>     0</td><td>0</td></tr>\n",
              "\t<tr><td>24</td><td>456815XXXXXX7924</td><td>  78000</td><td>2010-11-03 10:44:23</td><td>-2.268066</td><td>-3.692157</td><td>-4.169345</td><td>-3.105834</td><td>-3.721696</td><td>-3.129162</td><td>⋯</td><td> 0</td><td>     0.00</td><td>0</td><td>     0.00</td><td>0</td><td>0</td><td>     0</td><td>0</td><td>     0</td><td>0</td></tr>\n",
              "\t<tr><td>25</td><td>498862XXXXXX1036</td><td> 175506</td><td>2010-11-21 11:30:00</td><td>-2.905438</td><td>-3.692157</td><td>-4.169345</td><td>-4.167374</td><td>-3.721696</td><td>-4.182465</td><td>⋯</td><td> 9</td><td> 55548.89</td><td>6</td><td> 48053.00</td><td>1</td><td>1</td><td>110022</td><td>0</td><td>     0</td><td>0</td></tr>\n",
              "\t<tr><td>26</td><td>491268XXXXXX6284</td><td>  60000</td><td>2010-10-04 18:38:03</td><td>-9.370757</td><td>-3.692157</td><td>-4.169345</td><td>-4.490753</td><td>-3.721696</td><td>-4.538651</td><td>⋯</td><td> 1</td><td>155590.00</td><td>0</td><td>     0.00</td><td>0</td><td>0</td><td>     0</td><td>0</td><td>     0</td><td>0</td></tr>\n",
              "\t<tr><td>27</td><td>459918XXXXXX8880</td><td> 399761</td><td>2010-11-20 00:32:17</td><td>-2.279267</td><td>-3.692157</td><td>-1.254165</td><td>-4.015410</td><td>-3.721696</td><td>-4.051667</td><td>⋯</td><td> 0</td><td>     0.00</td><td>0</td><td>     0.00</td><td>0</td><td>0</td><td>     0</td><td>0</td><td>     0</td><td>0</td></tr>\n",
              "\t<tr><td>28</td><td>409744XXXXXX5336</td><td>  98000</td><td>2010-11-29 16:34:24</td><td>-3.211582</td><td>-3.692157</td><td>-3.873381</td><td>-2.605739</td><td>-3.721696</td><td>-2.582147</td><td>⋯</td><td> 0</td><td>     0.00</td><td>0</td><td>     0.00</td><td>0</td><td>0</td><td>     0</td><td>0</td><td>     0</td><td>0</td></tr>\n",
              "\t<tr><td>29</td><td>451308XXXXXX8068</td><td>  38900</td><td>2011-01-31 12:01:36</td><td>-1.964933</td><td>-3.692157</td><td>-3.873381</td><td>-3.747475</td><td>-3.721696</td><td>-3.801809</td><td>⋯</td><td> 2</td><td>160857.00</td><td>0</td><td>     0.00</td><td>0</td><td>0</td><td>     0</td><td>0</td><td>     0</td><td>0</td></tr>\n",
              "\t<tr><td>30</td><td>455983XXXXXX5666</td><td>  40500</td><td>2010-10-04 14:09:08</td><td>-2.221419</td><td>-3.692157</td><td>-4.169345</td><td>-3.817636</td><td>-3.721696</td><td>-3.898146</td><td>⋯</td><td> 1</td><td>113000.00</td><td>1</td><td>113000.00</td><td>0</td><td>0</td><td>     0</td><td>0</td><td>     0</td><td>0</td></tr>\n",
              "\t<tr><td>⋮</td><td>⋮</td><td>⋮</td><td>⋮</td><td>⋮</td><td>⋮</td><td>⋮</td><td>⋮</td><td>⋮</td><td>⋮</td><td>⋱</td><td>⋮</td><td>⋮</td><td>⋮</td><td>⋮</td><td>⋮</td><td>⋮</td><td>⋮</td><td>⋮</td><td>⋮</td><td>⋮</td></tr>\n",
              "\t<tr><td> 99971</td><td>411759XXXXXX8490</td><td>  32060</td><td>2010-12-02 04:27:12</td><td>-2.537173</td><td>-3.692157</td><td>-1.254165</td><td>-2.605739</td><td>-3.721696</td><td>-2.582147</td><td>⋯</td><td>1</td><td>     1.00</td><td>1</td><td>     1.00</td><td>1</td><td>1</td><td>     1.0</td><td>1</td><td>     1</td><td>0</td></tr>\n",
              "\t<tr><td> 99972</td><td>491511XXXXXX7475</td><td> 105818</td><td>2011-01-11 20:02:22</td><td>-8.541363</td><td>-3.692157</td><td>-4.169345</td><td>-4.015410</td><td>-3.721696</td><td>-4.051667</td><td>⋯</td><td>5</td><td> 29694.00</td><td>3</td><td> 10186.67</td><td>0</td><td>0</td><td>     0.0</td><td>0</td><td>     0</td><td>0</td></tr>\n",
              "\t<tr><td> 99973</td><td>491268XXXXXX7068</td><td>  86710</td><td>2011-01-28 18:13:41</td><td>-9.370757</td><td>-3.692157</td><td>-4.169345</td><td>-4.490753</td><td>-3.721696</td><td>-4.538651</td><td>⋯</td><td>4</td><td> 75987.50</td><td>0</td><td>     0.00</td><td>0</td><td>0</td><td>     0.0</td><td>0</td><td>     0</td><td>0</td></tr>\n",
              "\t<tr><td> 99974</td><td>430274XXXXXX1280</td><td>  90032</td><td>2010-11-19 17:36:17</td><td>-5.330172</td><td>-3.692157</td><td>-4.169345</td><td>-4.015410</td><td>-3.721696</td><td>-2.316760</td><td>⋯</td><td>5</td><td>372756.80</td><td>2</td><td> 90032.00</td><td>5</td><td>5</td><td>372756.8</td><td>2</td><td> 90032</td><td>0</td></tr>\n",
              "\t<tr><td> 99975</td><td>425950XXXXXX4675</td><td>  52309</td><td>2010-10-30 16:58:29</td><td>-2.635724</td><td>-3.692157</td><td>-3.873381</td><td>-3.817636</td><td>-3.721696</td><td>-3.898146</td><td>⋯</td><td>2</td><td>139450.00</td><td>0</td><td>     0.00</td><td>0</td><td>0</td><td>     0.0</td><td>0</td><td>     0</td><td>0</td></tr>\n",
              "\t<tr><td> 99976</td><td>451308XXXXXX0546</td><td> 251200</td><td>2010-10-30 18:12:05</td><td>-1.964933</td><td>-3.692157</td><td>-4.169345</td><td>-3.747475</td><td>-3.721696</td><td>-3.801809</td><td>⋯</td><td>1</td><td>515831.00</td><td>1</td><td>515831.00</td><td>0</td><td>0</td><td>     0.0</td><td>0</td><td>     0</td><td>0</td></tr>\n",
              "\t<tr><td> 99977</td><td>491511XXXXXX7421</td><td>  43000</td><td>2010-12-19 19:58:48</td><td>-8.541363</td><td>-3.692157</td><td>-4.169345</td><td>-4.015410</td><td>-3.721696</td><td>-4.051667</td><td>⋯</td><td>4</td><td> 74240.00</td><td>0</td><td>     0.00</td><td>1</td><td>1</td><td>159250.0</td><td>0</td><td>     0</td><td>0</td></tr>\n",
              "\t<tr><td> 99978</td><td>451307XXXXXX3340</td><td>  82023</td><td>2011-01-18 17:25:38</td><td>-2.566954</td><td>-3.692157</td><td>-1.254165</td><td>-3.747475</td><td>-3.721696</td><td>-3.801809</td><td>⋯</td><td>0</td><td>     0.00</td><td>0</td><td>     0.00</td><td>0</td><td>0</td><td>     0.0</td><td>0</td><td>     0</td><td>0</td></tr>\n",
              "\t<tr><td> 99979</td><td>451307XXXXXX8142</td><td>  78740</td><td>2010-11-04 11:41:53</td><td>-2.566954</td><td>-3.692157</td><td>-4.169345</td><td>-3.747475</td><td>-3.721696</td><td>-3.801809</td><td>⋯</td><td>0</td><td>     0.00</td><td>0</td><td>     0.00</td><td>0</td><td>0</td><td>     0.0</td><td>0</td><td>     0</td><td>0</td></tr>\n",
              "\t<tr><td> 99980</td><td>498862XXXXXX1049</td><td>  99609</td><td>2011-01-19 19:29:41</td><td>-2.905438</td><td>-3.692157</td><td>-3.873381</td><td>-4.167374</td><td>-3.721696</td><td>-4.182465</td><td>⋯</td><td>6</td><td> 98480.00</td><td>1</td><td>160820.00</td><td>1</td><td>1</td><td> 24860.0</td><td>0</td><td>     0</td><td>0</td></tr>\n",
              "\t<tr><td> 99981</td><td>491511XXXXXX7297</td><td>  18950</td><td>2010-12-16 18:23:52</td><td>-8.541363</td><td>-3.692157</td><td>-3.873381</td><td>-4.015410</td><td>-3.721696</td><td>-4.051667</td><td>⋯</td><td>4</td><td> 43287.50</td><td>2</td><td> 82500.00</td><td>0</td><td>0</td><td>     0.0</td><td>0</td><td>     0</td><td>0</td></tr>\n",
              "\t<tr><td> 99982</td><td>491511XXXXXX0215</td><td> 189960</td><td>2011-01-28 18:53:59</td><td>-8.541363</td><td>-3.692157</td><td>-3.873381</td><td>-4.015410</td><td>-3.721696</td><td>-4.051667</td><td>⋯</td><td>4</td><td>103025.25</td><td>1</td><td>147600.00</td><td>1</td><td>1</td><td>147600.0</td><td>1</td><td>147600</td><td>0</td></tr>\n",
              "\t<tr><td> 99983</td><td>451307XXXXXX2415</td><td> 157000</td><td>2011-01-18 12:41:03</td><td>-2.566954</td><td>-3.692157</td><td>-3.873381</td><td>-3.747475</td><td>-3.721696</td><td>-3.801809</td><td>⋯</td><td>2</td><td>115075.00</td><td>0</td><td>     0.00</td><td>1</td><td>1</td><td>140000.0</td><td>0</td><td>     0</td><td>0</td></tr>\n",
              "\t<tr><td> 99984</td><td>411759XXXXXX6479</td><td>  49251</td><td>2011-01-21 11:45:57</td><td>-2.537173</td><td>-3.692157</td><td>-3.873381</td><td>-2.605739</td><td>-3.721696</td><td>-2.582147</td><td>⋯</td><td>1</td><td> 75021.00</td><td>0</td><td>     0.00</td><td>1</td><td>1</td><td> 75021.0</td><td>0</td><td>     0</td><td>0</td></tr>\n",
              "\t<tr><td> 99985</td><td>450942XXXXXX9538</td><td>  41083</td><td>2010-12-24 12:29:13</td><td>-2.716318</td><td>-3.692157</td><td>-4.169345</td><td>-4.015410</td><td>-3.721696</td><td>-4.051667</td><td>⋯</td><td>4</td><td>338113.75</td><td>1</td><td>329555.00</td><td>0</td><td>0</td><td>     0.0</td><td>0</td><td>     0</td><td>0</td></tr>\n",
              "\t<tr><td> 99986</td><td>491511XXXXXX3361</td><td>  22000</td><td>2011-01-01 17:48:32</td><td>-8.541363</td><td>-3.692157</td><td>-3.873381</td><td>-4.015410</td><td>-3.721696</td><td>-4.051667</td><td>⋯</td><td>4</td><td> 81583.25</td><td>0</td><td>     0.00</td><td>1</td><td>1</td><td> 39400.0</td><td>0</td><td>     0</td><td>0</td></tr>\n",
              "\t<tr><td> 99987</td><td>454600XXXXXX5305</td><td> 414890</td><td>2010-10-05 14:56:12</td><td>-2.262847</td><td>-3.692157</td><td>-4.169345</td><td>-2.605739</td><td>-3.721696</td><td>-2.582147</td><td>⋯</td><td>0</td><td>     0.00</td><td>0</td><td>     0.00</td><td>0</td><td>0</td><td>     0.0</td><td>0</td><td>     0</td><td>0</td></tr>\n",
              "\t<tr><td> 99988</td><td>454600XXXXXX0980</td><td>  52000</td><td>2011-01-28 09:41:47</td><td>-2.262847</td><td>-3.692157</td><td>-4.169345</td><td>-2.605739</td><td>-3.721696</td><td>-2.582147</td><td>⋯</td><td>0</td><td>     0.00</td><td>0</td><td>     0.00</td><td>0</td><td>0</td><td>     0.0</td><td>0</td><td>     0</td><td>0</td></tr>\n",
              "\t<tr><td> 99989</td><td>491511XXXXXX6543</td><td> 236422</td><td>2010-10-06 18:05:09</td><td>-8.541363</td><td>-3.692157</td><td>-4.169345</td><td>-4.015410</td><td>-3.721696</td><td>-4.051667</td><td>⋯</td><td>6</td><td> 41363.17</td><td>0</td><td>     0.00</td><td>0</td><td>0</td><td>     0.0</td><td>0</td><td>     0</td><td>0</td></tr>\n",
              "\t<tr><td> 99990</td><td>491511XXXXXX9748</td><td> 185767</td><td>2010-11-06 18:41:22</td><td>-8.541363</td><td>-3.692157</td><td>-4.169345</td><td>-4.015410</td><td>-3.721696</td><td>-4.051667</td><td>⋯</td><td>2</td><td>286189.50</td><td>1</td><td>137154.00</td><td>0</td><td>0</td><td>     0.0</td><td>0</td><td>     0</td><td>0</td></tr>\n",
              "\t<tr><td> 99991</td><td>491268XXXXXX0249</td><td>  60000</td><td>2011-01-15 19:52:09</td><td>-9.370757</td><td>-3.864807</td><td>-3.771418</td><td>-4.490753</td><td>-3.700459</td><td>-4.538651</td><td>⋯</td><td>5</td><td>118979.20</td><td>2</td><td>250000.00</td><td>0</td><td>0</td><td>     0.0</td><td>0</td><td>     0</td><td>0</td></tr>\n",
              "\t<tr><td> 99992</td><td>449188XXXXXX7294</td><td>  53830</td><td>2010-10-29 06:29:57</td><td>-1.647936</td><td>-3.692157</td><td>-3.873381</td><td>-3.747475</td><td>-3.721696</td><td>-3.801809</td><td>⋯</td><td>0</td><td>     0.00</td><td>0</td><td>     0.00</td><td>0</td><td>0</td><td>     0.0</td><td>0</td><td>     0</td><td>0</td></tr>\n",
              "\t<tr><td> 99993</td><td>455983XXXXXX1070</td><td> 102039</td><td>2010-11-26 15:15:49</td><td>-2.221419</td><td>-3.692157</td><td>-1.254165</td><td>-3.817636</td><td>-3.721696</td><td>-3.898146</td><td>⋯</td><td>3</td><td>381996.67</td><td>0</td><td>     0.00</td><td>1</td><td>1</td><td>617645.0</td><td>0</td><td>     0</td><td>0</td></tr>\n",
              "\t<tr><td> 99994</td><td>454600XXXXXX8587</td><td> 300000</td><td>2010-12-13 14:57:11</td><td>-2.262847</td><td>-3.692157</td><td>-4.169345</td><td>-2.605739</td><td>-3.721696</td><td>-2.582147</td><td>⋯</td><td>0</td><td>     0.00</td><td>0</td><td>     0.00</td><td>0</td><td>0</td><td>     0.0</td><td>0</td><td>     0</td><td>0</td></tr>\n",
              "\t<tr><td> 99995</td><td>491511XXXXXX9525</td><td>  49750</td><td>2010-11-25 19:53:38</td><td>-8.541363</td><td>-3.692157</td><td>-4.169345</td><td>-4.015410</td><td>-3.721696</td><td>-4.051667</td><td>⋯</td><td>4</td><td>117598.50</td><td>2</td><td> 49647.00</td><td>1</td><td>1</td><td> 71020.0</td><td>1</td><td> 71020</td><td>0</td></tr>\n",
              "\t<tr><td> 99996</td><td>450942XXXXXX2506</td><td>  75000</td><td>2010-10-26 08:02:25</td><td>-2.716318</td><td>-3.692157</td><td>-4.169345</td><td>-4.015410</td><td>-3.721696</td><td>-4.051667</td><td>⋯</td><td>0</td><td>     0.00</td><td>0</td><td>     0.00</td><td>0</td><td>0</td><td>     0.0</td><td>0</td><td>     0</td><td>0</td></tr>\n",
              "\t<tr><td> 99997</td><td>457021XXXXXX0467</td><td>1500000</td><td>2010-11-29 18:32:46</td><td>-3.190541</td><td>-3.692157</td><td>-4.169345</td><td>-4.188494</td><td>-3.721696</td><td>-2.316760</td><td>⋯</td><td>0</td><td>     0.00</td><td>0</td><td>     0.00</td><td>0</td><td>0</td><td>     0.0</td><td>0</td><td>     0</td><td>0</td></tr>\n",
              "\t<tr><td> 99998</td><td>491268XXXXXX4880</td><td> 111000</td><td>2010-12-27 08:35:53</td><td>-9.370757</td><td>-3.692157</td><td>-4.169345</td><td>-4.490753</td><td>-3.721696</td><td>-4.538651</td><td>⋯</td><td>0</td><td>     0.00</td><td>0</td><td>     0.00</td><td>0</td><td>0</td><td>     0.0</td><td>0</td><td>     0</td><td>0</td></tr>\n",
              "\t<tr><td> 99999</td><td>400608XXXXXX6393</td><td>  50000</td><td>2010-12-15 19:22:30</td><td>-2.287586</td><td>-3.692157</td><td>-3.873381</td><td>-2.593422</td><td>-3.721696</td><td>-2.316760</td><td>⋯</td><td>0</td><td>     0.00</td><td>0</td><td>     0.00</td><td>0</td><td>0</td><td>     0.0</td><td>0</td><td>     0</td><td>0</td></tr>\n",
              "\t<tr><td>100000</td><td>451308XXXXXX7345</td><td>  99601</td><td>2010-10-29 14:19:36</td><td>-1.964933</td><td>-3.692157</td><td>-3.873381</td><td>-3.747475</td><td>-3.721696</td><td>-3.801809</td><td>⋯</td><td>1</td><td>134700.00</td><td>0</td><td>     0.00</td><td>1</td><td>1</td><td>134700.0</td><td>0</td><td>     0</td><td>0</td></tr>\n",
              "</tbody>\n",
              "</table>\n"
            ]
          },
          "metadata": {
            "tags": []
          }
        }
      ]
    },
    {
      "cell_type": "markdown",
      "metadata": {
        "id": "XlPDiDJTu060"
      },
      "source": [
        "## EXTRA: Como salvar archivos en el drive desde google colab"
      ]
    },
    {
      "cell_type": "markdown",
      "metadata": {
        "id": "tJqyRgnAvFan"
      },
      "source": [
        "En esta sección mostramos como guardar un archivo desde google colab en el drive. En concreto, mostraremos como guardar un modelo de red neuronal que hayamos implementado. \n",
        "\n",
        "Primero instalamos y llamamos todas las librerias necesarias para nuestro ejemplo."
      ]
    },
    {
      "cell_type": "code",
      "metadata": {
        "colab": {
          "base_uri": "https://localhost:8080/"
        },
        "id": "Se_MZdSany9o",
        "outputId": "ab272cd1-823d-4735-9142-c2a827cb734f"
      },
      "source": [
        "install.packages('tictoc')\n",
        "library(tictoc)\n",
        "tic()\n",
        "install.packages('keras')\n",
        "install.packages('tfdatasets')\n",
        "install.packages('tfautograph')\n",
        "install.packages('reticulate')\n",
        "toc()\n",
        "library(keras)\n",
        "library(tfdatasets)\n",
        "library(tfautograph)\n",
        "library(reticulate)\n",
        "library(purrr)\n"
      ],
      "execution_count": null,
      "outputs": [
        {
          "output_type": "stream",
          "text": [
            "Installing package into ‘/usr/local/lib/R/site-library’\n",
            "(as ‘lib’ is unspecified)\n",
            "\n",
            "Installing package into ‘/usr/local/lib/R/site-library’\n",
            "(as ‘lib’ is unspecified)\n",
            "\n",
            "also installing the dependencies ‘png’, ‘config’, ‘reticulate’, ‘tensorflow’, ‘tfruns’, ‘zeallot’\n",
            "\n",
            "\n",
            "Installing package into ‘/usr/local/lib/R/site-library’\n",
            "(as ‘lib’ is unspecified)\n",
            "\n",
            "Installing package into ‘/usr/local/lib/R/site-library’\n",
            "(as ‘lib’ is unspecified)\n",
            "\n",
            "Installing package into ‘/usr/local/lib/R/site-library’\n",
            "(as ‘lib’ is unspecified)\n",
            "\n"
          ],
          "name": "stderr"
        },
        {
          "output_type": "stream",
          "text": [
            "86.487 sec elapsed\n"
          ],
          "name": "stdout"
        },
        {
          "output_type": "stream",
          "text": [
            "\n",
            "Attaching package: ‘keras’\n",
            "\n",
            "\n",
            "The following object is masked from ‘package:R.utils’:\n",
            "\n",
            "    evaluate\n",
            "\n",
            "\n",
            "The following object is masked from ‘package:R.oo’:\n",
            "\n",
            "    compile\n",
            "\n",
            "\n"
          ],
          "name": "stderr"
        }
      ]
    },
    {
      "cell_type": "markdown",
      "metadata": {
        "id": "gBl8DUyXwmcS"
      },
      "source": [
        "Preparamos los datos necesarios para el modelo."
      ]
    },
    {
      "cell_type": "code",
      "metadata": {
        "colab": {
          "base_uri": "https://localhost:8080/"
        },
        "id": "RO_TnXx8qBUj",
        "outputId": "8ecf3dec-51c4-455d-dec9-e1316622601a"
      },
      "source": [
        "img_rows <- 28\n",
        "img_cols <- 28\n",
        "\n",
        "mnist <- dataset_mnist()\n",
        "x_train <- mnist$train$x\n",
        "y_train <- mnist$train$y\n",
        "x_test <- mnist$test$x\n",
        "y_test <- mnist$test$y\n",
        "\n",
        "x_train <- array_reshape(x_train, c(nrow(x_train), img_rows, img_cols, 1))\n",
        "x_test <- array_reshape(x_test, c(nrow(x_test), img_rows, img_cols, 1))\n",
        "input_shape <- c(img_rows, img_cols, 1)\n",
        "\n",
        "x_train <- x_train / 255\n",
        "x_test <- x_test / 255\n",
        "\n",
        "cat('x_train_shape:', dim(x_train), '\\n')\n",
        "cat(nrow(x_train), 'train samples\\n')\n",
        "cat(nrow(x_test), 'test samples\\n')\n",
        "\n",
        "num_classes <- 10\n",
        "y_train <- to_categorical(y_train, num_classes)\n",
        "y_test <- to_categorical(y_test, num_classes)\n",
        "\n"
      ],
      "execution_count": null,
      "outputs": [
        {
          "output_type": "stream",
          "text": [
            "x_train_shape: 60000 28 28 1 \n",
            "60000 train samples\n",
            "10000 test samples\n"
          ],
          "name": "stdout"
        }
      ]
    },
    {
      "cell_type": "markdown",
      "metadata": {
        "id": "eM45k3mzwr4q"
      },
      "source": [
        "Implementamos y compilamos el modelo a continuación."
      ]
    },
    {
      "cell_type": "code",
      "metadata": {
        "id": "7k_WcIzjqJno"
      },
      "source": [
        "# help(\"layer_conv_2d\")\n",
        "# help(\"layer_max_pooling_2d\")\n",
        "# help(\"layer_flatten\")\n",
        "model <- keras_model_sequential() %>%\n",
        "  layer_conv_2d(filters = 32, kernel_size = c(3,3), activation = 'relu',\n",
        "                input_shape = input_shape) %>% \n",
        "  layer_conv_2d(filters = 64, kernel_size = c(3,3), activation = 'relu') %>% \n",
        "  layer_max_pooling_2d(pool_size = c(2, 2)) %>% \n",
        "  layer_dropout(rate = 0.25) %>% \n",
        "  layer_flatten() %>% \n",
        "  layer_dense(units = 128, activation = 'relu') %>% \n",
        "  layer_dropout(rate = 0.5) %>% \n",
        "  layer_dense(units = num_classes, activation = 'softmax')\n",
        "\n",
        "\n",
        "model %>% compile(\n",
        "  loss = loss_categorical_crossentropy,\n",
        "  optimizer = optimizer_adam(),\n",
        "  metrics = c('accuracy')\n",
        ")\n"
      ],
      "execution_count": null,
      "outputs": []
    },
    {
      "cell_type": "markdown",
      "metadata": {
        "id": "W2-ftqgSwweO"
      },
      "source": [
        "Entrenamos el modelo con 12 épocas."
      ]
    },
    {
      "cell_type": "code",
      "metadata": {
        "colab": {
          "base_uri": "https://localhost:8080/",
          "height": 506
        },
        "id": "gIJngNBpqN8q",
        "outputId": "d12d5de3-64ad-4c95-80b0-9bfcdc74c041"
      },
      "source": [
        "tic()\n",
        "batch_size <- 128\n",
        "epochs <- 12\n",
        "history<-model %>% fit(\n",
        "  x_train, y_train,\n",
        "  batch_size = batch_size,\n",
        "  epochs = epochs,\n",
        "  validation_split = 0.2,\n",
        "  verbose=2)\n",
        "\n",
        "plot(history)\n",
        "\n",
        "model %>% evaluate(x_test, y_test,verbose = 2)\n",
        "toc()"
      ],
      "execution_count": null,
      "outputs": [
        {
          "output_type": "stream",
          "text": [
            "`geom_smooth()` using formula 'y ~ x'\n",
            "\n"
          ],
          "name": "stderr"
        },
        {
          "output_type": "display_data",
          "data": {
            "text/plain": [
              "      loss   accuracy \n",
              "0.03403406 0.99140000 "
            ],
            "text/latex": "\\begin{description*}\n\\item[loss] 0.0340340621769428\n\\item[accuracy] 0.991400003433228\n\\end{description*}\n",
            "text/markdown": "loss\n:   0.0340340621769428accuracy\n:   0.991400003433228\n\n",
            "text/html": [
              "<style>\n",
              ".dl-inline {width: auto; margin:0; padding: 0}\n",
              ".dl-inline>dt, .dl-inline>dd {float: none; width: auto; display: inline-block}\n",
              ".dl-inline>dt::after {content: \":\\0020\"; padding-right: .5ex}\n",
              ".dl-inline>dt:not(:first-of-type) {padding-left: .5ex}\n",
              "</style><dl class=dl-inline><dt>loss</dt><dd>0.0340340621769428</dd><dt>accuracy</dt><dd>0.991400003433228</dd></dl>\n"
            ]
          },
          "metadata": {
            "tags": []
          }
        },
        {
          "output_type": "stream",
          "text": [
            "57.566 sec elapsed\n"
          ],
          "name": "stdout"
        },
        {
          "output_type": "display_data",
          "data": {
            "image/png": "[encoded data removed]",
            "text/plain": [
              "plot without title"
            ]
          },
          "metadata": {
            "tags": [],
            "image/png": {
              "width": 420,
              "height": 420
            }
          }
        }
      ]
    },
    {
      "cell_type": "markdown",
      "metadata": {
        "id": "TAntVrCJw2kL"
      },
      "source": [
        "Guardamos el modelo en un archivo .hdf5 y probamos a cargarlo en una nueva variable."
      ]
    },
    {
      "cell_type": "code",
      "metadata": {
        "colab": {
          "base_uri": "https://localhost:8080/",
          "height": 86
        },
        "id": "oM9Qf5Hjr95k",
        "outputId": "5edde86a-ff7f-4352-b1fc-ee804cffacae"
      },
      "source": [
        "save_model_hdf5(model, filepath = \"mnist_weights.hdf5\", overwrite = TRUE,\n",
        "  include_optimizer = TRUE)\n",
        "\n",
        "new_model = load_model_hdf5(\"mnist_weights.hdf5\", custom_objects = list(loss_categorical_crossentropy=loss_categorical_crossentropy), compile = TRUE)\n",
        "\n",
        "new_model %>% predict_classes(x_test)"
      ],
      "execution_count": null,
      "outputs": [
        {
          "output_type": "display_data",
          "data": {
            "text/plain": [
              "    [1] 7 2 1 0 4 1 4 9 5 9 0 6 9 0 1 5 9 7 3 4 9 6 6 5 4 0 7 4 0 1 3 1 3 4 7 2\n",
              "   [37] 7 1 2 1 1 7 4 2 3 5 1 2 4 4 6 3 5 5 6 0 4 1 9 5 7 8 9 3 7 4 6 4 3 0 7 0\n",
              "   [73] 2 9 1 7 3 2 9 7 7 6 2 7 8 4 7 3 6 1 3 6 9 3 1 4 1 7 6 9 6 0 5 4 9 9 2 1\n",
              "  [109] 9 4 8 7 3 9 7 4 4 4 9 2 5 4 7 6 7 9 0 5 8 5 6 6 5 7 8 1 0 1 6 4 6 7 3 1\n",
              "  [145] 7 1 8 2 0 2 9 9 5 5 1 5 6 0 3 4 4 6 5 4 6 5 4 5 1 4 4 7 2 3 2 7 1 8 1 8\n",
              "  [181] 1 8 5 0 8 9 2 5 0 1 1 1 0 9 0 3 1 6 4 2 3 6 1 1 1 3 9 5 2 9 4 3 9 3 9 0\n",
              "  [217] 3 6 5 5 7 2 2 7 1 2 8 4 1 7 3 3 8 8 7 9 2 2 4 1 5 9 8 7 2 3 0 4 4 2 4 1\n",
              "  [253] 9 5 7 7 2 8 2 6 8 5 7 7 9 1 8 1 8 0 3 0 1 9 9 4 1 8 2 1 2 9 7 5 9 2 6 4\n",
              "  [289] 1 5 8 2 9 2 0 4 0 0 2 8 4 7 1 2 4 0 2 7 4 3 3 0 0 3 1 9 6 5 2 5 8 7 9 3\n",
              "  [325] 0 4 2 0 7 1 1 2 1 5 3 3 9 7 8 6 3 6 1 3 8 1 0 5 1 3 1 5 5 6 1 8 5 1 7 9\n",
              "  [361] 4 6 2 2 5 0 6 5 6 3 7 2 0 8 8 5 4 1 1 4 0 3 3 7 6 1 6 2 1 9 2 8 6 1 9 5\n",
              "  [397] 2 5 4 4 2 8 3 8 2 4 5 0 3 1 7 7 5 7 9 7 1 9 2 1 4 2 9 2 0 4 9 1 4 8 1 8\n",
              "  [433] 4 5 9 8 8 3 7 6 0 0 3 0 2 6 6 4 9 5 3 3 2 3 9 1 2 6 8 0 5 6 6 6 3 8 8 2\n",
              "  [469] 7 5 8 9 6 1 8 4 1 2 5 9 1 9 7 5 4 0 8 9 9 1 0 5 2 3 7 8 9 4 0 6 3 9 5 2\n",
              "  [505] 1 3 1 3 6 5 7 4 2 2 6 3 2 6 5 4 8 9 7 1 3 0 3 8 3 1 9 3 4 4 6 4 2 1 8 2\n",
              "  [541] 5 4 8 8 4 0 0 2 3 2 7 7 0 8 7 4 4 7 9 6 9 0 9 8 0 4 6 0 6 3 5 4 8 3 3 9\n",
              "  [577] 3 3 3 7 8 0 8 2 1 7 0 6 5 4 3 8 0 9 6 3 8 0 9 9 6 8 6 8 5 7 8 6 0 2 4 0\n",
              "  [613] 2 2 3 1 9 7 5 1 0 8 4 6 2 6 7 9 3 2 9 8 2 2 9 2 7 3 5 9 1 8 0 2 0 5 4 1\n",
              "  [649] 3 7 6 7 1 2 5 8 0 3 7 2 4 0 9 1 8 6 7 7 4 3 4 9 1 9 5 1 7 3 9 7 6 9 1 3\n",
              "  [685] 3 8 3 3 6 7 2 8 5 8 5 1 1 4 4 3 1 0 7 7 0 7 9 4 4 8 5 5 4 0 8 2 1 0 8 4\n",
              "  [721] 5 0 4 0 6 1 7 3 2 6 7 2 6 9 3 1 4 6 2 5 4 2 0 6 2 1 7 3 4 1 0 5 4 3 1 1\n",
              "  [757] 7 4 9 9 4 8 4 0 2 4 5 1 1 6 4 7 1 9 4 2 4 1 5 5 3 8 3 1 4 5 6 8 9 4 1 5\n",
              "  [793] 3 8 0 3 2 5 1 2 8 3 4 4 0 8 8 3 3 1 7 3 5 9 6 3 2 6 1 3 6 0 7 2 1 7 1 4\n",
              "  [829] 2 4 2 1 7 9 6 1 1 2 4 8 1 7 7 4 8 0 7 3 1 3 1 0 7 7 0 3 5 5 2 7 6 6 9 2\n",
              "  [865] 8 3 5 2 2 5 6 0 8 2 9 2 8 8 8 8 7 4 9 3 0 6 6 3 2 1 3 2 2 9 3 0 0 5 7 8\n",
              "  [901] 1 4 4 6 0 2 9 1 4 7 4 7 3 9 8 8 4 7 1 2 1 2 2 3 2 3 2 3 9 1 7 4 0 3 5 5\n",
              "  [937] 8 6 3 2 6 7 6 6 3 2 7 8 1 1 7 5 6 4 9 5 1 3 3 4 7 8 9 1 1 6 9 1 4 4 5 4\n",
              "  [973] 0 6 2 2 3 1 5 1 2 0 3 8 1 2 6 7 1 6 2 3 9 0 1 2 2 0 8 9 9 0 2 5 1 9 7 8\n",
              " [1009] 1 0 4 1 7 9 5 4 2 6 8 1 3 7 5 4 4 1 8 1 3 8 1 2 5 8 0 6 2 1 1 3 1 5 3 4\n",
              " [1045] 6 9 5 0 9 2 2 4 8 2 1 7 2 4 9 4 4 0 3 9 2 2 3 3 8 3 5 7 3 5 8 1 2 4 4 6\n",
              " [1081] 4 9 5 1 0 6 9 5 9 5 9 7 3 8 0 3 7 1 3 6 7 8 5 9 7 9 6 9 6 3 7 4 4 5 3 5\n",
              " [1117] 4 7 8 7 8 0 7 6 8 8 7 3 3 1 9 5 2 7 3 5 1 1 2 1 4 7 4 7 5 4 5 4 0 8 3 6\n",
              " [1153] 9 6 0 2 7 4 4 4 4 6 6 4 7 9 3 4 5 5 8 7 3 7 2 7 0 2 4 1 1 6 6 9 2 8 7 2\n",
              " [1189] 0 1 5 0 9 1 7 0 6 0 8 6 8 1 8 0 3 3 7 2 3 6 2 1 6 1 1 3 7 9 0 8 0 5 4 0\n",
              " [1225] 4 8 2 2 9 8 4 0 4 5 8 5 1 2 1 3 1 7 4 5 7 2 0 9 8 8 6 2 5 4 1 9 2 1 5 8\n",
              " [1261] 1 0 2 4 4 3 6 8 8 2 4 0 5 0 4 4 7 9 3 4 1 5 9 7 3 5 8 8 0 5 3 3 6 6 0 1\n",
              " [1297] 6 0 3 3 4 4 1 2 9 1 4 6 9 9 3 9 8 4 4 3 1 3 1 0 8 7 9 4 8 8 7 9 7 1 4 5\n",
              " [1333] 6 0 5 2 2 2 1 5 5 2 4 9 6 2 7 7 2 2 1 1 2 8 3 7 2 4 1 7 1 7 6 7 2 2 7 3\n",
              " [1369] 1 7 5 8 2 6 2 2 5 6 5 0 9 2 4 3 3 9 7 6 6 8 0 4 1 3 8 2 9 1 8 0 6 7 2 1\n",
              " [1405] 0 5 5 2 0 2 2 0 2 4 7 8 0 9 9 4 6 5 4 9 1 8 3 4 9 9 1 2 2 8 1 9 6 4 0 9\n",
              " [1441] 4 8 3 8 6 0 2 5 1 9 6 2 9 4 0 9 6 0 6 2 5 4 2 3 8 4 5 5 0 3 8 5 3 5 8 6\n",
              " [1477] 5 7 6 3 3 9 6 1 1 2 9 0 4 3 3 6 9 5 7 3 7 7 7 8 7 9 8 3 0 7 2 7 9 4 5 4\n",
              " [1513] 9 3 2 1 4 0 2 3 7 5 7 8 8 5 0 1 1 4 7 3 9 0 0 0 6 6 2 3 7 8 4 7 7 9 2 4\n",
              " [1549] 1 4 5 2 4 9 9 1 8 4 0 9 8 4 8 7 7 0 7 8 8 6 0 4 8 8 2 4 7 6 6 6 4 7 1 8\n",
              " [1585] 8 2 3 6 3 0 0 3 7 6 9 7 9 9 5 4 3 3 6 1 2 3 7 3 3 2 0 3 3 8 4 3 6 3 5 0\n",
              " [1621] 2 0 9 0 7 4 6 9 3 5 1 9 6 1 4 5 4 5 0 5 9 5 2 1 2 9 1 9 9 4 0 8 4 5 2 9\n",
              " [1657] 2 1 2 1 7 3 6 8 8 4 9 1 9 8 5 7 5 1 1 8 6 5 2 4 4 7 2 3 5 6 8 8 6 2 3 1\n",
              " [1693] 0 5 8 9 2 9 6 7 0 4 8 7 1 7 4 1 0 5 7 2 0 0 9 1 7 8 7 8 4 7 2 0 4 6 0 3\n",
              " [1729] 1 1 3 3 9 6 7 4 1 5 3 0 8 7 3 9 6 9 3 5 0 2 7 4 5 1 7 5 8 0 8 8 1 5 0 3\n",
              " [1765] 0 3 1 4 0 3 7 2 7 6 8 0 7 0 4 3 1 9 8 7 7 1 4 9 9 3 2 1 7 9 0 2 0 3 3 7\n",
              " [1801] 6 9 2 3 3 7 7 0 0 7 5 2 9 8 7 4 4 2 6 6 1 9 6 8 2 9 0 8 3 1 1 6 3 5 1 1\n",
              " [1837] 1 3 1 2 3 0 2 0 1 3 5 5 7 4 8 9 6 9 6 8 3 6 6 8 5 1 4 2 4 4 5 1 1 9 0 2\n",
              " [1873] 4 9 5 7 1 8 3 5 6 9 8 7 1 1 6 7 6 3 2 2 0 8 9 2 5 1 0 8 1 4 5 7 9 6 9 0\n",
              " [1909] 6 1 5 5 8 3 8 2 6 5 0 7 4 6 1 3 4 7 3 2 3 4 2 5 2 7 1 7 2 6 4 1 5 7 8 6\n",
              " [1945] 0 1 8 2 5 7 7 6 9 3 5 8 4 2 4 0 8 8 3 4 9 2 7 5 8 6 5 6 0 8 6 7 3 6 4 9\n",
              " [1981] 4 6 6 3 2 4 1 0 1 4 6 2 9 1 1 0 6 3 9 5 6 5 6 5 8 4 6 4 3 9 1 3 4 1 9 1\n",
              " [2017] 7 1 1 9 3 5 4 0 7 3 6 1 7 5 5 3 3 0 1 3 7 5 8 6 5 1 0 8 2 3 4 6 7 9 8 1\n",
              " [2053] 8 9 9 2 8 6 2 7 0 0 6 7 5 8 6 0 9 3 7 1 3 5 4 3 3 5 5 6 3 0 2 3 4 2 3 0\n",
              " [2089] 9 9 4 7 2 8 4 7 0 6 2 8 5 2 8 5 7 3 0 8 2 3 2 8 2 5 5 7 6 4 0 8 4 8 2 7\n",
              " [2125] 4 5 2 0 3 8 9 6 7 2 5 1 1 1 2 3 6 7 8 7 6 4 8 9 4 8 6 3 8 3 1 0 6 2 2 5\n",
              " [2161] 6 9 5 8 1 4 1 7 8 4 6 1 8 4 3 1 2 8 0 8 5 9 1 4 2 0 2 7 0 9 0 2 5 7 6 7\n",
              " [2197] 9 4 2 6 2 4 4 8 0 4 4 5 8 0 6 8 9 8 5 6 9 0 4 8 7 1 3 4 5 8 0 9 1 3 3 6\n",
              " [2233] 9 8 7 1 0 5 7 1 7 5 2 7 9 1 8 5 2 4 9 4 7 2 2 3 4 9 1 9 2 1 7 9 4 4 1 6\n",
              " [2269] 7 2 7 8 8 1 9 7 1 1 7 5 3 3 5 1 3 7 6 1 3 8 7 5 9 4 0 0 2 8 8 2 3 7 1 3\n",
              " [2305] 0 3 4 4 3 8 9 2 3 9 7 1 1 7 0 4 9 6 5 9 1 7 0 2 0 0 4 6 7 0 7 1 4 6 4 5\n",
              " [2341] 4 9 9 1 7 9 5 3 3 8 2 3 6 2 2 1 1 1 1 1 6 9 8 4 3 7 1 6 4 5 0 4 7 4 2 4\n",
              " [2377] 0 7 0 1 9 8 8 6 0 0 4 1 6 8 2 2 3 8 4 8 2 2 1 7 5 4 4 0 4 3 9 7 3 1 0 1\n",
              " [2413] 2 5 4 2 1 0 1 8 9 1 6 8 3 8 9 3 6 2 8 3 2 2 1 0 4 2 9 2 4 3 7 9 1 5 2 4\n",
              " [2449] 9 0 3 8 5 3 6 0 9 4 6 2 5 0 0 7 4 6 6 8 6 6 8 6 9 1 7 2 5 9 9 0 7 2 7 6\n",
              " [2485] 7 0 6 5 2 4 7 2 0 9 9 2 2 9 4 4 2 3 3 2 1 7 0 7 6 4 1 3 8 7 4 5 9 2 5 1\n",
              " [2521] 8 7 3 7 1 5 5 0 9 1 4 0 6 3 3 6 0 4 9 7 5 1 6 8 9 5 5 7 9 3 8 3 8 1 5 3\n",
              " [2557] 5 0 5 5 3 8 6 7 7 7 3 7 0 5 9 0 2 5 5 3 1 7 7 8 6 5 9 3 8 9 5 3 7 9 1 7\n",
              " [2593] 0 0 3 7 2 3 8 1 8 6 2 9 5 7 5 7 8 6 2 5 1 4 8 4 5 8 3 0 6 2 7 3 3 2 1 0\n",
              " [2629] 7 3 4 0 3 9 3 2 8 9 0 3 8 0 7 6 5 4 7 3 9 0 8 6 2 5 1 1 0 0 4 4 0 1 2 3\n",
              " [2665] 2 7 7 8 5 2 5 7 6 9 1 4 1 6 4 2 4 3 5 4 3 9 5 0 1 5 3 8 9 1 9 7 9 5 5 2\n",
              " [2701] 7 4 6 0 1 1 1 0 4 4 7 6 3 0 0 4 3 0 6 1 4 6 1 3 8 1 2 5 6 2 7 3 6 0 1 9\n",
              " [2737] 7 6 6 8 9 2 0 5 8 3 1 0 0 7 6 6 2 1 6 9 3 1 8 6 9 0 6 0 0 0 6 3 5 9 3 4\n",
              " [2773] 5 5 8 5 3 0 4 0 2 9 6 8 2 3 1 2 1 1 5 6 9 8 0 6 6 5 5 3 8 6 2 1 4 5 4 3\n",
              " [2809] 7 8 5 0 9 3 5 1 1 0 4 4 7 0 1 7 0 1 6 1 4 5 6 6 5 7 8 4 4 7 2 5 3 7 0 7\n",
              " [2845] 7 9 6 4 2 8 5 7 8 3 9 5 8 9 9 8 6 2 8 9 2 3 6 1 1 8 9 3 4 0 7 9 6 4 1 4\n",
              " [2881] 1 3 4 9 3 1 4 7 7 4 7 2 9 3 0 8 0 8 4 0 4 4 1 5 2 8 3 4 9 5 2 8 1 5 3 7\n",
              " [2917] 9 4 2 5 6 2 5 9 3 5 9 7 1 9 5 3 0 6 9 8 4 0 4 5 2 9 0 1 0 3 1 6 5 8 1 5\n",
              " [2953] 3 3 0 3 5 5 9 2 8 7 0 4 9 1 9 7 7 5 5 2 0 9 1 8 6 2 3 9 6 2 1 9 1 3 5 5\n",
              " [2989] 0 3 8 3 3 7 6 6 0 1 4 0 6 9 8 1 2 8 9 5 9 7 3 7 8 0 1 3 0 4 6 1 0 2 5 8\n",
              " [3025] 4 4 1 1 5 4 6 6 0 6 9 2 6 2 7 1 7 9 4 0 0 3 8 2 2 3 1 6 0 5 7 7 9 2 6 7\n",
              " [3061] 7 7 8 6 8 8 4 6 8 4 1 2 8 1 3 9 4 0 3 7 3 2 3 3 7 3 4 0 6 2 0 8 1 5 3 5\n",
              " [3097] 4 1 7 1 5 7 5 7 3 2 2 7 3 7 3 7 8 5 4 5 2 5 6 5 3 6 7 4 1 7 1 5 2 3 6 3\n",
              " [3133] 1 4 2 6 7 4 3 8 0 6 2 1 6 5 3 9 1 9 3 2 1 8 4 4 6 5 8 6 9 7 7 8 6 9 7 3\n",
              " [3169] 9 4 0 5 4 6 4 1 2 3 0 0 2 6 6 5 7 0 8 6 4 7 9 0 7 3 4 2 1 8 8 5 9 2 7 1\n",
              " [3205] 8 8 8 2 7 6 0 1 2 7 1 0 8 3 6 0 5 3 6 2 8 7 0 1 4 2 1 1 4 4 4 4 7 1 6 2\n",
              " [3241] 9 9 0 0 1 8 8 4 3 4 2 0 6 1 6 1 2 2 2 1 2 3 7 8 1 0 0 2 1 6 6 0 1 6 2 5\n",
              " [3277] 1 7 4 8 2 1 4 3 8 3 9 9 4 8 3 4 7 2 7 5 7 0 4 3 3 2 6 7 6 0 0 6 7 7 0 5\n",
              " [3313] 5 8 1 0 7 0 2 8 1 5 0 8 8 0 3 2 7 7 2 6 4 7 5 5 5 2 9 2 8 4 6 8 6 5 0 0\n",
              " [3349] 8 7 6 1 7 1 1 2 7 4 0 0 7 7 6 3 8 6 4 2 0 9 4 0 5 7 8 2 7 4 7 1 1 3 6 6\n",
              " [3385] 2 9 1 9 4 8 3 6 9 5 9 6 2 4 6 7 7 0 6 6 9 4 8 3 5 3 4 9 0 0 5 2 5 0 7 1\n",
              " [3421] 1 1 0 7 6 7 9 6 6 4 1 4 3 1 1 2 2 4 1 0 8 7 6 3 4 0 0 6 3 3 0 7 1 7 1 1\n",
              " [3457] 3 1 0 9 9 7 5 4 1 4 8 9 5 3 5 1 9 8 2 3 3 9 9 0 1 0 2 9 3 9 3 3 6 2 4 9\n",
              " [3493] 8 3 7 4 0 4 7 8 4 9 8 1 9 7 5 9 2 8 2 2 0 2 2 3 8 4 6 8 4 8 2 4 6 7 9 3\n",
              " [3529] 3 9 4 3 1 4 4 7 0 5 9 6 0 4 4 4 4 6 1 2 3 3 6 4 5 9 6 8 5 6 0 8 6 4 1 8\n",
              " [3565] 6 5 2 8 4 5 5 4 7 7 0 7 8 2 2 3 7 0 1 8 0 7 1 9 8 7 5 5 9 1 7 5 4 9 1 2\n",
              " [3601] 2 1 6 6 7 1 1 4 0 7 4 2 4 0 6 4 7 6 9 5 3 4 6 5 0 1 8 8 2 8 3 5 7 8 0 8\n",
              " [3637] 5 7 1 1 0 1 3 7 8 5 0 7 1 1 0 1 1 4 5 2 7 6 2 3 0 2 8 5 9 6 9 7 2 1 3 6\n",
              " [3673] 4 1 8 2 4 0 5 1 0 2 2 6 4 4 3 9 6 1 6 5 7 9 2 0 2 6 0 1 4 3 5 2 8 8 0 8\n",
              " [3709] 8 9 0 9 6 7 6 3 9 3 4 7 7 7 4 9 0 6 4 8 4 2 7 2 8 1 0 0 7 8 3 3 3 1 3 7\n",
              " [3745] 6 1 3 1 6 6 5 7 4 7 5 9 5 8 4 9 9 1 6 5 0 1 3 7 0 3 4 8 2 2 0 2 5 1 8 1\n",
              " [3781] 4 8 8 9 1 2 1 3 5 1 0 9 4 4 8 3 2 5 9 7 6 6 2 0 0 0 8 8 8 1 5 2 3 8 5 1\n",
              " [3817] 8 2 0 4 9 9 6 2 3 3 5 6 4 8 0 9 2 8 3 6 7 5 7 2 9 4 9 1 2 8 6 0 7 0 4 1\n",
              " [3853] 1 6 7 5 9 9 1 9 5 9 2 5 0 4 1 0 8 9 0 8 9 8 9 4 2 5 7 9 8 9 8 0 9 9 6 8\n",
              " [3889] 9 9 5 9 8 5 1 0 3 3 5 2 1 6 5 0 2 8 3 5 6 2 3 0 2 2 6 4 3 5 5 1 7 2 1 6\n",
              " [3925] 9 1 9 9 5 5 1 6 2 2 8 6 7 1 4 6 0 6 0 3 3 2 2 3 6 8 9 8 5 3 8 5 4 5 2 0\n",
              " [3961] 5 6 3 2 8 3 9 9 5 7 9 4 6 7 1 3 7 3 6 6 0 9 0 1 9 4 2 8 8 0 1 6 9 7 5 3\n",
              " [3997] 4 7 4 9 9 4 3 6 3 1 1 7 6 9 1 8 4 1 1 9 9 4 3 6 8 1 6 0 4 1 3 1 7 4 9 5\n",
              " [4033] 1 0 0 1 1 6 2 1 9 8 4 0 3 6 4 9 0 7 1 6 5 7 5 2 5 1 8 5 4 7 0 6 7 0 2 5\n",
              " [4069] 8 1 0 4 5 7 1 8 5 1 8 0 0 6 0 7 3 1 8 3 9 7 0 0 8 9 5 9 8 3 2 7 2 9 7 2\n",
              " [4105] 1 1 3 7 5 3 1 9 8 2 2 2 8 8 5 7 3 8 9 8 8 6 8 2 3 9 7 5 6 2 9 2 8 8 1 6\n",
              " [4141] 8 8 7 9 1 8 0 1 7 2 0 7 5 1 9 0 2 0 9 8 6 2 3 9 3 8 0 2 1 1 1 1 4 2 9 7\n",
              " [4177] 7 5 1 1 2 1 9 9 9 1 0 2 0 2 1 1 4 6 4 1 5 4 9 7 7 1 5 6 2 2 2 8 0 6 9 6\n",
              " [4213] 1 9 7 7 1 4 8 5 3 4 3 4 9 7 5 0 7 4 8 8 1 5 3 9 5 9 7 6 9 0 3 6 3 9 8 2\n",
              " [4249] 2 1 2 8 6 8 5 5 3 9 4 9 2 5 1 5 1 4 4 1 4 4 3 5 9 1 2 2 3 3 0 2 9 0 0 9\n",
              " [4285] 9 6 0 9 3 2 8 4 1 9 9 7 2 7 9 9 5 9 5 1 1 8 3 5 1 9 5 3 5 4 9 5 9 3 1 9\n",
              " [4321] 0 9 7 5 4 9 2 0 1 0 5 1 4 9 3 3 6 1 5 2 5 2 2 0 9 2 6 6 0 1 2 0 3 0 2 5\n",
              " [4357] 5 7 9 5 3 0 8 9 5 0 3 2 5 9 0 8 8 4 5 8 8 4 5 4 8 5 4 9 2 2 1 2 6 8 8 7\n",
              " [4393] 0 3 6 6 4 3 8 8 7 2 2 0 0 4 3 9 9 1 9 8 6 6 4 2 6 9 2 8 5 4 5 7 9 9 9 2\n",
              " [4429] 1 8 3 4 0 7 8 3 9 3 4 6 5 6 2 3 9 2 6 0 0 6 1 2 8 7 9 8 2 0 4 7 7 5 0 5\n",
              " [4465] 6 4 6 7 4 3 0 7 5 0 7 4 2 0 8 9 9 4 2 4 6 7 8 7 6 9 4 1 3 7 3 0 8 8 7 6\n",
              " [4501] 9 3 9 2 2 9 2 1 8 3 2 9 6 8 4 0 1 2 8 4 5 2 7 8 1 1 3 0 3 5 7 0 3 1 9 3\n",
              " [4537] 6 3 1 7 7 3 0 8 4 8 2 6 5 2 9 7 3 9 0 9 9 6 4 2 9 7 2 1 1 6 7 4 7 5 9 8\n",
              " [4573] 8 2 1 4 4 5 7 6 1 3 2 5 9 9 3 6 1 1 4 6 9 7 2 1 5 1 4 6 3 8 1 1 0 3 1 6\n",
              " [4609] 8 4 9 0 7 3 0 4 9 0 6 6 6 3 6 7 7 2 8 6 0 8 3 0 2 9 8 3 2 5 3 8 8 0 0 1\n",
              " [4645] 9 5 1 3 9 6 0 1 4 1 7 1 2 3 7 9 7 4 9 9 3 9 2 8 2 7 1 8 0 9 1 0 1 7 7 9\n",
              " [4681] 6 9 9 9 2 1 6 1 3 5 7 1 9 7 6 4 5 7 6 6 9 9 6 3 6 2 9 8 1 2 2 5 5 2 3 7\n",
              " [4717] 2 1 0 1 0 4 5 2 8 2 8 3 5 1 7 8 1 1 2 9 7 8 4 0 5 0 7 8 8 4 7 7 8 5 8 4\n",
              " [4753] 9 8 1 3 8 0 3 1 7 8 5 6 1 6 5 7 4 9 3 5 4 7 1 2 0 8 1 6 0 7 3 4 7 3 9 6\n",
              " [4789] 0 8 6 4 8 7 7 9 3 8 6 9 7 2 3 4 0 2 1 0 3 5 5 7 2 4 6 7 2 8 3 0 8 7 8 4\n",
              " [4825] 0 8 4 4 5 8 5 6 6 3 0 9 3 7 6 8 9 3 4 9 5 8 9 1 2 8 8 6 8 1 3 7 9 0 1 1\n",
              " [4861] 9 7 0 8 1 7 4 5 7 1 2 1 1 3 9 6 2 1 2 8 0 7 6 6 9 3 7 0 5 2 8 0 5 4 3 8\n",
              " [4897] 4 6 6 2 7 9 5 1 3 2 4 3 6 1 9 4 4 7 6 5 4 1 9 9 2 7 8 0 1 3 6 1 3 4 1 1\n",
              " [4933] 1 5 6 0 7 0 7 2 3 2 5 2 2 9 4 9 8 1 2 1 6 1 2 7 8 0 0 0 8 2 2 9 2 2 7 9\n",
              " [4969] 9 2 7 5 1 3 4 9 4 1 8 5 6 2 8 3 1 2 8 4 9 9 3 7 0 7 7 2 3 2 4 0 3 9 9 8\n",
              " [5005] 4 1 0 6 0 9 6 8 6 1 1 9 8 9 2 3 5 5 9 4 2 1 9 4 3 9 6 0 4 0 6 0 1 2 3 4\n",
              " [5041] 7 8 9 0 1 2 3 4 7 8 9 0 1 2 3 4 5 6 7 8 9 8 3 4 7 8 6 3 4 0 9 7 1 9 3 8\n",
              " [5077] 4 7 3 0 9 1 4 5 4 6 2 0 6 2 1 1 1 1 7 2 4 7 5 2 9 4 5 8 4 2 9 7 0 0 7 5\n",
              " [5113] 1 1 7 6 6 6 8 2 2 7 7 4 0 2 4 2 1 8 9 6 1 0 5 9 6 9 8 0 3 0 8 3 9 6 3 0\n",
              " [5149] 1 2 3 4 5 6 7 0 1 2 3 4 5 6 7 8 9 0 1 2 3 4 5 6 7 8 5 4 8 7 4 7 7 3 9 8\n",
              " [5185] 8 3 1 5 8 2 7 4 2 1 5 4 5 5 8 6 4 4 4 1 8 7 5 5 1 8 9 1 3 6 3 3 2 2 6 9\n",
              " [5221] 9 6 5 5 3 3 8 1 6 5 6 8 1 9 7 6 8 3 7 4 7 0 9 0 0 3 7 9 3 0 2 0 1 0 1 0\n",
              " [5257] 4 0 1 0 4 7 9 6 2 6 2 2 9 9 0 1 2 3 4 5 6 7 8 9 0 1 2 3 4 5 6 7 8 9 0 1\n",
              " [5293] 2 3 4 5 6 7 8 9 8 0 5 6 6 0 8 0 2 3 7 9 4 7 1 9 1 7 1 4 0 0 4 1 7 5 7 1\n",
              " [5329] 3 3 3 6 6 9 7 4 3 0 2 5 2 6 0 8 9 4 3 5 4 8 1 5 9 0 6 4 3 6 3 3 8 1 4 7\n",
              " [5365] 5 7 2 2 0 0 1 7 7 9 5 9 8 9 6 8 8 2 3 6 1 2 9 8 9 5 2 6 2 4 8 4 6 5 0 1\n",
              " [5401] 5 6 7 8 9 0 1 2 3 4 5 6 7 8 9 0 1 2 3 4 5 6 7 8 9 7 4 2 0 9 0 1 5 8 8 0\n",
              " [5437] 2 7 8 4 4 6 1 0 4 5 3 9 4 2 0 5 0 1 3 2 9 1 6 0 1 1 8 0 4 7 7 6 3 6 0 7\n",
              " [5473] 3 5 4 2 4 1 8 3 5 6 7 0 6 7 1 2 5 8 1 9 3 8 2 8 7 6 7 1 4 6 2 9 3 0 1 2\n",
              " [5509] 3 4 5 6 7 0 1 2 3 4 5 0 1 2 8 9 1 4 0 9 5 0 8 0 7 7 1 1 2 9 3 6 7 2 3 8\n",
              " [5545] 1 2 9 8 8 7 1 7 1 1 0 3 4 2 6 4 7 4 2 7 4 9 1 0 6 8 5 5 5 3 5 9 7 4 8 5\n",
              " [5581] 9 6 9 3 0 3 8 9 1 8 1 6 0 0 1 2 3 4 5 6 7 8 9 0 1 2 3 4 5 6 7 8 9 0 1 2\n",
              " [5617] 3 4 5 6 7 8 9 3 5 3 2 9 3 2 1 4 5 5 2 3 2 1 3 9 7 2 1 2 8 9 1 8 8 7 8 1\n",
              " [5653] 0 0 7 7 8 7 5 0 6 1 5 7 4 6 1 2 5 0 7 9 9 0 3 8 4 4 8 1 8 6 5 9 0 0 0 3\n",
              " [5689] 7 1 6 4 2 6 6 0 4 5 4 1 3 8 6 3 9 9 5 9 3 7 8 5 6 4 7 6 2 2 0 9 4 0 1 2\n",
              " [5725] 3 4 5 6 7 8 9 0 1 2 3 5 6 0 1 2 3 4 5 6 8 7 1 3 2 8 0 7 5 9 9 6 0 9 4 1\n",
              " [5761] 3 2 1 2 3 8 3 2 6 5 6 8 2 7 4 8 1 8 0 5 3 9 4 1 9 2 1 9 6 7 9 0 4 6 1 7\n",
              " [5797] 3 8 7 2 9 6 5 8 3 9 0 5 7 1 6 1 0 9 3 3 4 4 0 6 2 5 4 2 3 4 6 0 0 2 0 1\n",
              " [5833] 4 5 6 7 8 9 0 1 2 3 4 5 6 7 8 0 1 2 3 4 5 6 7 8 9 8 7 1 3 7 5 2 8 0 7 5\n",
              " [5869] 9 9 0 9 1 1 5 8 8 6 3 2 1 8 3 2 6 5 6 7 4 1 0 5 3 1 9 2 1 9 6 0 4 6 1 7\n",
              " [5905] 3 8 7 2 9 6 5 8 3 5 7 1 6 1 0 9 6 2 5 4 2 3 4 4 6 0 0 2 0 1 2 3 4 3 6 7\n",
              " [5941] 8 9 0 1 2 3 4 5 6 7 8 9 0 1 2 8 4 5 6 7 8 9 8 6 5 0 6 8 9 4 1 9 5 3 0 4\n",
              " [5977] 8 9 1 4 0 5 5 2 1 5 4 0 7 6 0 1 7 0 6 8 9 9 1 7 9 8 6 0 8 1 7 7 1 3 2 3\n",
              " [6013] 1 4 2 0 0 7 8 4 6 4 9 3 8 4 7 2 5 6 3 6 9 6 3 2 2 4 6 9 0 2 5 5 1 3 3 9\n",
              " [6049] 7 8 7 2 2 5 7 9 8 2 1 3 1 3 0 1 2 3 4 5 6 7 8 9 0 1 2 3 4 5 6 7 8 9 0 1\n",
              " [6085] 2 3 4 5 6 7 8 9 1 2 6 5 3 0 7 0 4 1 4 3 6 7 2 3 1 2 1 2 9 6 0 1 3 0 2 7\n",
              " [6121] 5 7 6 2 9 1 9 0 6 0 6 0 2 0 6 1 5 8 4 3 0 1 5 4 4 8 5 7 5 7 8 3 4 8 8 5\n",
              " [6157] 2 9 7 1 3 8 1 0 7 5 9 6 9 4 7 7 9 9 3 4 4 3 8 6 2 0 1 2 3 4 5 6 7 8 9 0\n",
              " [6193] 1 2 3 4 5 6 7 8 9 0 1 2 3 4 5 6 7 8 9 0 8 3 9 5 5 2 6 8 4 9 1 7 1 2 3 5\n",
              " [6229] 9 6 9 1 1 1 2 9 5 6 8 1 2 0 7 7 5 8 2 9 8 9 0 4 6 7 1 3 4 5 6 0 3 6 8 7\n",
              " [6265] 0 4 2 7 4 7 5 4 3 4 2 8 1 5 1 2 0 2 5 6 4 3 0 0 0 3 3 5 7 0 6 4 8 8 6 3\n",
              " [6301] 4 6 9 9 8 2 7 7 1 0 1 2 3 4 5 6 7 8 9 0 1 2 3 4 5 6 7 8 0 1 2 3 4 5 6 7\n",
              " [6337] 8 2 1 7 2 5 0 8 0 2 7 8 8 3 6 0 2 7 6 6 1 2 8 8 7 7 4 7 7 3 7 4 5 4 3 3\n",
              " [6373] 8 4 1 1 9 7 4 3 7 3 3 0 2 5 5 6 6 3 5 2 5 9 9 8 4 1 0 6 0 9 6 8 8 5 6 1\n",
              " [6409] 1 9 8 9 2 3 5 5 9 4 2 1 9 3 9 2 0 6 0 4 0 0 1 2 3 4 7 8 9 0 1 2 3 7 8 9\n",
              " [6445] 0 1 2 3 4 7 8 9 7 3 0 3 1 8 7 6 4 0 2 6 8 3 2 8 1 2 0 7 1 0 4 4 5 8 0 6\n",
              " [6481] 2 3 1 5 1 8 5 9 4 0 7 5 8 8 3 8 9 2 6 2 5 3 1 7 3 9 1 9 9 6 0 3 9 2 8 1\n",
              " [6517] 4 3 5 2 9 2 5 8 9 5 0 1 2 4 5 6 0 1 2 3 4 5 6 7 1 2 3 4 5 1 0 4 5 6 6 3\n",
              " [6553] 4 4 2 8 1 0 6 4 9 7 2 3 3 9 2 0 9 3 3 9 1 5 2 3 1 7 8 4 0 2 4 0 2 4 7 8\n",
              " [6589] 0 7 0 6 9 3 2 8 6 3 5 7 5 1 0 8 1 6 7 2 9 7 9 5 8 6 2 6 2 8 1 7 5 0 1 1\n",
              " [6625] 3 2 4 9 1 8 6 8 9 0 1 2 3 4 5 6 7 8 9 0 1 2 3 4 7 8 9 0 1 7 8 9 9 8 9 8\n",
              " [6661] 4 1 7 7 3 3 7 6 6 6 1 9 0 1 7 6 3 2 1 7 1 3 9 1 7 6 8 4 1 4 3 6 9 6 1 4\n",
              " [6697] 4 7 2 4 4 0 1 2 3 4 5 6 7 8 9 0 1 2 3 4 5 6 9 0 1 2 3 4 7 8 1 3 5 1 7 7\n",
              " [6733] 2 1 4 8 3 4 4 3 9 7 4 1 2 3 5 9 1 6 0 1 0 0 2 8 7 1 1 4 0 4 7 3 6 8 0 3\n",
              " [6769] 7 4 0 6 9 2 6 5 8 6 9 0 4 0 6 1 9 2 0 9 5 1 3 7 6 9 3 0 2 2 0 1 2 3 4 5\n",
              " [6805] 6 7 8 9 0 1 2 3 4 5 6 7 8 9 0 1 2 3 4 5 6 7 8 9 2 1 7 2 5 0 8 0 2 7 8 8\n",
              " [6841] 3 0 6 0 2 7 6 6 1 2 8 8 7 7 4 7 7 3 7 4 5 4 3 3 8 4 5 4 1 1 9 7 4 3 7 3\n",
              " [6877] 3 0 2 5 5 6 3 1 5 2 5 9 9 8 4 1 0 6 0 9 6 8 8 5 6 1 1 9 8 9 2 3 5 5 9 4\n",
              " [6913] 2 1 9 4 9 1 3 9 2 0 6 0 4 0 6 0 1 2 3 4 5 6 7 8 9 0 1 2 3 4 5 6 7 8 9 0\n",
              " [6949] 1 2 3 4 5 6 7 8 9 3 8 0 7 1 0 7 5 5 6 9 0 1 0 0 8 3 4 3 1 5 0 0 9 5 3 4\n",
              " [6985] 9 3 7 6 9 2 4 5 7 2 6 4 9 4 9 4 1 2 2 5 8 1 3 2 9 4 3 8 2 2 1 2 8 6 5 1\n",
              " [7021] 6 7 2 1 3 9 3 8 7 5 7 0 7 4 8 8 5 0 6 6 3 7 6 9 9 4 8 4 1 0 6 6 0 1 2 3\n",
              " [7057] 4 5 6 7 8 9 0 1 2 3 4 5 6 7 8 9 0 1 2 3 4 5 6 7 8 9 7 4 0 4 0 1 7 9 5 1\n",
              " [7093] 4 2 8 9 4 3 7 8 2 4 4 3 3 6 9 9 5 8 6 7 0 6 8 2 6 3 9 3 2 8 6 1 7 4 8 8\n",
              " [7129] 9 0 3 3 9 0 5 2 9 4 1 0 3 7 5 8 7 7 8 2 9 7 1 2 6 4 2 5 2 3 6 6 5 0 0 2\n",
              " [7165] 8 1 6 1 0 4 3 1 6 1 9 0 1 4 5 6 7 8 9 1 2 3 4 5 6 7 0 1 2 3 4 5 6 7 8 9\n",
              " [7201] 8 4 0 0 7 2 4 3 8 6 6 3 2 6 3 3 0 1 4 7 8 0 3 1 9 0 1 9 1 2 7 0 1 3 8 2\n",
              " [7237] 9 2 7 6 5 5 9 9 8 2 9 1 3 2 3 4 3 1 9 0 9 3 6 8 7 0 1 0 5 8 2 7 7 0 1 2\n",
              " [7273] 3 4 5 6 7 8 9 0 1 2 3 4 5 6 7 8 9 0 1 2 3 4 5 6 7 8 9 1 7 4 8 1 5 6 5 7\n",
              " [7309] 2 8 6 3 3 8 6 5 4 0 9 1 7 2 9 1 5 1 3 2 2 3 0 6 4 3 7 6 9 0 4 8 1 4 0 6\n",
              " [7345] 1 2 6 9 2 2 3 5 5 1 0 7 7 9 6 2 9 4 7 0 2 3 4 0 0 8 8 8 5 1 3 7 4 9 8 8\n",
              " [7381] 9 0 9 8 9 0 2 6 5 6 7 4 7 5 4 1 3 5 3 1 2 3 4 5 6 1 2 3 4 6 0 1 2 4 5 6\n",
              " [7417] 7 8 1 7 2 4 1 4 1 4 9 6 8 4 5 3 7 8 4 3 3 5 6 7 0 6 1 6 8 7 0 1 5 0 8 5\n",
              " [7453] 0 1 5 8 4 2 3 9 7 6 9 1 9 0 6 7 1 2 3 9 2 4 5 5 3 7 5 3 1 8 2 2 3 0 2 9\n",
              " [7489] 4 9 7 0 2 7 4 9 9 2 5 9 8 3 8 6 7 0 0 1 2 3 4 5 6 7 8 9 0 1 2 3 4 5 6 7\n",
              " [7525] 8 9 0 1 2 3 4 5 6 7 8 9 0 0 7 2 6 5 5 3 7 8 6 6 6 6 4 3 8 8 3 0 1 9 0 5\n",
              " [7561] 4 1 9 1 2 7 0 1 3 8 2 9 2 7 4 2 6 5 5 9 9 1 1 5 7 6 8 2 9 4 3 1 9 0 9 3\n",
              " [7597] 6 8 7 0 1 0 5 8 2 7 7 0 1 2 3 4 5 6 7 8 9 0 1 2 3 4 5 8 9 0 1 2 3 4 5 6\n",
              " [7633] 7 8 9 2 1 2 1 3 9 9 8 5 3 7 0 7 7 5 7 9 9 4 7 0 3 4 1 5 8 1 4 8 4 1 8 6\n",
              " [7669] 6 4 6 0 5 5 3 3 5 7 2 5 9 6 9 2 6 2 1 2 0 8 3 8 3 0 8 7 4 9 5 0 9 7 0 0\n",
              " [7705] 4 6 0 9 1 6 2 7 6 8 3 5 2 1 8 3 8 6 1 0 2 1 4 0 1 2 3 4 5 6 7 8 9 0 1 2\n",
              " [7741] 3 4 5 6 7 8 9 0 1 2 3 4 5 6 7 8 9 7 6 4 7 6 2 3 4 8 7 8 6 9 8 3 2 2 8 4\n",
              " [7777] 8 5 6 5 0 2 0 1 1 2 9 6 8 2 1 0 6 5 2 9 7 5 3 9 3 7 1 8 3 8 1 9 5 5 0 1\n",
              " [7813] 1 9 8 2 6 0 4 5 0 3 1 8 6 7 5 9 9 3 0 3 1 4 4 0 4 9 0 1 2 3 5 6 7 8 0 1\n",
              " [7849] 2 3 5 6 7 8 9 0 1 2 3 5 6 7 8 9 9 7 0 9 0 1 5 8 8 0 9 3 2 7 8 4 6 1 0 4\n",
              " [7885] 9 4 2 0 5 0 1 6 9 3 2 9 1 6 0 1 1 8 7 7 6 3 6 0 7 2 4 1 7 0 6 7 1 2 5 8\n",
              " [7921] 1 8 2 8 7 6 8 7 1 6 2 9 3 0 1 2 3 4 5 6 7 8 9 0 1 2 3 4 5 6 7 8 9 0 1 2\n",
              " [7957] 3 4 5 6 7 8 9 8 9 5 7 0 3 1 6 8 4 1 5 6 4 2 7 8 1 3 4 3 4 7 2 0 5 0 1 9\n",
              " [7993] 2 3 2 3 5 5 7 8 4 9 9 7 1 1 9 0 7 8 3 4 8 6 3 8 0 9 6 2 1 0 1 0 6 2 3 8\n",
              " [8029] 9 0 7 2 3 4 5 5 2 8 5 4 6 6 6 7 9 1 8 2 1 5 3 4 7 9 4 0 0 0 1 2 3 4 5 6\n",
              " [8065] 7 8 9 0 1 2 3 4 5 6 7 8 9 0 1 2 3 4 5 6 9 0 1 3 1 5 1 2 4 9 2 4 6 8 0 1\n",
              " [8101] 1 9 2 6 6 8 7 4 2 9 7 0 2 1 0 3 6 0 1 2 3 4 5 6 7 8 9 0 1 2 3 4 5 6 7 8\n",
              " [8137] 9 0 1 2 3 4 5 6 7 8 9 8 6 5 9 7 0 2 3 4 3 8 5 1 5 2 3 0 1 2 1 3 2 6 5 3\n",
              " [8173] 0 7 2 7 4 6 4 0 5 9 9 8 9 5 3 1 7 4 7 6 5 4 0 0 6 6 2 0 6 3 7 7 4 4 3 9\n",
              " [8209] 2 8 9 6 0 9 5 3 8 8 7 1 4 0 4 8 5 2 3 9 0 1 9 1 5 1 7 4 8 6 2 1 6 8 8 0\n",
              " [8245] 1 2 3 4 7 8 9 0 1 2 3 4 6 7 8 9 0 1 2 3 4 7 8 9 1 4 5 3 3 0 9 5 4 3 0 8\n",
              " [8281] 4 6 7 0 7 7 1 6 9 1 3 6 2 3 8 2 3 8 9 5 8 8 7 1 7 1 1 0 3 4 2 6 4 7 4 2\n",
              " [8317] 7 4 2 9 2 7 9 2 1 0 6 5 3 4 8 5 9 6 9 0 6 3 0 8 1 6 0 0 1 2 3 4 5 6 7 0\n",
              " [8353] 1 2 3 4 7 8 9 0 1 2 3 4 7 2 5 1 6 4 3 9 9 0 9 7 1 6 4 3 6 2 0 9 8 6 5 7\n",
              " [8389] 0 0 1 7 4 3 2 4 1 3 7 6 4 7 7 7 9 8 4 3 8 2 8 3 5 8 0 5 4 7 1 3 1 7 9 6\n",
              " [8425] 2 0 9 1 7 3 3 9 1 6 4 3 9 8 2 1 8 6 4 1 5 5 6 5 0 1 2 3 4 5 6 7 8 9 0 1\n",
              " [8461] 2 3 4 5 6 7 8 9 0 1 2 3 4 5 6 7 8 9 6 9 7 0 2 3 4 3 8 5 1 3 0 1 2 1 3 2\n",
              " [8497] 0 7 2 6 4 0 5 9 9 8 9 5 3 1 7 4 7 0 0 6 6 6 3 7 4 2 8 9 8 7 1 4 0 4 8 5\n",
              " [8533] 2 3 9 0 1 9 1 5 1 7 6 1 2 1 6 8 0 1 2 3 4 5 6 7 8 9 0 1 2 3 4 5 6 7 8 0\n",
              " [8569] 1 2 3 5 6 7 8 1 0 4 5 6 6 3 4 4 2 8 1 0 6 4 9 7 2 9 2 0 9 3 3 9 1 5 2 3\n",
              " [8605] 1 6 7 3 7 8 4 0 2 4 0 2 4 7 8 0 7 0 6 9 3 2 4 8 6 0 5 7 5 1 0 8 1 6 7 2\n",
              " [8641] 9 7 9 5 6 5 2 6 2 8 1 7 5 5 7 3 5 0 1 1 3 8 4 9 4 5 1 8 6 8 9 0 1 2 3 4\n",
              " [8677] 5 6 7 8 9 0 1 2 3 4 5 6 7 8 9 0 1 2 3 4 5 6 7 8 9 3 5 3 2 9 3 2 1 4 5 5\n",
              " [8713] 2 3 2 1 3 9 7 2 1 2 8 9 1 8 8 7 8 1 0 0 6 7 7 8 7 5 0 6 1 5 7 4 6 1 2 5\n",
              " [8749] 0 7 9 9 0 3 4 4 8 4 1 8 6 5 9 0 0 0 3 7 1 6 4 6 0 4 5 4 1 3 8 6 3 9 9 5\n",
              " [8785] 9 3 7 8 5 6 4 7 6 2 2 0 9 4 0 1 2 3 4 5 6 7 8 9 0 1 2 3 4 5 6 7 8 9 0 1\n",
              " [8821] 2 3 4 5 6 7 8 9 6 4 2 6 4 7 5 5 4 7 2 9 3 9 3 8 2 0 9 5 6 0 1 0 6 5 3 5\n",
              " [8857] 3 8 0 0 3 4 1 5 3 0 8 3 0 6 2 7 8 1 7 1 3 8 5 4 2 0 9 7 6 7 4 1 6 2 6 7\n",
              " [8893] 1 9 8 0 6 9 4 9 9 6 2 3 7 1 9 2 2 5 3 7 8 0 1 2 3 4 7 8 9 0 1 2 3 4 7 8\n",
              " [8929] 9 0 1 7 8 9 8 9 2 6 1 3 5 4 8 2 6 4 3 4 5 9 2 0 3 9 4 9 7 3 8 7 4 4 9 8\n",
              " [8965] 5 8 2 6 6 2 3 1 3 2 7 3 1 9 0 1 1 3 5 0 7 8 1 5 1 4 6 0 0 4 9 1 6 6 9 0\n",
              " [9001] 7 6 1 1 0 1 2 3 4 2 2 3 4 5 6 2 0 1 2 7 8 6 3 9 7 1 9 3 9 6 1 7 2 4 4 5\n",
              " [9037] 7 0 0 1 6 6 8 2 7 7 2 4 2 1 6 1 0 6 9 8 3 9 6 3 0 1 2 3 4 5 6 7 8 9 0 1\n",
              " [9073] 2 3 4 5 6 7 8 9 0 1 2 3 4 5 6 7 8 9 1 6 8 9 9 0 1 2 4 4 3 7 4 4 4 0 3 8\n",
              " [9109] 7 5 8 2 1 7 5 3 8 5 2 5 1 1 6 2 1 3 8 6 4 2 6 2 5 5 0 2 8 0 6 8 1 7 9 1\n",
              " [9145] 9 2 6 7 6 6 8 7 4 9 2 1 3 3 0 5 5 8 0 3 7 9 7 0 2 7 9 1 7 8 0 3 5 3 6 0\n",
              " [9181] 1 2 3 4 5 6 7 8 9 0 1 2 3 4 5 6 7 8 9 0 1 2 3 4 7 8 9 6 4 2 6 4 7 8 9 2\n",
              " [9217] 9 3 9 3 0 0 1 0 4 2 6 3 5 3 0 3 4 1 5 3 0 8 3 0 6 1 7 8 0 9 2 6 7 1 9 6\n",
              " [9253] 9 4 9 9 6 7 1 2 5 3 7 8 0 1 2 4 5 6 7 8 9 0 1 3 4 5 6 7 8 0 1 3 4 7 8 9\n",
              " [9289] 7 5 5 1 9 9 7 1 0 0 5 9 7 1 7 2 2 3 6 8 3 2 0 0 6 1 7 5 8 6 2 9 4 8 8 7\n",
              " [9325] 1 0 8 7 7 5 8 5 3 4 6 1 1 5 5 0 7 2 3 6 4 1 2 4 1 5 4 2 0 4 8 6 1 9 0 2\n",
              " [9361] 5 6 9 3 6 3 6 0 1 2 3 4 5 6 7 8 9 0 1 2 3 4 5 6 7 8 9 0 1 2 3 5 6 7 8 1\n",
              " [9397] 0 9 5 7 5 1 8 6 9 0 4 1 9 3 8 4 4 7 0 1 9 2 8 7 8 2 5 9 6 0 6 5 5 3 3 3\n",
              " [9433] 9 8 1 1 0 6 1 0 0 6 2 1 1 3 2 7 7 8 8 7 8 4 6 0 2 0 7 0 3 6 8 7 1 5 9 9\n",
              " [9469] 3 7 2 4 9 4 3 6 2 2 5 3 2 5 5 9 4 1 7 2 0 1 2 3 4 5 6 7 8 9 0 1 2 3 4 5\n",
              " [9505] 6 7 8 9 0 1 2 3 4 5 6 7 8 9 1 0 1 2 7 5 3 4 4 0 0 6 9 6 6 5 7 2 3 4 4 9\n",
              " [9541] 1 4 0 7 9 5 7 2 3 1 4 4 0 9 9 6 1 8 3 3 7 3 9 8 8 4 7 7 6 2 1 9 8 7 8 8\n",
              " [9577] 7 2 2 3 9 3 3 5 5 0 7 4 5 6 5 1 4 1 1 2 8 2 6 1 5 0 1 2 3 4 5 6 7 8 9 0\n",
              " [9613] 1 2 3 4 5 6 7 8 9 0 1 2 3 4 5 6 7 8 8 0 6 0 0 2 3 7 9 4 7 1 9 1 7 1 4 0\n",
              " [9649] 0 1 7 5 7 1 3 3 3 1 6 9 7 1 3 0 7 6 0 8 9 4 3 5 4 8 1 5 9 0 6 3 3 8 1 4\n",
              " [9685] 7 5 2 0 0 1 7 8 7 6 8 8 2 3 6 1 2 9 5 2 0 1 2 3 4 5 6 7 8 9 0 1 2 3 4 5\n",
              " [9721] 6 7 8 9 0 1 2 3 4 6 6 7 8 9 7 4 6 1 4 0 9 9 3 7 8 4 7 5 8 5 3 2 2 0 5 8\n",
              " [9757] 6 0 3 8 1 0 3 0 4 7 4 9 2 9 0 7 1 7 1 6 6 5 6 2 8 7 6 4 9 9 5 3 7 4 3 0\n",
              " [9793] 4 6 6 1 1 3 2 1 0 0 1 2 3 4 7 8 9 0 1 2 3 4 5 6 7 8 0 1 2 3 4 7 8 9 0 8\n",
              " [9829] 3 9 5 5 2 6 8 4 1 7 1 7 3 5 6 9 1 1 1 2 1 2 0 7 7 5 8 2 9 8 6 7 3 4 6 8\n",
              " [9865] 7 0 4 2 7 7 5 4 3 4 2 8 1 5 1 0 2 3 3 5 7 0 6 8 6 3 9 9 8 2 7 7 1 0 1 7\n",
              " [9901] 8 9 0 1 2 3 4 5 6 7 8 0 1 2 3 4 7 8 9 7 8 6 4 1 9 3 8 4 4 7 0 1 9 2 8 7\n",
              " [9937] 8 2 6 0 6 5 3 3 3 9 1 4 0 6 1 0 0 6 2 1 1 7 7 8 4 6 0 7 0 3 6 8 7 1 5 2\n",
              " [9973] 4 9 4 3 6 4 1 7 2 6 6 0 1 2 3 4 5 6 7 8 9 0 1 2 3 4 5 6"
            ],
            "text/latex": "\\begin{enumerate*}\n\\item 7\n\\item 2\n\\item 1\n\\item 0\n\\item 4\n\\item 1\n\\item 4\n\\item 9\n\\item 5\n\\item 9\n\\item 0\n\\item 6\n\\item 9\n\\item 0\n\\item 1\n\\item 5\n\\item 9\n\\item 7\n\\item 3\n\\item 4\n\\item 9\n\\item 6\n\\item 6\n\\item 5\n\\item 4\n\\item 0\n\\item 7\n\\item 4\n\\item 0\n\\item 1\n\\item 3\n\\item 1\n\\item 3\n\\item 4\n\\item 7\n\\item 2\n\\item 7\n\\item 1\n\\item 2\n\\item 1\n\\item 1\n\\item 7\n\\item 4\n\\item 2\n\\item 3\n\\item 5\n\\item 1\n\\item 2\n\\item 4\n\\item 4\n\\item 6\n\\item 3\n\\item 5\n\\item 5\n\\item 6\n\\item 0\n\\item 4\n\\item 1\n\\item 9\n\\item 5\n\\item 7\n\\item 8\n\\item 9\n\\item 3\n\\item 7\n\\item 4\n\\item 6\n\\item 4\n\\item 3\n\\item 0\n\\item 7\n\\item 0\n\\item 2\n\\item 9\n\\item 1\n\\item 7\n\\item 3\n\\item 2\n\\item 9\n\\item 7\n\\item 7\n\\item 6\n\\item 2\n\\item 7\n\\item 8\n\\item 4\n\\item 7\n\\item 3\n\\item 6\n\\item 1\n\\item 3\n\\item 6\n\\item 9\n\\item 3\n\\item 1\n\\item 4\n\\item 1\n\\item 7\n\\item 6\n\\item 9\n\\item 6\n\\item 0\n\\item 5\n\\item 4\n\\item 9\n\\item 9\n\\item 2\n\\item 1\n\\item 9\n\\item 4\n\\item 8\n\\item 7\n\\item 3\n\\item 9\n\\item 7\n\\item 4\n\\item 4\n\\item 4\n\\item 9\n\\item 2\n\\item 5\n\\item 4\n\\item 7\n\\item 6\n\\item 7\n\\item 9\n\\item 0\n\\item 5\n\\item 8\n\\item 5\n\\item 6\n\\item 6\n\\item 5\n\\item 7\n\\item 8\n\\item 1\n\\item 0\n\\item 1\n\\item 6\n\\item 4\n\\item 6\n\\item 7\n\\item 3\n\\item 1\n\\item 7\n\\item 1\n\\item 8\n\\item 2\n\\item 0\n\\item 2\n\\item 9\n\\item 9\n\\item 5\n\\item 5\n\\item 1\n\\item 5\n\\item 6\n\\item 0\n\\item 3\n\\item 4\n\\item 4\n\\item 6\n\\item 5\n\\item 4\n\\item 6\n\\item 5\n\\item 4\n\\item 5\n\\item 1\n\\item 4\n\\item 4\n\\item 7\n\\item 2\n\\item 3\n\\item 2\n\\item 7\n\\item 1\n\\item 8\n\\item 1\n\\item 8\n\\item 1\n\\item 8\n\\item 5\n\\item 0\n\\item 8\n\\item 9\n\\item 2\n\\item 5\n\\item 0\n\\item 1\n\\item 1\n\\item 1\n\\item 0\n\\item 9\n\\item 0\n\\item 3\n\\item 1\n\\item 6\n\\item 4\n\\item 2\n\\item ⋯\n\\item 0\n\\item 0\n\\item 1\n\\item 2\n\\item 3\n\\item 4\n\\item 7\n\\item 8\n\\item 9\n\\item 0\n\\item 1\n\\item 2\n\\item 3\n\\item 4\n\\item 5\n\\item 6\n\\item 7\n\\item 8\n\\item 0\n\\item 1\n\\item 2\n\\item 3\n\\item 4\n\\item 7\n\\item 8\n\\item 9\n\\item 0\n\\item 8\n\\item 3\n\\item 9\n\\item 5\n\\item 5\n\\item 2\n\\item 6\n\\item 8\n\\item 4\n\\item 1\n\\item 7\n\\item 1\n\\item 7\n\\item 3\n\\item 5\n\\item 6\n\\item 9\n\\item 1\n\\item 1\n\\item 1\n\\item 2\n\\item 1\n\\item 2\n\\item 0\n\\item 7\n\\item 7\n\\item 5\n\\item 8\n\\item 2\n\\item 9\n\\item 8\n\\item 6\n\\item 7\n\\item 3\n\\item 4\n\\item 6\n\\item 8\n\\item 7\n\\item 0\n\\item 4\n\\item 2\n\\item 7\n\\item 7\n\\item 5\n\\item 4\n\\item 3\n\\item 4\n\\item 2\n\\item 8\n\\item 1\n\\item 5\n\\item 1\n\\item 0\n\\item 2\n\\item 3\n\\item 3\n\\item 5\n\\item 7\n\\item 0\n\\item 6\n\\item 8\n\\item 6\n\\item 3\n\\item 9\n\\item 9\n\\item 8\n\\item 2\n\\item 7\n\\item 7\n\\item 1\n\\item 0\n\\item 1\n\\item 7\n\\item 8\n\\item 9\n\\item 0\n\\item 1\n\\item 2\n\\item 3\n\\item 4\n\\item 5\n\\item 6\n\\item 7\n\\item 8\n\\item 0\n\\item 1\n\\item 2\n\\item 3\n\\item 4\n\\item 7\n\\item 8\n\\item 9\n\\item 7\n\\item 8\n\\item 6\n\\item 4\n\\item 1\n\\item 9\n\\item 3\n\\item 8\n\\item 4\n\\item 4\n\\item 7\n\\item 0\n\\item 1\n\\item 9\n\\item 2\n\\item 8\n\\item 7\n\\item 8\n\\item 2\n\\item 6\n\\item 0\n\\item 6\n\\item 5\n\\item 3\n\\item 3\n\\item 3\n\\item 9\n\\item 1\n\\item 4\n\\item 0\n\\item 6\n\\item 1\n\\item 0\n\\item 0\n\\item 6\n\\item 2\n\\item 1\n\\item 1\n\\item 7\n\\item 7\n\\item 8\n\\item 4\n\\item 6\n\\item 0\n\\item 7\n\\item 0\n\\item 3\n\\item 6\n\\item 8\n\\item 7\n\\item 1\n\\item 5\n\\item 2\n\\item 4\n\\item 9\n\\item 4\n\\item 3\n\\item 6\n\\item 4\n\\item 1\n\\item 7\n\\item 2\n\\item 6\n\\item 6\n\\item 0\n\\item 1\n\\item 2\n\\item 3\n\\item 4\n\\item 5\n\\item 6\n\\item 7\n\\item 8\n\\item 9\n\\item 0\n\\item 1\n\\item 2\n\\item 3\n\\item 4\n\\item 5\n\\item 6\n\\end{enumerate*}\n",
            "text/markdown": "1. 7\n2. 2\n3. 1\n4. 0\n5. 4\n6. 1\n7. 4\n8. 9\n9. 5\n10. 9\n11. 0\n12. 6\n13. 9\n14. 0\n15. 1\n16. 5\n17. 9\n18. 7\n19. 3\n20. 4\n21. 9\n22. 6\n23. 6\n24. 5\n25. 4\n26. 0\n27. 7\n28. 4\n29. 0\n30. 1\n31. 3\n32. 1\n33. 3\n34. 4\n35. 7\n36. 2\n37. 7\n38. 1\n39. 2\n40. 1\n41. 1\n42. 7\n43. 4\n44. 2\n45. 3\n46. 5\n47. 1\n48. 2\n49. 4\n50. 4\n51. 6\n52. 3\n53. 5\n54. 5\n55. 6\n56. 0\n57. 4\n58. 1\n59. 9\n60. 5\n61. 7\n62. 8\n63. 9\n64. 3\n65. 7\n66. 4\n67. 6\n68. 4\n69. 3\n70. 0\n71. 7\n72. 0\n73. 2\n74. 9\n75. 1\n76. 7\n77. 3\n78. 2\n79. 9\n80. 7\n81. 7\n82. 6\n83. 2\n84. 7\n85. 8\n86. 4\n87. 7\n88. 3\n89. 6\n90. 1\n91. 3\n92. 6\n93. 9\n94. 3\n95. 1\n96. 4\n97. 1\n98. 7\n99. 6\n100. 9\n101. 6\n102. 0\n103. 5\n104. 4\n105. 9\n106. 9\n107. 2\n108. 1\n109. 9\n110. 4\n111. 8\n112. 7\n113. 3\n114. 9\n115. 7\n116. 4\n117. 4\n118. 4\n119. 9\n120. 2\n121. 5\n122. 4\n123. 7\n124. 6\n125. 7\n126. 9\n127. 0\n128. 5\n129. 8\n130. 5\n131. 6\n132. 6\n133. 5\n134. 7\n135. 8\n136. 1\n137. 0\n138. 1\n139. 6\n140. 4\n141. 6\n142. 7\n143. 3\n144. 1\n145. 7\n146. 1\n147. 8\n148. 2\n149. 0\n150. 2\n151. 9\n152. 9\n153. 5\n154. 5\n155. 1\n156. 5\n157. 6\n158. 0\n159. 3\n160. 4\n161. 4\n162. 6\n163. 5\n164. 4\n165. 6\n166. 5\n167. 4\n168. 5\n169. 1\n170. 4\n171. 4\n172. 7\n173. 2\n174. 3\n175. 2\n176. 7\n177. 1\n178. 8\n179. 1\n180. 8\n181. 1\n182. 8\n183. 5\n184. 0\n185. 8\n186. 9\n187. 2\n188. 5\n189. 0\n190. 1\n191. 1\n192. 1\n193. 0\n194. 9\n195. 0\n196. 3\n197. 1\n198. 6\n199. 4\n200. 2\n201. ⋯\n202. 0\n203. 0\n204. 1\n205. 2\n206. 3\n207. 4\n208. 7\n209. 8\n210. 9\n211. 0\n212. 1\n213. 2\n214. 3\n215. 4\n216. 5\n217. 6\n218. 7\n219. 8\n220. 0\n221. 1\n222. 2\n223. 3\n224. 4\n225. 7\n226. 8\n227. 9\n228. 0\n229. 8\n230. 3\n231. 9\n232. 5\n233. 5\n234. 2\n235. 6\n236. 8\n237. 4\n238. 1\n239. 7\n240. 1\n241. 7\n242. 3\n243. 5\n244. 6\n245. 9\n246. 1\n247. 1\n248. 1\n249. 2\n250. 1\n251. 2\n252. 0\n253. 7\n254. 7\n255. 5\n256. 8\n257. 2\n258. 9\n259. 8\n260. 6\n261. 7\n262. 3\n263. 4\n264. 6\n265. 8\n266. 7\n267. 0\n268. 4\n269. 2\n270. 7\n271. 7\n272. 5\n273. 4\n274. 3\n275. 4\n276. 2\n277. 8\n278. 1\n279. 5\n280. 1\n281. 0\n282. 2\n283. 3\n284. 3\n285. 5\n286. 7\n287. 0\n288. 6\n289. 8\n290. 6\n291. 3\n292. 9\n293. 9\n294. 8\n295. 2\n296. 7\n297. 7\n298. 1\n299. 0\n300. 1\n301. 7\n302. 8\n303. 9\n304. 0\n305. 1\n306. 2\n307. 3\n308. 4\n309. 5\n310. 6\n311. 7\n312. 8\n313. 0\n314. 1\n315. 2\n316. 3\n317. 4\n318. 7\n319. 8\n320. 9\n321. 7\n322. 8\n323. 6\n324. 4\n325. 1\n326. 9\n327. 3\n328. 8\n329. 4\n330. 4\n331. 7\n332. 0\n333. 1\n334. 9\n335. 2\n336. 8\n337. 7\n338. 8\n339. 2\n340. 6\n341. 0\n342. 6\n343. 5\n344. 3\n345. 3\n346. 3\n347. 9\n348. 1\n349. 4\n350. 0\n351. 6\n352. 1\n353. 0\n354. 0\n355. 6\n356. 2\n357. 1\n358. 1\n359. 7\n360. 7\n361. 8\n362. 4\n363. 6\n364. 0\n365. 7\n366. 0\n367. 3\n368. 6\n369. 8\n370. 7\n371. 1\n372. 5\n373. 2\n374. 4\n375. 9\n376. 4\n377. 3\n378. 6\n379. 4\n380. 1\n381. 7\n382. 2\n383. 6\n384. 6\n385. 0\n386. 1\n387. 2\n388. 3\n389. 4\n390. 5\n391. 6\n392. 7\n393. 8\n394. 9\n395. 0\n396. 1\n397. 2\n398. 3\n399. 4\n400. 5\n401. 6\n\n\n",
            "text/html": [
              "<style>\n",
              ".list-inline {list-style: none; margin:0; padding: 0}\n",
              ".list-inline>li {display: inline-block}\n",
              ".list-inline>li:not(:last-child)::after {content: \"\\00b7\"; padding: 0 .5ex}\n",
              "</style>\n",
              "<ol class=list-inline><li>7</li><li>2</li><li>1</li><li>0</li><li>4</li><li>1</li><li>4</li><li>9</li><li>5</li><li>9</li><li>0</li><li>6</li><li>9</li><li>0</li><li>1</li><li>5</li><li>9</li><li>7</li><li>3</li><li>4</li><li>9</li><li>6</li><li>6</li><li>5</li><li>4</li><li>0</li><li>7</li><li>4</li><li>0</li><li>1</li><li>3</li><li>1</li><li>3</li><li>4</li><li>7</li><li>2</li><li>7</li><li>1</li><li>2</li><li>1</li><li>1</li><li>7</li><li>4</li><li>2</li><li>3</li><li>5</li><li>1</li><li>2</li><li>4</li><li>4</li><li>6</li><li>3</li><li>5</li><li>5</li><li>6</li><li>0</li><li>4</li><li>1</li><li>9</li><li>5</li><li>7</li><li>8</li><li>9</li><li>3</li><li>7</li><li>4</li><li>6</li><li>4</li><li>3</li><li>0</li><li>7</li><li>0</li><li>2</li><li>9</li><li>1</li><li>7</li><li>3</li><li>2</li><li>9</li><li>7</li><li>7</li><li>6</li><li>2</li><li>7</li><li>8</li><li>4</li><li>7</li><li>3</li><li>6</li><li>1</li><li>3</li><li>6</li><li>9</li><li>3</li><li>1</li><li>4</li><li>1</li><li>7</li><li>6</li><li>9</li><li>6</li><li>0</li><li>5</li><li>4</li><li>9</li><li>9</li><li>2</li><li>1</li><li>9</li><li>4</li><li>8</li><li>7</li><li>3</li><li>9</li><li>7</li><li>4</li><li>4</li><li>4</li><li>9</li><li>2</li><li>5</li><li>4</li><li>7</li><li>6</li><li>7</li><li>9</li><li>0</li><li>5</li><li>8</li><li>5</li><li>6</li><li>6</li><li>5</li><li>7</li><li>8</li><li>1</li><li>0</li><li>1</li><li>6</li><li>4</li><li>6</li><li>7</li><li>3</li><li>1</li><li>7</li><li>1</li><li>8</li><li>2</li><li>0</li><li>2</li><li>9</li><li>9</li><li>5</li><li>5</li><li>1</li><li>5</li><li>6</li><li>0</li><li>3</li><li>4</li><li>4</li><li>6</li><li>5</li><li>4</li><li>6</li><li>5</li><li>4</li><li>5</li><li>1</li><li>4</li><li>4</li><li>7</li><li>2</li><li>3</li><li>2</li><li>7</li><li>1</li><li>8</li><li>1</li><li>8</li><li>1</li><li>8</li><li>5</li><li>0</li><li>8</li><li>9</li><li>2</li><li>5</li><li>0</li><li>1</li><li>1</li><li>1</li><li>0</li><li>9</li><li>0</li><li>3</li><li>1</li><li>6</li><li>4</li><li>2</li><li>⋯</li><li>0</li><li>0</li><li>1</li><li>2</li><li>3</li><li>4</li><li>7</li><li>8</li><li>9</li><li>0</li><li>1</li><li>2</li><li>3</li><li>4</li><li>5</li><li>6</li><li>7</li><li>8</li><li>0</li><li>1</li><li>2</li><li>3</li><li>4</li><li>7</li><li>8</li><li>9</li><li>0</li><li>8</li><li>3</li><li>9</li><li>5</li><li>5</li><li>2</li><li>6</li><li>8</li><li>4</li><li>1</li><li>7</li><li>1</li><li>7</li><li>3</li><li>5</li><li>6</li><li>9</li><li>1</li><li>1</li><li>1</li><li>2</li><li>1</li><li>2</li><li>0</li><li>7</li><li>7</li><li>5</li><li>8</li><li>2</li><li>9</li><li>8</li><li>6</li><li>7</li><li>3</li><li>4</li><li>6</li><li>8</li><li>7</li><li>0</li><li>4</li><li>2</li><li>7</li><li>7</li><li>5</li><li>4</li><li>3</li><li>4</li><li>2</li><li>8</li><li>1</li><li>5</li><li>1</li><li>0</li><li>2</li><li>3</li><li>3</li><li>5</li><li>7</li><li>0</li><li>6</li><li>8</li><li>6</li><li>3</li><li>9</li><li>9</li><li>8</li><li>2</li><li>7</li><li>7</li><li>1</li><li>0</li><li>1</li><li>7</li><li>8</li><li>9</li><li>0</li><li>1</li><li>2</li><li>3</li><li>4</li><li>5</li><li>6</li><li>7</li><li>8</li><li>0</li><li>1</li><li>2</li><li>3</li><li>4</li><li>7</li><li>8</li><li>9</li><li>7</li><li>8</li><li>6</li><li>4</li><li>1</li><li>9</li><li>3</li><li>8</li><li>4</li><li>4</li><li>7</li><li>0</li><li>1</li><li>9</li><li>2</li><li>8</li><li>7</li><li>8</li><li>2</li><li>6</li><li>0</li><li>6</li><li>5</li><li>3</li><li>3</li><li>3</li><li>9</li><li>1</li><li>4</li><li>0</li><li>6</li><li>1</li><li>0</li><li>0</li><li>6</li><li>2</li><li>1</li><li>1</li><li>7</li><li>7</li><li>8</li><li>4</li><li>6</li><li>0</li><li>7</li><li>0</li><li>3</li><li>6</li><li>8</li><li>7</li><li>1</li><li>5</li><li>2</li><li>4</li><li>9</li><li>4</li><li>3</li><li>6</li><li>4</li><li>1</li><li>7</li><li>2</li><li>6</li><li>6</li><li>0</li><li>1</li><li>2</li><li>3</li><li>4</li><li>5</li><li>6</li><li>7</li><li>8</li><li>9</li><li>0</li><li>1</li><li>2</li><li>3</li><li>4</li><li>5</li><li>6</li></ol>\n"
            ]
          },
          "metadata": {
            "tags": []
          }
        }
      ]
    },
    {
      "cell_type": "markdown",
      "metadata": {
        "id": "R3_eCtboxDj6"
      },
      "source": [
        "Guardamos el archivo del modelo en drive. "
      ]
    },
    {
      "cell_type": "code",
      "metadata": {
        "colab": {
          "base_uri": "https://localhost:8080/"
        },
        "id": "1Ewt5dtJuTj9",
        "outputId": "52b1c5a7-e26c-44b1-ed6a-94121501ea55"
      },
      "source": [
        "drive_upload('mnist_weights.hdf5')"
      ],
      "execution_count": null,
      "outputs": [
        {
          "output_type": "stream",
          "text": [
            "Local file:\n",
            "  * mnist_weights.hdf5\n",
            "uploaded into Drive file:\n",
            "  * mnist_weights.hdf5: 11SPSA5Tdez1uDDvIDrnbKTy4vKhYNfm0\n",
            "with MIME type:\n",
            "  * application/octet-stream\n",
            "\n"
          ],
          "name": "stderr"
        }
      ]
    },
    {
      "cell_type": "markdown",
      "metadata": {
        "id": "cjqXdtryxPj0"
      },
      "source": [
        "IMPORTANTE: Guardar archivos que se vayan a reutilizar en drive o descargarlos en local. Una vez que Google colab se desactive, se eliminarán todos los archivos en la máquina virtual."
      ]
    }
  ]
}