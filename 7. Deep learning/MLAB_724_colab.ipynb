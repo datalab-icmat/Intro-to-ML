{
  "nbformat": 4,
  "nbformat_minor": 0,
  "metadata": {
    "colab": {
      "provenance": []
    },
    "kernelspec": {
      "name": "ir",
      "display_name": "R"
    },
    "language_info": {
      "name": "R"
    },
    "accelerator": "GPU"
  },
  "cells": [
    {
      "cell_type": "markdown",
      "metadata": {
        "id": "yRTrmuIKMpc3"
      },
      "source": [
        "# MLlab-7-2. Aprendizaje profundo para visión. (Google colab)\n",
        "\n",
        "## Autor: David Ríos Insua"
      ]
    },
    {
      "cell_type": "markdown",
      "metadata": {
        "id": "oWjfVbmWMw7Z"
      },
      "source": [
        "## **¡¡¡ IMPORTANTE: REVISAR QUE LA GPU ESTÁ ACTIVADA !!!**"
      ]
    },
    {
      "cell_type": "markdown",
      "metadata": {
        "id": "R2Ab6oqhCRXh"
      },
      "source": [
        "Instalar libreria para medir tiempo"
      ]
    },
    {
      "cell_type": "code",
      "metadata": {
        "colab": {
          "base_uri": "https://localhost:8080/"
        },
        "id": "VrG4B2csCPKo",
        "outputId": "b225f7fb-3fcc-43a9-a4f3-33e9f25435ff"
      },
      "source": [
        "install.packages('tictoc')"
      ],
      "execution_count": null,
      "outputs": [
        {
          "output_type": "stream",
          "text": [
            "Installing package into ‘/usr/local/lib/R/site-library’\n",
            "(as ‘lib’ is unspecified)\n",
            "\n"
          ],
          "name": "stderr"
        }
      ]
    },
    {
      "cell_type": "code",
      "metadata": {
        "id": "wT4QBvdCDj5_"
      },
      "source": [
        "library(tictoc)"
      ],
      "execution_count": null,
      "outputs": []
    },
    {
      "cell_type": "markdown",
      "metadata": {
        "id": "XMzv4FHyubJ2"
      },
      "source": [
        "Instalar librerias necesarias para el funcionamiento de Keras en Google Colab."
      ]
    },
    {
      "cell_type": "code",
      "metadata": {
        "colab": {
          "base_uri": "https://localhost:8080/"
        },
        "id": "K68tgqy0rNhp",
        "outputId": "cec438be-30c5-4bb4-aea5-b851004856d8"
      },
      "source": [
        "tic()\n",
        "install.packages('keras')\n",
        "install.packages('tfdatasets')\n",
        "install.packages('tfautograph')\n",
        "install.packages('reticulate')\n",
        "toc()"
      ],
      "execution_count": null,
      "outputs": [
        {
          "output_type": "stream",
          "text": [
            "Installing package into ‘/usr/local/lib/R/site-library’\n",
            "(as ‘lib’ is unspecified)\n",
            "\n",
            "also installing the dependencies ‘png’, ‘config’, ‘reticulate’, ‘tensorflow’, ‘tfruns’, ‘zeallot’\n",
            "\n",
            "\n",
            "Installing package into ‘/usr/local/lib/R/site-library’\n",
            "(as ‘lib’ is unspecified)\n",
            "\n",
            "Installing package into ‘/usr/local/lib/R/site-library’\n",
            "(as ‘lib’ is unspecified)\n",
            "\n",
            "Installing package into ‘/usr/local/lib/R/site-library’\n",
            "(as ‘lib’ is unspecified)\n",
            "\n"
          ],
          "name": "stderr"
        },
        {
          "output_type": "stream",
          "text": [
            "120.194 sec elapsed\n"
          ],
          "name": "stdout"
        }
      ]
    },
    {
      "cell_type": "markdown",
      "metadata": {
        "id": "kOzKjkltun3L"
      },
      "source": [
        "Cargar librerias para el lab."
      ]
    },
    {
      "cell_type": "code",
      "metadata": {
        "id": "Zg6aI2Cxqf5r"
      },
      "source": [
        "library(keras)\n",
        "library(tfdatasets)\n",
        "library(tfautograph)\n",
        "library(reticulate)\n",
        "library(purrr)\n"
      ],
      "execution_count": null,
      "outputs": []
    },
    {
      "cell_type": "markdown",
      "metadata": {
        "id": "9cXC6fx3M5T0"
      },
      "source": [
        "# Introducción\n",
        "\n",
        "En este lab realizamos varios ejercicios en relación con \n",
        "con aprendizaje profundo y visión por ordenador\n",
        "con ayuda de Keras. Hacemos una versión en PC pero la \n",
        "completaremos con una sesión en Google Colab.\n"
      ]
    },
    {
      "cell_type": "markdown",
      "metadata": {
        "id": "k0WmceB1NBaF"
      },
      "source": [
        "# Recordatorio"
      ]
    },
    {
      "cell_type": "markdown",
      "metadata": {
        "id": "tnxtFglwNQ5d"
      },
      "source": [
        "Recuerda que hicimos ya un primer ejemplo con Keras.\n",
        "Por si no lo hiciste, recuerda que has de cargarlo.\n",
        "\n",
        "Copiamos lo que dijimos entonces. Echamos un ojito en  <https://blog.rstudio.com/2017/09/05/keras-for-r/> y \n",
        "<https://tensorflow.rstudio.com/tutorials/beginners/basic-ml/>. Más breve con \n",
        "help(Keras). Esencialmente\n",
        "tenemos que instalarla el paquete Keras R, cargar el núcleo de keras y luego\n",
        "con install_keras() cargamos también TensorFlow (esto se hace una vez, reinicializa\n",
        "RStudio cuando lo hayas hecho lo comentas)\n"
      ]
    },
    {
      "cell_type": "code",
      "metadata": {
        "id": "OkycoNE1M31k"
      },
      "source": [
        "help(keras)"
      ],
      "execution_count": null,
      "outputs": []
    },
    {
      "cell_type": "markdown",
      "metadata": {
        "id": "4YG2KWmTNxXH"
      },
      "source": [
        "## Ahora con una red convolutiva\n",
        "\n",
        "En esta parte, repetimos el análisis con una red convolutiva.\n",
        "Cargamos keras y definimos la función auxiliar.\n",
        "Cargamos los datos. \n",
        "Todo como antes, pero lo ponemos otra vez por si estáis empezando por aquí.\n",
        "\n"
      ]
    },
    {
      "cell_type": "code",
      "metadata": {
        "id": "6Tzhl3XfMmOh"
      },
      "source": [
        "show_digit = function(img){\n",
        "  img = t( apply(img, 2, rev) )\n",
        "  image( img )\n",
        "}\n",
        "\n",
        "img_rows <- 28\n",
        "img_cols <- 28\n",
        "\n",
        "mnist <- dataset_mnist()\n",
        "x_train <- mnist$train$x\n",
        "y_train <- mnist$train$y\n",
        "x_test <- mnist$test$x\n",
        "y_test <- mnist$test$y\n"
      ],
      "execution_count": null,
      "outputs": []
    },
    {
      "cell_type": "markdown",
      "metadata": {
        "id": "MZvraWy3OOEP"
      },
      "source": [
        "Aquí mostramos otra formas de aplanar las imágenes \n",
        "con array reshape de keras. Luego escalamos como antes. Y convertimos las etiquetas como antes."
      ]
    },
    {
      "cell_type": "code",
      "metadata": {
        "colab": {
          "base_uri": "https://localhost:8080/"
        },
        "id": "4bxXydDHONcz",
        "outputId": "a3ed7435-8beb-4046-b76d-fb9ec92914e8"
      },
      "source": [
        "x_train <- array_reshape(x_train, c(nrow(x_train), img_rows, img_cols, 1))\n",
        "x_test <- array_reshape(x_test, c(nrow(x_test), img_rows, img_cols, 1))\n",
        "input_shape <- c(img_rows, img_cols, 1)\n",
        "\n",
        "x_train <- x_train / 255\n",
        "x_test <- x_test / 255\n",
        "\n",
        "cat('x_train_shape:', dim(x_train), '\\n')\n",
        "cat(nrow(x_train), 'train samples\\n')\n",
        "cat(nrow(x_test), 'test samples\\n')\n",
        "\n",
        "num_classes <- 10\n",
        "y_train <- to_categorical(y_train, num_classes)\n",
        "y_test <- to_categorical(y_test, num_classes)"
      ],
      "execution_count": null,
      "outputs": [
        {
          "output_type": "stream",
          "text": [
            "x_train_shape: 60000 28 28 1 \n",
            "60000 train samples\n",
            "10000 test samples\n"
          ],
          "name": "stdout"
        }
      ]
    },
    {
      "cell_type": "markdown",
      "metadata": {
        "id": "EZHbey34Oie-"
      },
      "source": [
        "Pasamos ya a definir la red convolutiva profunda con estas \n",
        "características. \n",
        "\n",
        "1. Define una red convolutiva:\n",
        "\n",
        "  1. Capa convolutiva de 32 filtros, kernel $3\\times 3$ y activaciones ReLU\n",
        "  2. Capa convolutiva de 64 filtros, kernel $3\\times 3$ y activaciones ReLU\n",
        "  3. Max pooling de tamaño $2 \\times 2$\n",
        "  4. Dropout ($0.25$)\n",
        "  5. Capa densa de 128 unidades y activación ReLU\n",
        "  6. Dropout ($0.5$)\n",
        "  7. Capa de salida\n",
        "\n",
        "Previa a la definción miramos los nuevos comandados.\n"
      ]
    },
    {
      "cell_type": "code",
      "metadata": {
        "id": "QCzzJBUePmKM"
      },
      "source": [
        "# help(\"layer_conv_2d\")\n",
        "# help(\"layer_max_pooling_2d\")\n",
        "# help(\"layer_flatten\")\n",
        "model <- keras_model_sequential() %>%\n",
        "  layer_conv_2d(filters = 32, kernel_size = c(3,3), activation = 'relu',\n",
        "                input_shape = input_shape) %>% \n",
        "  layer_conv_2d(filters = 64, kernel_size = c(3,3), activation = 'relu') %>% \n",
        "  layer_max_pooling_2d(pool_size = c(2, 2)) %>% \n",
        "  layer_dropout(rate = 0.25) %>% \n",
        "  layer_flatten() %>% \n",
        "  layer_dense(units = 128, activation = 'relu') %>% \n",
        "  layer_dropout(rate = 0.5) %>% \n",
        "  layer_dense(units = num_classes, activation = 'softmax')\n"
      ],
      "execution_count": null,
      "outputs": []
    },
    {
      "cell_type": "markdown",
      "metadata": {
        "id": "3WChcuoqPwmJ"
      },
      "source": [
        "Compilamos el modelo con Adam\n"
      ]
    },
    {
      "cell_type": "code",
      "metadata": {
        "id": "QhbefM7TPqhY"
      },
      "source": [
        "model %>% compile(\n",
        "  loss = loss_categorical_crossentropy,\n",
        "  optimizer = optimizer_adam(),\n",
        "  metrics = c('accuracy')\n",
        ")"
      ],
      "execution_count": null,
      "outputs": []
    },
    {
      "cell_type": "markdown",
      "metadata": {
        "id": "haxvmWOrP29n"
      },
      "source": [
        "Entrenamos modelo durante 12 épocas, con tamaño de minibatch 128 y 20%\n",
        "de split para validación.\n"
      ]
    },
    {
      "cell_type": "code",
      "metadata": {
        "id": "JCKRWJJfP56x",
        "colab": {
          "base_uri": "https://localhost:8080/",
          "height": 505
        },
        "outputId": "674a6987-4e28-495e-f6ef-d83e5b438f83"
      },
      "source": [
        "tic()\n",
        "batch_size <- 128\n",
        "epochs <- 12\n",
        "history<-model %>% fit(\n",
        "  x_train, y_train,\n",
        "  batch_size = batch_size,\n",
        "  epochs = epochs,\n",
        "  validation_split = 0.2,\n",
        "  verbose=2)\n",
        "\n",
        "plot(history)\n",
        "\n",
        "model %>% evaluate(x_test, y_test,verbose = 2)\n",
        "toc()"
      ],
      "execution_count": null,
      "outputs": [
        {
          "output_type": "stream",
          "text": [
            "`geom_smooth()` using formula 'y ~ x'\n",
            "\n"
          ],
          "name": "stderr"
        },
        {
          "output_type": "display_data",
          "data": {
            "text/plain": [
              "      loss   accuracy \n",
              "0.03128691 0.99169999 "
            ],
            "text/latex": "\\begin{description*}\n\\item[loss] 0.0312869064509869\n\\item[accuracy] 0.991699993610382\n\\end{description*}\n",
            "text/markdown": "loss\n:   0.0312869064509869accuracy\n:   0.991699993610382\n\n",
            "text/html": [
              "<style>\n",
              ".dl-inline {width: auto; margin:0; padding: 0}\n",
              ".dl-inline>dt, .dl-inline>dd {float: none; width: auto; display: inline-block}\n",
              ".dl-inline>dt::after {content: \":\\0020\"; padding-right: .5ex}\n",
              ".dl-inline>dt:not(:first-of-type) {padding-left: .5ex}\n",
              "</style><dl class=dl-inline><dt>loss</dt><dd>0.0312869064509869</dd><dt>accuracy</dt><dd>0.991699993610382</dd></dl>\n"
            ]
          },
          "metadata": {
            "tags": []
          }
        },
        {
          "output_type": "stream",
          "text": [
            "61.439 sec elapsed\n"
          ],
          "name": "stdout"
        },
        {
          "output_type": "display_data",
          "data": {
            "image/png": "[encoded data removed]",
            "text/plain": [
              "plot without title"
            ]
          },
          "metadata": {
            "tags": [],
            "image/png": {
              "width": 420,
              "height": 420
            }
          }
        }
      ]
    },
    {
      "cell_type": "markdown",
      "metadata": {
        "id": "j1DR9kTutqB_"
      },
      "source": [
        "NOTA: No se muestra en la interfaz el avance de las epochs como si pasa en local."
      ]
    }
  ]
}